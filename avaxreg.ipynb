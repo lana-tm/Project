{
 "cells": [
  {
   "cell_type": "markdown",
   "id": "43ead17a-6203-4f92-902f-8a0da96ec364",
   "metadata": {},
   "source": [
    "# AVAX Model"
   ]
  },
  {
   "cell_type": "code",
   "execution_count": 154,
   "id": "b97abfa6-2565-4de7-bd47-ac5ee9057ef7",
   "metadata": {},
   "outputs": [],
   "source": [
    "# Importing Python Packages"
   ]
  },
  {
   "cell_type": "code",
   "execution_count": 155,
   "id": "0af2cbc9-0ff6-4805-996e-a55fce82bc32",
   "metadata": {},
   "outputs": [],
   "source": [
    "import numpy as np\n",
    "import pandas as pd\n",
    "from pandas_datareader import data \n",
    "import matplotlib.pyplot as plt\n",
    "%matplotlib inline"
   ]
  },
  {
   "cell_type": "code",
   "execution_count": 157,
   "id": "5466dcf1-32a3-4f32-9a65-2956a2c002d3",
   "metadata": {},
   "outputs": [
    {
     "data": {
      "text/plain": [
       "Index(['Price', 'Volume', 'CirSupply', 'Velocity', 'Valuation'], dtype='object')"
      ]
     },
     "execution_count": 157,
     "metadata": {},
     "output_type": "execute_result"
    }
   ],
   "source": [
    "# Downloading data\n",
    "\n",
    "df = pd.read_csv('avax.csv', index_col = 'Date')\n",
    "df.index = pd.to_datetime (df.index)\n",
    "df.columns"
   ]
  },
  {
   "cell_type": "markdown",
   "id": "9258bdc7-0c5f-4f86-9d19-d716f648815e",
   "metadata": {},
   "source": [
    "# Correlation Matrix"
   ]
  },
  {
   "cell_type": "code",
   "execution_count": 158,
   "id": "265ac423-bf64-4a4e-9ccb-5385f637faee",
   "metadata": {},
   "outputs": [
    {
     "name": "stderr",
     "output_type": "stream",
     "text": [
      "/Users/svetlanatimchenko/opt/anaconda3/lib/python3.9/site-packages/pandas/core/arraylike.py:364: RuntimeWarning: divide by zero encountered in log\n",
      "  result = getattr(ufunc, method)(*inputs, **kwargs)\n"
     ]
    },
    {
     "data": {
      "text/html": [
       "<div>\n",
       "<style scoped>\n",
       "    .dataframe tbody tr th:only-of-type {\n",
       "        vertical-align: middle;\n",
       "    }\n",
       "\n",
       "    .dataframe tbody tr th {\n",
       "        vertical-align: top;\n",
       "    }\n",
       "\n",
       "    .dataframe thead th {\n",
       "        text-align: right;\n",
       "    }\n",
       "</style>\n",
       "<table border=\"1\" class=\"dataframe\">\n",
       "  <thead>\n",
       "    <tr style=\"text-align: right;\">\n",
       "      <th></th>\n",
       "      <th>Price</th>\n",
       "      <th>Volume</th>\n",
       "      <th>CirSupply</th>\n",
       "      <th>Velocity</th>\n",
       "      <th>Valuation</th>\n",
       "    </tr>\n",
       "  </thead>\n",
       "  <tbody>\n",
       "    <tr>\n",
       "      <th>Price</th>\n",
       "      <td>0.006358</td>\n",
       "      <td>0.001236</td>\n",
       "      <td>0.000178</td>\n",
       "      <td>0.001147</td>\n",
       "      <td>0.008471</td>\n",
       "    </tr>\n",
       "    <tr>\n",
       "      <th>Volume</th>\n",
       "      <td>0.001236</td>\n",
       "      <td>0.164914</td>\n",
       "      <td>0.001552</td>\n",
       "      <td>0.161761</td>\n",
       "      <td>0.323642</td>\n",
       "    </tr>\n",
       "    <tr>\n",
       "      <th>CirSupply</th>\n",
       "      <td>0.000178</td>\n",
       "      <td>0.001552</td>\n",
       "      <td>0.002314</td>\n",
       "      <td>-0.000809</td>\n",
       "      <td>-0.001498</td>\n",
       "    </tr>\n",
       "    <tr>\n",
       "      <th>Velocity</th>\n",
       "      <td>0.001147</td>\n",
       "      <td>0.161761</td>\n",
       "      <td>-0.000809</td>\n",
       "      <td>0.168159</td>\n",
       "      <td>0.323384</td>\n",
       "    </tr>\n",
       "    <tr>\n",
       "      <th>Valuation</th>\n",
       "      <td>0.008471</td>\n",
       "      <td>0.323642</td>\n",
       "      <td>-0.001498</td>\n",
       "      <td>0.323384</td>\n",
       "      <td>0.659389</td>\n",
       "    </tr>\n",
       "  </tbody>\n",
       "</table>\n",
       "</div>"
      ],
      "text/plain": [
       "              Price    Volume  CirSupply  Velocity  Valuation\n",
       "Price      0.006358  0.001236   0.000178  0.001147   0.008471\n",
       "Volume     0.001236  0.164914   0.001552  0.161761   0.323642\n",
       "CirSupply  0.000178  0.001552   0.002314 -0.000809  -0.001498\n",
       "Velocity   0.001147  0.161761  -0.000809  0.168159   0.323384\n",
       "Valuation  0.008471  0.323642  -0.001498  0.323384   0.659389"
      ]
     },
     "execution_count": 158,
     "metadata": {},
     "output_type": "execute_result"
    }
   ],
   "source": [
    "cov_matrix = df.pct_change().apply(lambda x: np.log(1+x)).cov() \n",
    "cov_matrix"
   ]
  },
  {
   "cell_type": "code",
   "execution_count": 159,
   "id": "8c17136a-4e93-4991-b7a0-9641515fde1c",
   "metadata": {},
   "outputs": [
    {
     "name": "stderr",
     "output_type": "stream",
     "text": [
      "/Users/svetlanatimchenko/opt/anaconda3/lib/python3.9/site-packages/pandas/core/arraylike.py:364: RuntimeWarning: divide by zero encountered in log\n",
      "  result = getattr(ufunc, method)(*inputs, **kwargs)\n"
     ]
    },
    {
     "data": {
      "text/html": [
       "<div>\n",
       "<style scoped>\n",
       "    .dataframe tbody tr th:only-of-type {\n",
       "        vertical-align: middle;\n",
       "    }\n",
       "\n",
       "    .dataframe tbody tr th {\n",
       "        vertical-align: top;\n",
       "    }\n",
       "\n",
       "    .dataframe thead th {\n",
       "        text-align: right;\n",
       "    }\n",
       "</style>\n",
       "<table border=\"1\" class=\"dataframe\">\n",
       "  <thead>\n",
       "    <tr style=\"text-align: right;\">\n",
       "      <th></th>\n",
       "      <th>Price</th>\n",
       "      <th>Volume</th>\n",
       "      <th>CirSupply</th>\n",
       "      <th>Velocity</th>\n",
       "      <th>Valuation</th>\n",
       "    </tr>\n",
       "  </thead>\n",
       "  <tbody>\n",
       "    <tr>\n",
       "      <th>Price</th>\n",
       "      <td>1.000000</td>\n",
       "      <td>0.038158</td>\n",
       "      <td>0.046306</td>\n",
       "      <td>0.035078</td>\n",
       "      <td>0.129252</td>\n",
       "    </tr>\n",
       "    <tr>\n",
       "      <th>Volume</th>\n",
       "      <td>0.038158</td>\n",
       "      <td>1.000000</td>\n",
       "      <td>0.079458</td>\n",
       "      <td>0.971371</td>\n",
       "      <td>0.979546</td>\n",
       "    </tr>\n",
       "    <tr>\n",
       "      <th>CirSupply</th>\n",
       "      <td>0.046306</td>\n",
       "      <td>0.079458</td>\n",
       "      <td>1.000000</td>\n",
       "      <td>-0.041005</td>\n",
       "      <td>-0.037734</td>\n",
       "    </tr>\n",
       "    <tr>\n",
       "      <th>Velocity</th>\n",
       "      <td>0.035078</td>\n",
       "      <td>0.971371</td>\n",
       "      <td>-0.041005</td>\n",
       "      <td>1.000000</td>\n",
       "      <td>0.967967</td>\n",
       "    </tr>\n",
       "    <tr>\n",
       "      <th>Valuation</th>\n",
       "      <td>0.129252</td>\n",
       "      <td>0.979546</td>\n",
       "      <td>-0.037734</td>\n",
       "      <td>0.967967</td>\n",
       "      <td>1.000000</td>\n",
       "    </tr>\n",
       "  </tbody>\n",
       "</table>\n",
       "</div>"
      ],
      "text/plain": [
       "              Price    Volume  CirSupply  Velocity  Valuation\n",
       "Price      1.000000  0.038158   0.046306  0.035078   0.129252\n",
       "Volume     0.038158  1.000000   0.079458  0.971371   0.979546\n",
       "CirSupply  0.046306  0.079458   1.000000 -0.041005  -0.037734\n",
       "Velocity   0.035078  0.971371  -0.041005  1.000000   0.967967\n",
       "Valuation  0.129252  0.979546  -0.037734  0.967967   1.000000"
      ]
     },
     "execution_count": 159,
     "metadata": {},
     "output_type": "execute_result"
    }
   ],
   "source": [
    "corr_matrix = df.pct_change().apply(lambda x: np.log(1+x)).corr() \n",
    "corr_matrix"
   ]
  },
  {
   "cell_type": "code",
   "execution_count": 160,
   "id": "56df00f1-4136-4711-adee-d372ca5c570e",
   "metadata": {},
   "outputs": [],
   "source": [
    "import statsmodels.api as sm"
   ]
  },
  {
   "cell_type": "code",
   "execution_count": 161,
   "id": "66151c72-cec6-4900-82d5-2ea2b7140277",
   "metadata": {},
   "outputs": [
    {
     "data": {
      "image/png": "[encoded data removed]",
      "text/plain": [
       "<Figure size 432x288 with 2 Axes>"
      ]
     },
     "metadata": {
      "needs_background": "light"
     },
     "output_type": "display_data"
    }
   ],
   "source": [
    "sm.graphics.plot_corr(corr_matrix, xnames=list(corr_matrix.columns))\n",
    "plt.show()"
   ]
  },
  {
   "cell_type": "code",
   "execution_count": 162,
   "id": "0dbd1725-6fe1-45e4-b244-13156214a45f",
   "metadata": {},
   "outputs": [],
   "source": [
    "val = df ['Valuation']"
   ]
  },
  {
   "cell_type": "code",
   "execution_count": 163,
   "id": "7ce7a401-3e1f-4b20-832e-b6308bb312d6",
   "metadata": {},
   "outputs": [
    {
     "data": {
      "text/plain": [
       "count    695.000000\n",
       "mean       0.365525\n",
       "std        0.746331\n",
       "min        0.000000\n",
       "25%        0.080000\n",
       "50%        0.200000\n",
       "75%        0.390000\n",
       "max       15.270000\n",
       "Name: Valuation, dtype: float64"
      ]
     },
     "execution_count": 163,
     "metadata": {},
     "output_type": "execute_result"
    }
   ],
   "source": [
    "val.describe()"
   ]
  },
  {
   "cell_type": "markdown",
   "id": "0feb121d-8d2e-46d6-a1b5-b6142988bb4d",
   "metadata": {},
   "source": [
    "# Chart Visualisation"
   ]
  },
  {
   "cell_type": "code",
   "execution_count": 164,
   "id": "f9f90bd1-7049-4ed7-ae05-243546421ebb",
   "metadata": {},
   "outputs": [],
   "source": [
    "import numpy as np\n",
    "import pandas as pd\n",
    "from pandas_datareader import data \n",
    "import matplotlib.pyplot as plt\n",
    "%matplotlib inline"
   ]
  },
  {
   "cell_type": "code",
   "execution_count": 166,
   "id": "2e4a37db-bcdf-40d4-b0be-142e8e208b10",
   "metadata": {},
   "outputs": [
    {
     "data": {
      "text/html": [
       "<div>\n",
       "<style scoped>\n",
       "    .dataframe tbody tr th:only-of-type {\n",
       "        vertical-align: middle;\n",
       "    }\n",
       "\n",
       "    .dataframe tbody tr th {\n",
       "        vertical-align: top;\n",
       "    }\n",
       "\n",
       "    .dataframe thead th {\n",
       "        text-align: right;\n",
       "    }\n",
       "</style>\n",
       "<table border=\"1\" class=\"dataframe\">\n",
       "  <thead>\n",
       "    <tr style=\"text-align: right;\">\n",
       "      <th></th>\n",
       "      <th>Price</th>\n",
       "      <th>Volume</th>\n",
       "      <th>CirSupply</th>\n",
       "      <th>Velocity</th>\n",
       "      <th>Valuation</th>\n",
       "    </tr>\n",
       "    <tr>\n",
       "      <th>Date</th>\n",
       "      <th></th>\n",
       "      <th></th>\n",
       "      <th></th>\n",
       "      <th></th>\n",
       "      <th></th>\n",
       "    </tr>\n",
       "  </thead>\n",
       "  <tbody>\n",
       "    <tr>\n",
       "      <th>2020-09-24</th>\n",
       "      <td>4.57</td>\n",
       "      <td>21046683</td>\n",
       "      <td>24500000</td>\n",
       "      <td>0.86</td>\n",
       "      <td>3.37</td>\n",
       "    </tr>\n",
       "    <tr>\n",
       "      <th>2020-09-25</th>\n",
       "      <td>4.71</td>\n",
       "      <td>11852948</td>\n",
       "      <td>24500001</td>\n",
       "      <td>0.48</td>\n",
       "      <td>1.10</td>\n",
       "    </tr>\n",
       "    <tr>\n",
       "      <th>2020-09-26</th>\n",
       "      <td>4.54</td>\n",
       "      <td>6015212</td>\n",
       "      <td>24499998</td>\n",
       "      <td>0.25</td>\n",
       "      <td>0.27</td>\n",
       "    </tr>\n",
       "    <tr>\n",
       "      <th>2020-09-27</th>\n",
       "      <td>4.63</td>\n",
       "      <td>5024973</td>\n",
       "      <td>24499998</td>\n",
       "      <td>0.21</td>\n",
       "      <td>0.19</td>\n",
       "    </tr>\n",
       "    <tr>\n",
       "      <th>2020-09-28</th>\n",
       "      <td>4.20</td>\n",
       "      <td>4904941</td>\n",
       "      <td>24500001</td>\n",
       "      <td>0.20</td>\n",
       "      <td>0.17</td>\n",
       "    </tr>\n",
       "  </tbody>\n",
       "</table>\n",
       "</div>"
      ],
      "text/plain": [
       "            Price    Volume  CirSupply  Velocity  Valuation\n",
       "Date                                                       \n",
       "2020-09-24   4.57  21046683   24500000      0.86       3.37\n",
       "2020-09-25   4.71  11852948   24500001      0.48       1.10\n",
       "2020-09-26   4.54   6015212   24499998      0.25       0.27\n",
       "2020-09-27   4.63   5024973   24499998      0.21       0.19\n",
       "2020-09-28   4.20   4904941   24500001      0.20       0.17"
      ]
     },
     "execution_count": 166,
     "metadata": {},
     "output_type": "execute_result"
    }
   ],
   "source": [
    "# Download the data\n",
    "data = pd.read_csv('avax.csv',\n",
    "                   parse_dates=['Date'],\n",
    "                   index_col=['Date'])\n",
    "data.head()"
   ]
  },
  {
   "cell_type": "code",
   "execution_count": 167,
   "id": "a64f0aa1-e23e-4936-90db-e00d521aad30",
   "metadata": {},
   "outputs": [],
   "source": [
    "price = df ['Price']"
   ]
  },
  {
   "cell_type": "code",
   "execution_count": 168,
   "id": "65e0f878-f460-44ee-9964-148b466dc88e",
   "metadata": {},
   "outputs": [
    {
     "data": {
      "text/plain": [
       "count    695.000000\n",
       "mean      40.764921\n",
       "std       33.054725\n",
       "min        2.910000\n",
       "25%       13.440000\n",
       "50%       29.020000\n",
       "75%       68.525000\n",
       "max      134.530000\n",
       "Name: Price, dtype: float64"
      ]
     },
     "execution_count": 168,
     "metadata": {},
     "output_type": "execute_result"
    }
   ],
   "source": [
    "price.describe()"
   ]
  },
  {
   "cell_type": "code",
   "execution_count": 169,
   "id": "cae384be-db9b-4a69-9c4a-92c8deb7e40b",
   "metadata": {},
   "outputs": [],
   "source": [
    "# Import necessary packages\n",
    "import os\n",
    "import matplotlib.pyplot as plt\n",
    "%matplotlib inline\n",
    "import matplotlib.dates as mdates\n",
    "from matplotlib.dates import DateFormatter\n",
    "import seaborn as sns\n",
    "import pandas as pd\n",
    "\n",
    "# Handle date time conversions between pandas and matplotlib\n",
    "from pandas.plotting import register_matplotlib_converters\n",
    "register_matplotlib_converters()\n",
    "\n",
    "# Use white grid plot background from seaborn\n",
    "sns.set(font_scale=1.5, style=\"whitegrid\")"
   ]
  },
  {
   "cell_type": "code",
   "execution_count": 170,
   "id": "daf8be0b-fcb7-4274-8aaf-5d1535db3a97",
   "metadata": {},
   "outputs": [
    {
     "data": {
      "image/png": "[encoded data removed]",
      "text/plain": [
       "<Figure size 432x288 with 2 Axes>"
      ]
     },
     "metadata": {},
     "output_type": "display_data"
    }
   ],
   "source": [
    "# Create figure and plot space\n",
    "plt.rc('font', size=8)\n",
    "fig, ax = plt.subplots(figsize=(6, 4))\n",
    "axb = ax.twinx()\n",
    "\n",
    "# Add x-axis and y-axis\n",
    "ax.plot(data.index.values, price, color='red', label='Price')\n",
    "\n",
    "# Set title and labels for axes\n",
    "ax.set(xlabel=\"\",\n",
    "       ylabel=\"Price\",\n",
    "       title=\"AVAX\")\n",
    "\n",
    "# Plotting on the second y-axis\n",
    "axb.set_ylabel('Valuation')\n",
    "axb.plot(data.index.values, val, color='purple', linestyle='--', label='Valuation')\n",
    "\n",
    "# Handling of getting lines and labels from all axes for a single legend\n",
    "lines, labels = ax.get_legend_handles_labels()\n",
    "lines2, labels2 = axb.get_legend_handles_labels()\n",
    "axb.legend(lines + lines2, labels + labels2, loc='upper left');\n",
    "\n",
    "# Define the date format\n",
    "date_form = DateFormatter(\"%Y\")\n",
    "ax.xaxis.set_major_formatter(date_form)\n",
    "\n",
    "# Ensure a major tick for each week using (interval=1) \n",
    "ax.xaxis.set_major_locator(mdates.WeekdayLocator(interval=47))\n",
    "\n",
    "plt.show()"
   ]
  },
  {
   "cell_type": "markdown",
   "id": "d787386d-b4c0-4416-9824-b92288ac6806",
   "metadata": {},
   "source": [
    "# Linear Regression"
   ]
  },
  {
   "cell_type": "code",
   "execution_count": 171,
   "id": "9b7bee31-2b34-4c2a-9bb8-54fb1d686baa",
   "metadata": {},
   "outputs": [],
   "source": [
    "import numpy as np\n",
    "import pandas as pd\n",
    "import matplotlib.pyplot as plt\n",
    "from sklearn import datasets, linear_model\n",
    "from sklearn.metrics import mean_squared_error, r2_score"
   ]
  },
  {
   "cell_type": "code",
   "execution_count": 172,
   "id": "64342356-56fc-4484-bb5b-f22e495c818b",
   "metadata": {},
   "outputs": [
    {
     "name": "stderr",
     "output_type": "stream",
     "text": [
      "*c* argument looks like a single numeric RGB or RGBA sequence, which should be avoided as value-mapping will have precedence in case its length matches with *x* & *y*.  Please use the *color* keyword-argument or provide a 2D array with a single row if you intend to specify the same RGB or RGBA value for all points.\n"
     ]
    },
    {
     "data": {
      "text/plain": [
       "<AxesSubplot:title={'center':'Velocity vs Valuation'}, xlabel='Velocity', ylabel='Valuation'>"
      ]
     },
     "execution_count": 172,
     "metadata": {},
     "output_type": "execute_result"
    },
    {
     "data": {
      "image/png": "[encoded data removed]",
      "text/plain": [
       "<Figure size 432x288 with 1 Axes>"
      ]
     },
     "metadata": {},
     "output_type": "display_data"
    }
   ],
   "source": [
    "df.plot (kind='scatter', x='Velocity', y='Valuation', title='Velocity vs Valuation')"
   ]
  },
  {
   "cell_type": "code",
   "execution_count": 173,
   "id": "7854f7de-9a6a-4987-a375-60c21c6507e7",
   "metadata": {},
   "outputs": [
    {
     "name": "stderr",
     "output_type": "stream",
     "text": [
      "*c* argument looks like a single numeric RGB or RGBA sequence, which should be avoided as value-mapping will have precedence in case its length matches with *x* & *y*.  Please use the *color* keyword-argument or provide a 2D array with a single row if you intend to specify the same RGB or RGBA value for all points.\n"
     ]
    },
    {
     "data": {
      "text/plain": [
       "<AxesSubplot:title={'center':'Circulation supply vs Valuation'}, xlabel='CirSupply', ylabel='Valuation'>"
      ]
     },
     "execution_count": 173,
     "metadata": {},
     "output_type": "execute_result"
    },
    {
     "data": {
      "image/png": "[encoded data removed]",
      "text/plain": [
       "<Figure size 432x288 with 1 Axes>"
      ]
     },
     "metadata": {},
     "output_type": "display_data"
    }
   ],
   "source": [
    "df.plot (kind='scatter', x='CirSupply', y='Valuation', title='Circulation supply vs Valuation')"
   ]
  },
  {
   "cell_type": "code",
   "execution_count": 174,
   "id": "504e8072-a993-41fe-a5b5-cbe225d0b728",
   "metadata": {},
   "outputs": [
    {
     "name": "stderr",
     "output_type": "stream",
     "text": [
      "*c* argument looks like a single numeric RGB or RGBA sequence, which should be avoided as value-mapping will have precedence in case its length matches with *x* & *y*.  Please use the *color* keyword-argument or provide a 2D array with a single row if you intend to specify the same RGB or RGBA value for all points.\n"
     ]
    },
    {
     "data": {
      "text/plain": [
       "<AxesSubplot:title={'center':'Volume vs Valuation'}, xlabel='Volume', ylabel='Valuation'>"
      ]
     },
     "execution_count": 174,
     "metadata": {},
     "output_type": "execute_result"
    },
    {
     "data": {
      "image/png": "[encoded data removed]",
      "text/plain": [
       "<Figure size 432x288 with 1 Axes>"
      ]
     },
     "metadata": {},
     "output_type": "display_data"
    }
   ],
   "source": [
    "df.plot (kind='scatter', x='Volume', y='Valuation', title='Volume vs Valuation')"
   ]
  },
  {
   "cell_type": "code",
   "execution_count": 175,
   "id": "6fe63330-98be-4d3d-b34b-23ba7fb5e58e",
   "metadata": {},
   "outputs": [],
   "source": [
    "import sklearn.linear_model as lm"
   ]
  },
  {
   "cell_type": "code",
   "execution_count": 176,
   "id": "a9706924-5f98-4742-913d-96ca0ef31ee8",
   "metadata": {},
   "outputs": [],
   "source": [
    "lr =lm.LinearRegression()"
   ]
  },
  {
   "cell_type": "code",
   "execution_count": 177,
   "id": "3840c426-a331-4aeb-8294-3dfd3d5bcddd",
   "metadata": {},
   "outputs": [],
   "source": [
    "df.columns = df.columns.str.strip()"
   ]
  },
  {
   "cell_type": "code",
   "execution_count": 178,
   "id": "a1245882-dcc4-4a57-8797-71ebfe96529e",
   "metadata": {},
   "outputs": [],
   "source": [
    "x = df.Volume       #Independent variable\n",
    "y = df.Valuation        #Dependent variable"
   ]
  },
  {
   "cell_type": "code",
   "execution_count": 179,
   "id": "b6462eb8-f317-4a81-9516-e595141e76e9",
   "metadata": {},
   "outputs": [],
   "source": [
    "x = df.iloc[:, 1].values\n",
    "y = df.iloc[:, 4].values\n",
    "\n",
    "x = x.reshape (-1,1) #reshape to column"
   ]
  },
  {
   "cell_type": "code",
   "execution_count": 180,
   "id": "45c0620b-9a4a-4dc0-a3b3-b71ee1891f31",
   "metadata": {},
   "outputs": [
    {
     "data": {
      "text/html": [
       "<style>#sk-container-id-12 {color: black;background-color: white;}#sk-container-id-12 pre{padding: 0;}#sk-container-id-12 div.sk-toggleable {background-color: white;}#sk-container-id-12 label.sk-toggleable__label {cursor: pointer;display: block;width: 100%;margin-bottom: 0;padding: 0.3em;box-sizing: border-box;text-align: center;}#sk-container-id-12 label.sk-toggleable__label-arrow:before {content: \"▸\";float: left;margin-right: 0.25em;color: #696969;}#sk-container-id-12 label.sk-toggleable__label-arrow:hover:before {color: black;}#sk-container-id-12 div.sk-estimator:hover label.sk-toggleable__label-arrow:before {color: black;}#sk-container-id-12 div.sk-toggleable__content {max-height: 0;max-width: 0;overflow: hidden;text-align: left;background-color: #f0f8ff;}#sk-container-id-12 div.sk-toggleable__content pre {margin: 0.2em;color: black;border-radius: 0.25em;background-color: #f0f8ff;}#sk-container-id-12 input.sk-toggleable__control:checked~div.sk-toggleable__content {max-height: 200px;max-width: 100%;overflow: auto;}#sk-container-id-12 input.sk-toggleable__control:checked~label.sk-toggleable__label-arrow:before {content: \"▾\";}#sk-container-id-12 div.sk-estimator input.sk-toggleable__control:checked~label.sk-toggleable__label {background-color: #d4ebff;}#sk-container-id-12 div.sk-label input.sk-toggleable__control:checked~label.sk-toggleable__label {background-color: #d4ebff;}#sk-container-id-12 input.sk-hidden--visually {border: 0;clip: rect(1px 1px 1px 1px);clip: rect(1px, 1px, 1px, 1px);height: 1px;margin: -1px;overflow: hidden;padding: 0;position: absolute;width: 1px;}#sk-container-id-12 div.sk-estimator {font-family: monospace;background-color: #f0f8ff;border: 1px dotted black;border-radius: 0.25em;box-sizing: border-box;margin-bottom: 0.5em;}#sk-container-id-12 div.sk-estimator:hover {background-color: #d4ebff;}#sk-container-id-12 div.sk-parallel-item::after {content: \"\";width: 100%;border-bottom: 1px solid gray;flex-grow: 1;}#sk-container-id-12 div.sk-label:hover label.sk-toggleable__label {background-color: #d4ebff;}#sk-container-id-12 div.sk-serial::before {content: \"\";position: absolute;border-left: 1px solid gray;box-sizing: border-box;top: 0;bottom: 0;left: 50%;z-index: 0;}#sk-container-id-12 div.sk-serial {display: flex;flex-direction: column;align-items: center;background-color: white;padding-right: 0.2em;padding-left: 0.2em;position: relative;}#sk-container-id-12 div.sk-item {position: relative;z-index: 1;}#sk-container-id-12 div.sk-parallel {display: flex;align-items: stretch;justify-content: center;background-color: white;position: relative;}#sk-container-id-12 div.sk-item::before, #sk-container-id-12 div.sk-parallel-item::before {content: \"\";position: absolute;border-left: 1px solid gray;box-sizing: border-box;top: 0;bottom: 0;left: 50%;z-index: -1;}#sk-container-id-12 div.sk-parallel-item {display: flex;flex-direction: column;z-index: 1;position: relative;background-color: white;}#sk-container-id-12 div.sk-parallel-item:first-child::after {align-self: flex-end;width: 50%;}#sk-container-id-12 div.sk-parallel-item:last-child::after {align-self: flex-start;width: 50%;}#sk-container-id-12 div.sk-parallel-item:only-child::after {width: 0;}#sk-container-id-12 div.sk-dashed-wrapped {border: 1px dashed gray;margin: 0 0.4em 0.5em 0.4em;box-sizing: border-box;padding-bottom: 0.4em;background-color: white;}#sk-container-id-12 div.sk-label label {font-family: monospace;font-weight: bold;display: inline-block;line-height: 1.2em;}#sk-container-id-12 div.sk-label-container {text-align: center;}#sk-container-id-12 div.sk-container {/* jupyter's `normalize.less` sets `[hidden] { display: none; }` but bootstrap.min.css set `[hidden] { display: none !important; }` so we also need the `!important` here to be able to override the default hidden behavior on the sphinx rendered scikit-learn.org. See: https://github.com/scikit-learn/scikit-learn/issues/21755 */display: inline-block !important;position: relative;}#sk-container-id-12 div.sk-text-repr-fallback {display: none;}</style><div id=\"sk-container-id-12\" class=\"sk-top-container\"><div class=\"sk-text-repr-fallback\"><pre>LinearRegression()</pre><b>In a Jupyter environment, please rerun this cell to show the HTML representation or trust the notebook. <br />On GitHub, the HTML representation is unable to render, please try loading this page with nbviewer.org.</b></div><div class=\"sk-container\" hidden><div class=\"sk-item\"><div class=\"sk-estimator sk-toggleable\"><input class=\"sk-toggleable__control sk-hidden--visually\" id=\"sk-estimator-id-24\" type=\"checkbox\" checked><label for=\"sk-estimator-id-24\" class=\"sk-toggleable__label sk-toggleable__label-arrow\">LinearRegression</label><div class=\"sk-toggleable__content\"><pre>LinearRegression()</pre></div></div></div></div></div>"
      ],
      "text/plain": [
       "LinearRegression()"
      ]
     },
     "execution_count": 180,
     "metadata": {},
     "output_type": "execute_result"
    }
   ],
   "source": [
    "lr.fit (x,y)"
   ]
  },
  {
   "cell_type": "code",
   "execution_count": 181,
   "id": "868554c1-03fa-452b-aadd-281d7d279cae",
   "metadata": {},
   "outputs": [
    {
     "data": {
      "text/plain": [
       "Text(0.5, 0, 'Volume')"
      ]
     },
     "execution_count": 181,
     "metadata": {},
     "output_type": "execute_result"
    },
    {
     "data": {
      "image/png": "[encoded data removed]",
      "text/plain": [
       "<Figure size 432x288 with 1 Axes>"
      ]
     },
     "metadata": {},
     "output_type": "display_data"
    }
   ],
   "source": [
    "plt.scatter (x,y, color ='blue', alpha=0.3)\n",
    "plt.plot (x, lr.predict (x), color = 'red', linewidth=1)\n",
    "plt.title ('Volume vs Valuation')\n",
    "plt.ylabel ('Valuation')\n",
    "plt.xlabel ('Volume')"
   ]
  },
  {
   "cell_type": "code",
   "execution_count": 182,
   "id": "46aad168-0dc6-43e2-9051-319afa4ea3d3",
   "metadata": {},
   "outputs": [
    {
     "data": {
      "text/plain": [
       "array([ 5.84505375e-01,  2.72342087e-01,  7.41281009e-02,  4.05056110e-02,\n",
       "        3.64300548e-02,  6.81110493e-03,  2.89710144e-03,  6.54047632e-02,\n",
       "        1.33307159e-01, -2.90740398e-02, -1.91105014e-02, -5.34637474e-02,\n",
       "        1.43261587e-02,  2.42951297e-02,  2.21072307e-03, -2.55448021e-02,\n",
       "       -7.51038437e-03, -3.51534881e-02, -1.90367196e-02, -2.38150539e-02,\n",
       "       -4.82596650e-02, -7.25344386e-02, -4.78371424e-02, -8.06399848e-02,\n",
       "       -9.94454959e-02, -8.10845774e-02,  4.53323976e-02,  7.08725317e-02,\n",
       "        6.01685603e-02,  2.50913490e-02,  5.07354733e-03, -3.24743651e-03,\n",
       "       -5.46820138e-02,  1.48622910e-02,  3.21614027e-02, -7.14024830e-02,\n",
       "        1.29775171e-01,  6.02317485e-02,  1.69762617e-02,  5.76480594e-02,\n",
       "        1.20237957e-01,  9.06920085e-02,  1.34139742e-01,  1.90484531e-01,\n",
       "        2.15603908e-01,  1.24527389e-01,  1.23359443e-01,  1.00119381e-01,\n",
       "        1.10850957e-01,  1.18325300e-01,  1.23171813e-01,  1.06170613e-01,\n",
       "        8.78507789e-02,  1.19949587e-01,  7.39755120e-02,  5.84543290e-02,\n",
       "        7.10588708e-02,  1.20767503e-01,  9.03528429e-02,  9.65083819e-02,\n",
       "       -5.48851941e-02,  1.14355714e-01,  1.08902206e-01,  2.10689555e-01,\n",
       "       -7.31733494e-02,  3.39126437e-02, -9.43530879e-02,  6.75210427e-02,\n",
       "        1.04378254e-01, -8.38363044e-02,  5.67914022e-02,  9.70183357e-02,\n",
       "        6.91433947e-02,  6.06601451e-02,  3.91445005e-02,  1.21087179e-01,\n",
       "        1.67409621e-01,  1.84936190e-01,  1.76546008e-01,  1.20708321e-01,\n",
       "        8.11128624e-02,  1.64440860e-01,  5.83927027e-02,  8.36608320e-02,\n",
       "       -2.19010038e-02,  1.00326262e-01,  6.48228949e-02,  6.21435237e-02,\n",
       "        1.53704191e-01,  1.34166668e-01,  4.55858510e-01,  1.96642922e-01,\n",
       "        1.72813284e-01,  1.18085992e-01,  1.56525897e-01,  1.81937788e-01,\n",
       "        1.64608796e-01,  6.77699249e-02,  7.51271608e-02,  6.22753949e-01,\n",
       "        3.56442537e-01,  2.31606116e-01,  2.42644058e-01,  4.28667571e-01,\n",
       "        4.40391993e-01,  2.77303093e-01,  4.59734723e-01,  6.32959681e-01,\n",
       "        3.66033499e-01,  4.00025000e-01,  5.58061659e-01,  3.00469204e-01,\n",
       "        4.36956400e-01,  3.16639416e-01,  6.68508818e-01,  6.50781547e-01,\n",
       "        2.55400204e-01,  2.94335225e-01,  2.61759705e-01,  3.69497103e-01,\n",
       "        3.77943751e-01,  2.40951082e-01,  1.56301224e-01,  1.18797666e-01,\n",
       "        1.97842446e-01,  1.65006838e-01,  1.95843545e-01,  2.97987852e-01,\n",
       "        1.89855773e-01,  7.51798108e-01,  2.53071441e-01,  9.86962702e-02,\n",
       "        2.01318987e-01,  2.68277803e-01,  2.42772710e-01,  2.33674826e-01,\n",
       "        6.35540280e-01,  8.73097787e-01,  3.48191056e-01,  1.24269993e+00,\n",
       "        4.83609621e-01,  3.50548069e-01,  1.64577151e-01,  2.86041744e-01,\n",
       "        3.07536813e-01,  2.06516483e-01,  2.52521490e-01,  2.28774801e-01,\n",
       "        1.50037372e-01,  3.09008613e-01,  7.03667542e-02,  2.28999610e-01,\n",
       "        3.11754500e-01,  2.87083111e-01,  1.83515049e-01,  1.03717918e-01,\n",
       "        8.04772451e-02,  9.28100197e-02,  1.77415738e-01,  5.75532815e-01,\n",
       "        2.49913965e-01,  2.52380887e-01,  1.37398639e-01,  5.80018931e-02,\n",
       "        2.52370734e-01,  1.48981406e-01,  1.06191397e+00,  8.32204712e-01,\n",
       "        5.28575910e-01,  3.93724987e-01,  4.42292937e-01,  2.35028094e-01,\n",
       "        2.61026334e-01,  3.32348602e-01,  3.28299224e-01,  3.18132539e-01,\n",
       "        4.28832213e-01,  2.07917727e-01,  2.10280919e-01,  2.28838397e-01,\n",
       "        1.61708521e-01,  2.50709947e-01,  1.99798599e-01,  1.49068939e-01,\n",
       "        8.61142060e-02,  1.33695116e-01,  1.23243897e-01,  1.23372209e-01,\n",
       "        1.31996877e-01,  7.54954250e-02,  6.52058272e-02,  3.80252243e-01,\n",
       "        8.50390893e-02,  3.56072507e-01,  3.57404926e-01,  2.58122901e-01,\n",
       "        6.55415974e-02,  1.81198951e-01,  2.73069584e-01,  9.72392738e-02,\n",
       "        3.56574549e-01,  2.53305452e-01,  7.31461921e-01,  3.98792812e-01,\n",
       "        2.90128132e-01,  1.65870897e-01,  5.50354867e-01,  2.64563483e-01,\n",
       "        3.06691123e-01,  2.04747789e-01,  2.83941219e-01,  4.21745386e-01,\n",
       "        1.46310014e-01,  8.80164061e-02,  2.09477298e-01,  1.31564202e-01,\n",
       "        1.58157553e-01,  1.36055864e-01,  2.68105284e-01,  3.11777589e-01,\n",
       "        1.31894098e-01,  4.49890023e-01,  3.50661238e-01,  1.69541010e-01,\n",
       "        4.20415853e-01,  5.94600111e-01,  1.80477124e-01,  1.56334907e-01,\n",
       "        3.86862493e-01,  1.85293928e-01,  5.43710052e-01,  3.93857713e-01,\n",
       "        1.85957659e-01,  4.63648625e-01,  3.96799412e-01,  3.31678012e-01,\n",
       "        2.10999248e-01,  7.16588205e-01,  3.50243604e-01,  2.78319911e-01,\n",
       "        1.57473687e-01,  3.89460477e-01,  3.05330148e-01,  1.78977448e-01,\n",
       "        1.68404505e-01,  8.61096901e-02,  1.22840016e-01,  2.42457607e-02,\n",
       "        6.55366635e-03,  2.63187830e-02,  2.39745708e-02,  5.51761126e-02,\n",
       "        6.80644411e-02,  7.17742797e-02,  5.19598621e-02, -3.48045437e-02,\n",
       "        1.52543613e-01,  1.52537094e-01,  1.06546313e-01,  8.61844227e-02,\n",
       "        7.02322627e-02,  6.95878514e-02,  9.28526319e-02,  9.54909868e-02,\n",
       "        8.27165737e-02,  6.06152240e-02,  9.97820146e-02,  6.49608157e-02,\n",
       "       -3.43542469e-02,  5.83914018e-03,  1.31268158e-01,  2.23784696e-01,\n",
       "        1.03161380e-01,  2.30811075e-02,  4.56437550e-02,  8.76630711e-03,\n",
       "       -2.21242848e-02,  6.20821923e-03,  4.43449838e-02,  2.01575736e-02,\n",
       "       -2.76545625e-02, -5.50839369e-03, -3.22804098e-02,  3.59543944e-02,\n",
       "        5.32888522e-02,  1.62910490e-01,  1.05068299e-01,  5.59853362e-02,\n",
       "        4.17487996e-02, -2.60191382e-02, -4.40402800e-02,  1.30317336e-02,\n",
       "       -4.99697984e-03, -4.00688371e-03, -2.59719763e-02,  1.75515768e-02,\n",
       "       -2.82573463e-02, -2.60993374e-02, -2.16812881e-02, -3.93520699e-03,\n",
       "        1.65575420e-02, -1.88663155e-03, -2.06383257e-02, -2.23554197e-03,\n",
       "       -2.50298570e-02,  1.48577897e-01,  2.06927892e-02,  5.90047559e-02,\n",
       "        5.22909127e-02,  5.56780533e-02,  3.96894268e-02,  1.09685998e-01,\n",
       "        1.34459374e-02,  3.46737207e-02,  3.59647843e-02,  5.64452760e-02,\n",
       "        1.14022965e-01,  1.47173360e-01,  4.93063297e-02,  1.69986689e-01,\n",
       "        1.27719057e-01,  1.18680220e-01,  9.97091495e-02,  8.40833885e-02,\n",
       "        6.07942291e-02,  5.27362523e-02,  3.17414889e-01,  9.34801658e-01,\n",
       "        1.19990244e+00,  1.10722527e+00,  7.04233225e-01,  1.36776805e+00,\n",
       "        7.77579926e-01,  9.86745374e-01,  1.24985503e+00,  1.00496555e+00,\n",
       "        8.55249776e-01,  1.00395797e+00,  6.58034647e-01,  4.34634869e-01,\n",
       "        5.79063751e-01,  6.12213500e-01,  7.13860348e-01,  5.57751592e-01,\n",
       "        8.25466965e-01,  5.33045468e-01,  4.83237249e-01,  7.19050950e-01,\n",
       "        1.22905317e+00,  7.24098030e-01,  9.78659487e-01,  1.55272422e+00,\n",
       "        1.39204700e+00,  1.42462540e+00,  1.47669798e+00,  6.88204159e-01,\n",
       "        5.41486954e-01,  1.31015756e+00,  9.13534760e-01,  8.30162927e-01,\n",
       "        7.55129089e-01,  1.27294974e+00,  1.38743001e+00,  1.07829205e+00,\n",
       "        9.08046279e-01,  9.19708124e-01,  3.77516237e-01,  5.21178880e-01,\n",
       "        4.88080096e-01,  4.16286004e-01,  5.78131716e-01,  4.40981297e-01,\n",
       "        5.94386235e-01,  5.52328167e-01,  3.65818638e-01,  3.64725798e-01,\n",
       "        2.96955619e-01,  4.14363092e-01,  3.70676798e-01,  3.25872945e-01,\n",
       "        7.67397341e-02,  1.40172131e-01,  2.32691623e-01,  3.02675733e-01,\n",
       "        2.73715285e-01,  1.85746975e-01,  2.07650781e-01,  3.01105398e-01,\n",
       "        1.05166358e-01,  5.46384863e-02,  9.05221031e-02,  1.87884171e-01,\n",
       "        3.32022983e-01,  5.10544073e-01,  2.20472085e-01,  1.39765329e-01,\n",
       "        1.42157280e-01,  3.20422357e-01,  3.92691328e-01,  1.82804122e-01,\n",
       "        7.45782958e-02,  5.51481006e-02,  7.36681612e-02,  1.58643773e-01,\n",
       "        8.95781164e-02,  3.69877557e-01,  3.57862863e-01,  1.40814912e-01,\n",
       "        8.01639524e-02,  3.81435334e-01,  5.97714771e-01,  1.69404685e-01,\n",
       "        3.86451345e-01,  1.24755526e-01,  1.41011845e-01,  2.69540685e-01,\n",
       "        2.76460357e-01,  3.06509503e-01,  5.08758912e-01,  6.23692198e-01,\n",
       "        5.20225047e-01,  3.43429563e-01,  4.88539424e-01,  7.62115820e-01,\n",
       "        6.80380872e-01,  4.07070674e-01,  4.07212534e-01,  4.88336957e-01,\n",
       "        4.30025524e-01,  2.32885805e-01,  3.06521489e-01,  2.16461516e-01,\n",
       "        3.59370484e-01,  2.77451913e-01,  2.21790753e-01,  3.02981318e-01,\n",
       "        6.37843103e-01,  3.53115834e-01,  5.19778349e-01,  2.72619864e-01,\n",
       "        1.38239610e-01,  2.34839038e-01,  3.03735434e-01,  1.87066085e-01,\n",
       "        9.95298388e-02,  3.61764881e-01,  2.74217769e-01,  6.74374255e-01,\n",
       "        5.06050816e-01,  6.37313659e-01,  3.35219303e-01,  1.93174564e-01,\n",
       "        4.73101496e-01,  3.46741360e-01,  2.64521652e-01,  2.23230772e-01,\n",
       "        2.05649639e-01,  1.29209736e-01,  1.53800960e-01,  1.51474268e-01,\n",
       "        3.24600896e-01,  2.29774574e-01,  2.08295736e-01,  2.81215841e-01,\n",
       "        1.03167593e-01,  1.02990184e-01,  1.50785886e-01,  1.71974080e-01,\n",
       "        2.75483945e-01,  1.94189175e-01,  3.25117504e-01,  2.82696299e-01,\n",
       "        2.12458791e-01,  3.27026054e-01,  1.42751236e-01,  2.10917317e-01,\n",
       "        1.57328093e-01,  1.10705057e-01,  5.70396053e-02,  5.32678008e-02,\n",
       "        1.10184849e-01,  7.49356608e-02,  9.05524579e-02, -5.77368624e-04,\n",
       "        4.16448066e-01,  6.28152112e-01,  3.40447900e-01,  4.96126969e-01,\n",
       "        3.67003596e-01,  4.69985919e-01,  2.89140718e-01,  2.06034745e-01,\n",
       "        1.98320144e-01,  1.36678035e-01,  2.09662992e-01,  2.59753470e-01,\n",
       "        3.07927181e-01,  2.16497915e-01,  2.94111299e-01,  2.20521284e-01,\n",
       "        8.83573034e-02,  2.42411780e-01,  7.52669739e-01,  2.67120179e-01,\n",
       "        4.72151296e-01,  4.19624353e-01,  3.39374515e-01,  1.63657476e-01,\n",
       "        2.27974949e-01,  3.36282536e-01,  4.85803588e-01,  5.62773070e-01,\n",
       "        3.89511679e-01,  2.09131749e-01,  3.02112641e-01,  6.59130068e-01,\n",
       "        4.81815802e-01,  6.52822211e-01,  1.24417220e+00,  6.61348650e-01,\n",
       "        4.58375752e-01,  5.83966899e-01,  6.37475891e-01,  7.62265930e-01,\n",
       "        5.26277570e-01,  5.33033923e-01,  7.09784825e-01,  3.09443223e-01,\n",
       "        2.97555686e-01,  4.10389092e-01,  4.96134371e-01,  5.90824300e-01,\n",
       "        4.20704767e-01,  6.33981490e-01,  1.73681724e-01,  1.99427313e-01,\n",
       "        5.21021504e-01,  3.72423048e-01,  4.12439977e-01,  6.23142077e-01,\n",
       "        6.13134772e-01,  5.66813110e-01,  4.51632097e-01,  6.88355899e-01,\n",
       "        5.75835005e-01,  4.51756572e-01,  5.00660089e-01,  3.27689751e-01,\n",
       "        1.33092366e-01,  1.56816883e-01,  5.36144781e-01,  4.70527857e-01,\n",
       "        4.92333876e-01,  6.41176494e-01,  4.82525982e-01,  4.27400886e-01,\n",
       "        3.15994869e-01,  2.95538111e-01,  2.69169875e-01,  4.72823685e-01,\n",
       "        4.00796942e-01,  4.24139443e-01,  1.18954228e-01,  7.24356341e-02,\n",
       "        3.97361010e-01,  2.65216519e-01,  1.81496964e-01,  1.84493295e-01,\n",
       "        8.99831187e-02, -3.50704814e-03,  1.44755219e-02,  1.67185966e-01,\n",
       "        1.20126385e-01,  1.40125682e-01,  1.27382302e-01,  1.13693646e-01,\n",
       "        3.78826372e-02,  2.17923527e-02,  2.12525103e-01,  1.47550859e-01,\n",
       "        1.00963543e-01,  1.47952908e-01,  1.56967298e-01,  2.52707931e-01,\n",
       "        3.01629477e-01,  3.71175208e-01,  2.07030375e-01,  3.13113234e-01,\n",
       "        5.93343069e-01,  3.98107486e-01,  2.11613441e-01,  4.22081326e-01,\n",
       "        8.63581388e-01,  1.10768086e+00,  2.53303982e+00,  1.92732947e+00,\n",
       "        1.15807686e+00,  6.21062739e-01,  5.62151645e-01,  7.74694048e-01,\n",
       "        5.37233717e-01,  6.05636695e-01,  8.15222797e-01,  9.27314548e-01,\n",
       "        4.21947718e-01,  6.02758693e-01,  8.02926795e-01,  6.77550372e-01,\n",
       "        6.03735310e-01,  1.32249061e+00,  1.32995840e+00,  8.38025873e-01,\n",
       "        7.80916985e-01,  1.05206928e+00,  1.11630977e+00,  8.80450032e-01,\n",
       "        7.18136809e-01,  5.53306617e-01,  3.90764952e-01,  4.40672249e-01,\n",
       "        9.53041531e-01,  1.14261628e+00,  5.66408040e-01,  7.73084292e-01,\n",
       "        6.75765754e-01,  7.74506350e-01,  1.33292145e+00,  2.57756807e+00,\n",
       "        1.75651741e+00,  1.77651219e+00,  1.20694924e+00,  7.18533697e-01,\n",
       "        1.01571845e+00,  9.41384031e-01,  9.82932961e-01,  8.69986013e-01,\n",
       "        7.51857290e-01,  7.65747802e-01,  9.80092037e-01,  6.26837247e-01,\n",
       "        5.83311419e-01,  6.31006143e-01,  7.89523250e-01,  7.29205310e-01,\n",
       "        7.78738434e-01,  9.05832450e-01,  3.37486915e-01,  3.63443019e-01,\n",
       "        6.83761765e-01,  9.08412981e-01,  9.67504438e-01,  8.89152692e-01,\n",
       "        8.88371582e-01,  3.79819399e-01,  4.44242571e-01,  5.31098924e-01,\n",
       "        6.63277199e-01,  1.01856141e+00,  1.03802162e+00,  8.13032770e-01,\n",
       "        8.17883087e-01,  6.97379288e-01,  1.26431563e+00,  1.44953305e+00,\n",
       "        1.40707537e+00,  8.99291330e-01,  7.85025816e-01,  5.40753991e-01,\n",
       "        4.74361933e-01,  8.19548119e-01,  5.98642902e-01,  9.62005364e-01,\n",
       "        1.29448599e+00,  1.14735438e+00,  9.25352487e-01,  6.78785174e-01,\n",
       "        5.62985825e-01,  7.43240466e-01,  7.31498014e-01,  5.30149470e-01,\n",
       "        6.31938823e-01,  7.93466080e-01,  8.30492755e-01,  1.06513046e+00,\n",
       "        8.09504551e-01,  9.69493594e-01,  7.73522400e-01,  4.34918113e-01,\n",
       "        4.17245033e-01,  3.84787773e-01,  4.71643855e-01,  3.88900679e-01,\n",
       "        5.41159876e-01,  4.16488641e-01,  1.02493507e+00])"
      ]
     },
     "execution_count": 182,
     "metadata": {},
     "output_type": "execute_result"
    }
   ],
   "source": [
    "lr.predict (x)"
   ]
  },
  {
   "cell_type": "code",
   "execution_count": 183,
   "id": "03f237e7-34b4-4d06-969f-44a8e685fcd4",
   "metadata": {},
   "outputs": [
    {
     "data": {
      "text/plain": [
       "0.2295794256053173"
      ]
     },
     "execution_count": 183,
     "metadata": {},
     "output_type": "execute_result"
    }
   ],
   "source": [
    "R_Sq = r2_score (y, lr.predict (x))\n",
    "R_Sq"
   ]
  },
  {
   "cell_type": "code",
   "execution_count": 184,
   "id": "4b239540-35ac-488d-91f6-2d3da9141e0c",
   "metadata": {},
   "outputs": [],
   "source": [
    "# Model Statistics"
   ]
  },
  {
   "cell_type": "code",
   "execution_count": 185,
   "id": "c3afeb08-e0e1-4af6-9ec9-4370e24214f4",
   "metadata": {},
   "outputs": [
    {
     "data": {
      "text/plain": [
       "Intercept   -1.301119e-01\n",
       "Volume       3.395391e-08\n",
       "dtype: float64"
      ]
     },
     "execution_count": 185,
     "metadata": {},
     "output_type": "execute_result"
    }
   ],
   "source": [
    "import statsmodels.formula.api as smf\n",
    "model1=smf.ols(formula='Valuation~Volume',data=df).fit()\n",
    "model1.params"
   ]
  },
  {
   "cell_type": "code",
   "execution_count": 186,
   "id": "69735573-c37c-4dcb-a341-7ac104234100",
   "metadata": {},
   "outputs": [
    {
     "data": {
      "text/plain": [
       "Intercept    2.298454e-03\n",
       "Volume       3.548834e-41\n",
       "dtype: float64"
      ]
     },
     "execution_count": 186,
     "metadata": {},
     "output_type": "execute_result"
    }
   ],
   "source": [
    "model1.pvalues"
   ]
  },
  {
   "cell_type": "code",
   "execution_count": 187,
   "id": "4abdd1b3-208c-4d9b-a4b0-b6f62a9a1c13",
   "metadata": {},
   "outputs": [
    {
     "data": {
      "text/plain": [
       "0.22957942560531708"
      ]
     },
     "execution_count": 187,
     "metadata": {},
     "output_type": "execute_result"
    }
   ],
   "source": [
    "model1.rsquared"
   ]
  },
  {
   "cell_type": "code",
   "execution_count": 188,
   "id": "9a3359ee-bf60-4c0a-a593-5ca8e3f5c12f",
   "metadata": {},
   "outputs": [
    {
     "data": {
      "text/html": [
       "<table class=\"simpletable\">\n",
       "<caption>OLS Regression Results</caption>\n",
       "<tr>\n",
       "  <th>Dep. Variable:</th>        <td>Valuation</td>    <th>  R-squared:         </th> <td>   0.230</td>\n",
       "</tr>\n",
       "<tr>\n",
       "  <th>Model:</th>                   <td>OLS</td>       <th>  Adj. R-squared:    </th> <td>   0.228</td>\n",
       "</tr>\n",
       "<tr>\n",
       "  <th>Method:</th>             <td>Least Squares</td>  <th>  F-statistic:       </th> <td>   206.5</td>\n",
       "</tr>\n",
       "<tr>\n",
       "  <th>Date:</th>             <td>Sat, 03 Sep 2022</td> <th>  Prob (F-statistic):</th> <td>3.55e-41</td>\n",
       "</tr>\n",
       "<tr>\n",
       "  <th>Time:</th>                 <td>01:03:11</td>     <th>  Log-Likelihood:    </th> <td> -691.68</td>\n",
       "</tr>\n",
       "<tr>\n",
       "  <th>No. Observations:</th>      <td>   695</td>      <th>  AIC:               </th> <td>   1387.</td>\n",
       "</tr>\n",
       "<tr>\n",
       "  <th>Df Residuals:</th>          <td>   693</td>      <th>  BIC:               </th> <td>   1396.</td>\n",
       "</tr>\n",
       "<tr>\n",
       "  <th>Df Model:</th>              <td>     1</td>      <th>                     </th>     <td> </td>   \n",
       "</tr>\n",
       "<tr>\n",
       "  <th>Covariance Type:</th>      <td>nonrobust</td>    <th>                     </th>     <td> </td>   \n",
       "</tr>\n",
       "</table>\n",
       "<table class=\"simpletable\">\n",
       "<tr>\n",
       "      <td></td>         <th>coef</th>     <th>std err</th>      <th>t</th>      <th>P>|t|</th>  <th>[0.025</th>    <th>0.975]</th>  \n",
       "</tr>\n",
       "<tr>\n",
       "  <th>Intercept</th> <td>   -0.1301</td> <td>    0.043</td> <td>   -3.060</td> <td> 0.002</td> <td>   -0.214</td> <td>   -0.047</td>\n",
       "</tr>\n",
       "<tr>\n",
       "  <th>Volume</th>    <td> 3.395e-08</td> <td> 2.36e-09</td> <td>   14.370</td> <td> 0.000</td> <td> 2.93e-08</td> <td> 3.86e-08</td>\n",
       "</tr>\n",
       "</table>\n",
       "<table class=\"simpletable\">\n",
       "<tr>\n",
       "  <th>Omnibus:</th>       <td>1394.554</td> <th>  Durbin-Watson:     </th>  <td>   1.241</td>  \n",
       "</tr>\n",
       "<tr>\n",
       "  <th>Prob(Omnibus):</th>  <td> 0.000</td>  <th>  Jarque-Bera (JB):  </th> <td>2680196.788</td>\n",
       "</tr>\n",
       "<tr>\n",
       "  <th>Skew:</th>           <td>14.624</td>  <th>  Prob(JB):          </th>  <td>    0.00</td>  \n",
       "</tr>\n",
       "<tr>\n",
       "  <th>Kurtosis:</th>       <td>305.817</td> <th>  Cond. No.          </th>  <td>3.08e+07</td>  \n",
       "</tr>\n",
       "</table><br/><br/>Notes:<br/>[1] Standard Errors assume that the covariance matrix of the errors is correctly specified.<br/>[2] The condition number is large, 3.08e+07. This might indicate that there are<br/>strong multicollinearity or other numerical problems."
      ],
      "text/plain": [
       "<class 'statsmodels.iolib.summary.Summary'>\n",
       "\"\"\"\n",
       "                            OLS Regression Results                            \n",
       "==============================================================================\n",
       "Dep. Variable:              Valuation   R-squared:                       0.230\n",
       "Model:                            OLS   Adj. R-squared:                  0.228\n",
       "Method:                 Least Squares   F-statistic:                     206.5\n",
       "Date:                Sat, 03 Sep 2022   Prob (F-statistic):           3.55e-41\n",
       "Time:                        01:03:11   Log-Likelihood:                -691.68\n",
       "No. Observations:                 695   AIC:                             1387.\n",
       "Df Residuals:                     693   BIC:                             1396.\n",
       "Df Model:                           1                                         \n",
       "Covariance Type:            nonrobust                                         \n",
       "==============================================================================\n",
       "                 coef    std err          t      P>|t|      [0.025      0.975]\n",
       "------------------------------------------------------------------------------\n",
       "Intercept     -0.1301      0.043     -3.060      0.002      -0.214      -0.047\n",
       "Volume      3.395e-08   2.36e-09     14.370      0.000    2.93e-08    3.86e-08\n",
       "==============================================================================\n",
       "Omnibus:                     1394.554   Durbin-Watson:                   1.241\n",
       "Prob(Omnibus):                  0.000   Jarque-Bera (JB):          2680196.788\n",
       "Skew:                          14.624   Prob(JB):                         0.00\n",
       "Kurtosis:                     305.817   Cond. No.                     3.08e+07\n",
       "==============================================================================\n",
       "\n",
       "Notes:\n",
       "[1] Standard Errors assume that the covariance matrix of the errors is correctly specified.\n",
       "[2] The condition number is large, 3.08e+07. This might indicate that there are\n",
       "strong multicollinearity or other numerical problems.\n",
       "\"\"\""
      ]
     },
     "execution_count": 188,
     "metadata": {},
     "output_type": "execute_result"
    }
   ],
   "source": [
    "model1.summary()"
   ]
  },
  {
   "cell_type": "code",
   "execution_count": 189,
   "id": "06507fc8-fafc-40c1-800a-8f614b584488",
   "metadata": {},
   "outputs": [
    {
     "data": {
      "text/plain": [
       "Date\n",
       "2020-09-24    0.584505\n",
       "2020-09-25    0.272342\n",
       "2020-09-26    0.074128\n",
       "2020-09-27    0.040506\n",
       "2020-09-28    0.036430\n",
       "                ...   \n",
       "2022-08-15    0.471644\n",
       "2022-08-16    0.388901\n",
       "2022-08-17    0.541160\n",
       "2022-08-18    0.416489\n",
       "2022-08-19    1.024935\n",
       "Length: 695, dtype: float64"
      ]
     },
     "execution_count": 189,
     "metadata": {},
     "output_type": "execute_result"
    }
   ],
   "source": [
    "val_pred=model1.predict(pd.DataFrame(df['Volume']))\n",
    "val_pred"
   ]
  },
  {
   "cell_type": "code",
   "execution_count": 190,
   "id": "fb508a66-9668-4688-af76-f8c6bad4d134",
   "metadata": {},
   "outputs": [
    {
     "data": {
      "text/plain": [
       "(2344829.6651252215, 0.36552517985611555, 6414960.7040703315)"
      ]
     },
     "execution_count": 190,
     "metadata": {},
     "output_type": "execute_result"
    }
   ],
   "source": [
    "df['val_pred']=-1.301119e-01*df['Volume']+3.395391e-08\n",
    "df['RSE']=(df['Valuation']-df['val_pred'])**2\n",
    "RSEd=df.sum()['RSE']\n",
    "RSE=np.sqrt(RSEd/693)\n",
    "valmean=np.mean(df['Valuation'])\n",
    "error=RSE/valmean\n",
    "RSE,valmean,error"
   ]
  },
  {
   "cell_type": "markdown",
   "id": "937d5dbf-f5f5-40a9-b45a-5a32a2d065c1",
   "metadata": {},
   "source": [
    "# Multiple Linear Regression"
   ]
  },
  {
   "cell_type": "code",
   "execution_count": 191,
   "id": "0b771b2e-f6e5-4c06-890b-10ae9ad22bd2",
   "metadata": {},
   "outputs": [
    {
     "data": {
      "text/plain": [
       "Intercept   -3.726460e-01\n",
       "Volume       2.499669e-08\n",
       "Velocity     3.684614e+00\n",
       "dtype: float64"
      ]
     },
     "execution_count": 191,
     "metadata": {},
     "output_type": "execute_result"
    }
   ],
   "source": [
    "import statsmodels.formula.api as smf\n",
    "model2=smf.ols(formula='Valuation~Volume+Velocity',data=df).fit()\n",
    "model2.params"
   ]
  },
  {
   "cell_type": "code",
   "execution_count": 192,
   "id": "d1dadd98-3f7f-4f27-8533-632d42cc2acc",
   "metadata": {},
   "outputs": [
    {
     "data": {
      "text/plain": [
       "Date\n",
       "2020-09-24    3.322220\n",
       "2020-09-25    1.692253\n",
       "2020-09-26    0.698868\n",
       "2020-09-27    0.526731\n",
       "2020-09-28    0.486884\n",
       "                ...   \n",
       "2022-08-15    0.291440\n",
       "2022-08-16    0.193679\n",
       "2022-08-17    0.379464\n",
       "2022-08-18    0.250835\n",
       "2022-08-19    0.919847\n",
       "Length: 695, dtype: float64"
      ]
     },
     "execution_count": 192,
     "metadata": {},
     "output_type": "execute_result"
    }
   ],
   "source": [
    "val_pred=model2.predict(df[['Volume','Velocity']])\n",
    "val_pred"
   ]
  },
  {
   "cell_type": "code",
   "execution_count": 193,
   "id": "94ea3f66-b3a0-4f36-961a-23a8f2a3a5a2",
   "metadata": {},
   "outputs": [
    {
     "data": {
      "text/html": [
       "<table class=\"simpletable\">\n",
       "<caption>OLS Regression Results</caption>\n",
       "<tr>\n",
       "  <th>Dep. Variable:</th>        <td>Valuation</td>    <th>  R-squared:         </th> <td>   0.371</td>\n",
       "</tr>\n",
       "<tr>\n",
       "  <th>Model:</th>                   <td>OLS</td>       <th>  Adj. R-squared:    </th> <td>   0.369</td>\n",
       "</tr>\n",
       "<tr>\n",
       "  <th>Method:</th>             <td>Least Squares</td>  <th>  F-statistic:       </th> <td>   204.0</td>\n",
       "</tr>\n",
       "<tr>\n",
       "  <th>Date:</th>             <td>Sat, 03 Sep 2022</td> <th>  Prob (F-statistic):</th> <td>2.26e-70</td>\n",
       "</tr>\n",
       "<tr>\n",
       "  <th>Time:</th>                 <td>01:03:17</td>     <th>  Log-Likelihood:    </th> <td> -621.25</td>\n",
       "</tr>\n",
       "<tr>\n",
       "  <th>No. Observations:</th>      <td>   695</td>      <th>  AIC:               </th> <td>   1249.</td>\n",
       "</tr>\n",
       "<tr>\n",
       "  <th>Df Residuals:</th>          <td>   692</td>      <th>  BIC:               </th> <td>   1262.</td>\n",
       "</tr>\n",
       "<tr>\n",
       "  <th>Df Model:</th>              <td>     2</td>      <th>                     </th>     <td> </td>   \n",
       "</tr>\n",
       "<tr>\n",
       "  <th>Covariance Type:</th>      <td>nonrobust</td>    <th>                     </th>     <td> </td>   \n",
       "</tr>\n",
       "</table>\n",
       "<table class=\"simpletable\">\n",
       "<tr>\n",
       "      <td></td>         <th>coef</th>     <th>std err</th>      <th>t</th>      <th>P>|t|</th>  <th>[0.025</th>    <th>0.975]</th>  \n",
       "</tr>\n",
       "<tr>\n",
       "  <th>Intercept</th> <td>   -0.3726</td> <td>    0.043</td> <td>   -8.648</td> <td> 0.000</td> <td>   -0.457</td> <td>   -0.288</td>\n",
       "</tr>\n",
       "<tr>\n",
       "  <th>Volume</th>    <td>   2.5e-08</td> <td> 2.25e-09</td> <td>   11.089</td> <td> 0.000</td> <td> 2.06e-08</td> <td> 2.94e-08</td>\n",
       "</tr>\n",
       "<tr>\n",
       "  <th>Velocity</th>  <td>    3.6846</td> <td>    0.296</td> <td>   12.469</td> <td> 0.000</td> <td>    3.104</td> <td>    4.265</td>\n",
       "</tr>\n",
       "</table>\n",
       "<table class=\"simpletable\">\n",
       "<tr>\n",
       "  <th>Omnibus:</th>       <td>1381.422</td> <th>  Durbin-Watson:     </th>  <td>   1.274</td>  \n",
       "</tr>\n",
       "<tr>\n",
       "  <th>Prob(Omnibus):</th>  <td> 0.000</td>  <th>  Jarque-Bera (JB):  </th> <td>2663122.879</td>\n",
       "</tr>\n",
       "<tr>\n",
       "  <th>Skew:</th>           <td>14.299</td>  <th>  Prob(JB):          </th>  <td>    0.00</td>  \n",
       "</tr>\n",
       "<tr>\n",
       "  <th>Kurtosis:</th>       <td>304.904</td> <th>  Cond. No.          </th>  <td>2.37e+08</td>  \n",
       "</tr>\n",
       "</table><br/><br/>Notes:<br/>[1] Standard Errors assume that the covariance matrix of the errors is correctly specified.<br/>[2] The condition number is large, 2.37e+08. This might indicate that there are<br/>strong multicollinearity or other numerical problems."
      ],
      "text/plain": [
       "<class 'statsmodels.iolib.summary.Summary'>\n",
       "\"\"\"\n",
       "                            OLS Regression Results                            \n",
       "==============================================================================\n",
       "Dep. Variable:              Valuation   R-squared:                       0.371\n",
       "Model:                            OLS   Adj. R-squared:                  0.369\n",
       "Method:                 Least Squares   F-statistic:                     204.0\n",
       "Date:                Sat, 03 Sep 2022   Prob (F-statistic):           2.26e-70\n",
       "Time:                        01:03:17   Log-Likelihood:                -621.25\n",
       "No. Observations:                 695   AIC:                             1249.\n",
       "Df Residuals:                     692   BIC:                             1262.\n",
       "Df Model:                           2                                         \n",
       "Covariance Type:            nonrobust                                         \n",
       "==============================================================================\n",
       "                 coef    std err          t      P>|t|      [0.025      0.975]\n",
       "------------------------------------------------------------------------------\n",
       "Intercept     -0.3726      0.043     -8.648      0.000      -0.457      -0.288\n",
       "Volume        2.5e-08   2.25e-09     11.089      0.000    2.06e-08    2.94e-08\n",
       "Velocity       3.6846      0.296     12.469      0.000       3.104       4.265\n",
       "==============================================================================\n",
       "Omnibus:                     1381.422   Durbin-Watson:                   1.274\n",
       "Prob(Omnibus):                  0.000   Jarque-Bera (JB):          2663122.879\n",
       "Skew:                          14.299   Prob(JB):                         0.00\n",
       "Kurtosis:                     304.904   Cond. No.                     2.37e+08\n",
       "==============================================================================\n",
       "\n",
       "Notes:\n",
       "[1] Standard Errors assume that the covariance matrix of the errors is correctly specified.\n",
       "[2] The condition number is large, 2.37e+08. This might indicate that there are\n",
       "strong multicollinearity or other numerical problems.\n",
       "\"\"\""
      ]
     },
     "execution_count": 193,
     "metadata": {},
     "output_type": "execute_result"
    }
   ],
   "source": [
    "model2.summary()"
   ]
  },
  {
   "cell_type": "code",
   "execution_count": 194,
   "id": "aa921626-0c6f-4616-934b-3849ee7ec10b",
   "metadata": {},
   "outputs": [
    {
     "data": {
      "text/plain": [
       "(0.5928086259130907, 0.36552517985611555, 1.6217996969359059)"
      ]
     },
     "execution_count": 194,
     "metadata": {},
     "output_type": "execute_result"
    }
   ],
   "source": [
    "import numpy as np\n",
    "df['val_pred']=-3.726460e-01 + 2.499669e-08*df['Volume'] + 3.684614e+00*df['Velocity']\n",
    "df['RSE']=(df['Valuation']-df['val_pred'])**2\n",
    "RSEd=df.sum()['RSE']\n",
    "RSE=np.sqrt(RSEd/692)\n",
    "valmean=np.mean(df['Valuation'])\n",
    "error=RSE/valmean\n",
    "RSE,valmean,error"
   ]
  },
  {
   "cell_type": "code",
   "execution_count": 195,
   "id": "701be6b0-975e-42e4-887c-ac9e313b22a9",
   "metadata": {},
   "outputs": [
    {
     "data": {
      "text/plain": [
       "Intercept   -3.919462e-01\n",
       "Volume       2.436110e-08\n",
       "Velocity     3.771682e+00\n",
       "CirSupply    1.104505e-10\n",
       "dtype: float64"
      ]
     },
     "execution_count": 195,
     "metadata": {},
     "output_type": "execute_result"
    }
   ],
   "source": [
    "import statsmodels.formula.api as smf\n",
    "model3=smf.ols(formula='Valuation~Volume+Velocity+CirSupply',data=df).fit()\n",
    "model3.params"
   ]
  },
  {
   "cell_type": "code",
   "execution_count": 196,
   "id": "2851f958-43ee-42ab-9e81-6f396fbebefb",
   "metadata": {},
   "outputs": [
    {
     "data": {
      "text/html": [
       "<table class=\"simpletable\">\n",
       "<caption>OLS Regression Results</caption>\n",
       "<tr>\n",
       "  <th>Dep. Variable:</th>        <td>Valuation</td>    <th>  R-squared:         </th> <td>   0.371</td>\n",
       "</tr>\n",
       "<tr>\n",
       "  <th>Model:</th>                   <td>OLS</td>       <th>  Adj. R-squared:    </th> <td>   0.368</td>\n",
       "</tr>\n",
       "<tr>\n",
       "  <th>Method:</th>             <td>Least Squares</td>  <th>  F-statistic:       </th> <td>   135.8</td>\n",
       "</tr>\n",
       "<tr>\n",
       "  <th>Date:</th>             <td>Sat, 03 Sep 2022</td> <th>  Prob (F-statistic):</th> <td>3.56e-69</td>\n",
       "</tr>\n",
       "<tr>\n",
       "  <th>Time:</th>                 <td>01:03:19</td>     <th>  Log-Likelihood:    </th> <td> -621.23</td>\n",
       "</tr>\n",
       "<tr>\n",
       "  <th>No. Observations:</th>      <td>   695</td>      <th>  AIC:               </th> <td>   1250.</td>\n",
       "</tr>\n",
       "<tr>\n",
       "  <th>Df Residuals:</th>          <td>   691</td>      <th>  BIC:               </th> <td>   1269.</td>\n",
       "</tr>\n",
       "<tr>\n",
       "  <th>Df Model:</th>              <td>     3</td>      <th>                     </th>     <td> </td>   \n",
       "</tr>\n",
       "<tr>\n",
       "  <th>Covariance Type:</th>      <td>nonrobust</td>    <th>                     </th>     <td> </td>   \n",
       "</tr>\n",
       "</table>\n",
       "<table class=\"simpletable\">\n",
       "<tr>\n",
       "      <td></td>         <th>coef</th>     <th>std err</th>      <th>t</th>      <th>P>|t|</th>  <th>[0.025</th>    <th>0.975]</th>  \n",
       "</tr>\n",
       "<tr>\n",
       "  <th>Intercept</th> <td>   -0.3919</td> <td>    0.096</td> <td>   -4.077</td> <td> 0.000</td> <td>   -0.581</td> <td>   -0.203</td>\n",
       "</tr>\n",
       "<tr>\n",
       "  <th>Volume</th>    <td> 2.436e-08</td> <td> 3.62e-09</td> <td>    6.733</td> <td> 0.000</td> <td> 1.73e-08</td> <td> 3.15e-08</td>\n",
       "</tr>\n",
       "<tr>\n",
       "  <th>Velocity</th>  <td>    3.7717</td> <td>    0.488</td> <td>    7.737</td> <td> 0.000</td> <td>    2.815</td> <td>    4.729</td>\n",
       "</tr>\n",
       "<tr>\n",
       "  <th>CirSupply</th> <td> 1.105e-10</td> <td> 4.92e-10</td> <td>    0.225</td> <td> 0.822</td> <td>-8.55e-10</td> <td> 1.08e-09</td>\n",
       "</tr>\n",
       "</table>\n",
       "<table class=\"simpletable\">\n",
       "<tr>\n",
       "  <th>Omnibus:</th>       <td>1380.077</td> <th>  Durbin-Watson:     </th>  <td>   1.272</td>  \n",
       "</tr>\n",
       "<tr>\n",
       "  <th>Prob(Omnibus):</th>  <td> 0.000</td>  <th>  Jarque-Bera (JB):  </th> <td>2647695.434</td>\n",
       "</tr>\n",
       "<tr>\n",
       "  <th>Skew:</th>           <td>14.269</td>  <th>  Prob(JB):          </th>  <td>    0.00</td>  \n",
       "</tr>\n",
       "<tr>\n",
       "  <th>Kurtosis:</th>       <td>304.026</td> <th>  Cond. No.          </th>  <td>4.37e+09</td>  \n",
       "</tr>\n",
       "</table><br/><br/>Notes:<br/>[1] Standard Errors assume that the covariance matrix of the errors is correctly specified.<br/>[2] The condition number is large, 4.37e+09. This might indicate that there are<br/>strong multicollinearity or other numerical problems."
      ],
      "text/plain": [
       "<class 'statsmodels.iolib.summary.Summary'>\n",
       "\"\"\"\n",
       "                            OLS Regression Results                            \n",
       "==============================================================================\n",
       "Dep. Variable:              Valuation   R-squared:                       0.371\n",
       "Model:                            OLS   Adj. R-squared:                  0.368\n",
       "Method:                 Least Squares   F-statistic:                     135.8\n",
       "Date:                Sat, 03 Sep 2022   Prob (F-statistic):           3.56e-69\n",
       "Time:                        01:03:19   Log-Likelihood:                -621.23\n",
       "No. Observations:                 695   AIC:                             1250.\n",
       "Df Residuals:                     691   BIC:                             1269.\n",
       "Df Model:                           3                                         \n",
       "Covariance Type:            nonrobust                                         \n",
       "==============================================================================\n",
       "                 coef    std err          t      P>|t|      [0.025      0.975]\n",
       "------------------------------------------------------------------------------\n",
       "Intercept     -0.3919      0.096     -4.077      0.000      -0.581      -0.203\n",
       "Volume      2.436e-08   3.62e-09      6.733      0.000    1.73e-08    3.15e-08\n",
       "Velocity       3.7717      0.488      7.737      0.000       2.815       4.729\n",
       "CirSupply   1.105e-10   4.92e-10      0.225      0.822   -8.55e-10    1.08e-09\n",
       "==============================================================================\n",
       "Omnibus:                     1380.077   Durbin-Watson:                   1.272\n",
       "Prob(Omnibus):                  0.000   Jarque-Bera (JB):          2647695.434\n",
       "Skew:                          14.269   Prob(JB):                         0.00\n",
       "Kurtosis:                     304.026   Cond. No.                     4.37e+09\n",
       "==============================================================================\n",
       "\n",
       "Notes:\n",
       "[1] Standard Errors assume that the covariance matrix of the errors is correctly specified.\n",
       "[2] The condition number is large, 4.37e+09. This might indicate that there are\n",
       "strong multicollinearity or other numerical problems.\n",
       "\"\"\""
      ]
     },
     "execution_count": 196,
     "metadata": {},
     "output_type": "execute_result"
    }
   ],
   "source": [
    "model3.summary()"
   ]
  },
  {
   "cell_type": "code",
   "execution_count": 197,
   "id": "764a3f12-269d-437e-a271-f64dfd1ed80c",
   "metadata": {},
   "outputs": [
    {
     "data": {
      "text/plain": [
       "Date\n",
       "2020-09-24    3.367127\n",
       "2020-09-25    1.709918\n",
       "2020-09-26    0.700218\n",
       "2020-09-27    0.525227\n",
       "2020-09-28    0.484586\n",
       "                ...   \n",
       "2022-08-15    0.297572\n",
       "2022-08-16    0.200489\n",
       "2022-08-17    0.385166\n",
       "2022-08-18    0.258001\n",
       "2022-08-19    0.920849\n",
       "Length: 695, dtype: float64"
      ]
     },
     "execution_count": 197,
     "metadata": {},
     "output_type": "execute_result"
    }
   ],
   "source": [
    "val_pred=model3.predict(df[['Volume','Velocity','CirSupply']])\n",
    "val_pred"
   ]
  },
  {
   "cell_type": "code",
   "execution_count": 198,
   "id": "0b3ca207-b72b-48aa-a2c5-20f387944417",
   "metadata": {},
   "outputs": [
    {
     "data": {
      "text/plain": [
       "(0.5927869812863606, 0.36552517985611555, 1.6217404817903487)"
      ]
     },
     "execution_count": 198,
     "metadata": {},
     "output_type": "execute_result"
    }
   ],
   "source": [
    "import numpy as np\n",
    "df['val_pred']=-0.3919 + 2.436e-08*df['Volume'] + 3.7717*df['Velocity'] + 1.105e-10*df['CirSupply']\n",
    "df['RSE']=(df['Valuation']-df['val_pred'])**2\n",
    "RSEd=df.sum()['RSE']\n",
    "RSE=np.sqrt(RSEd/692)\n",
    "valmean=np.mean(df['Valuation'])\n",
    "error=RSE/valmean\n",
    "RSE,valmean,error"
   ]
  },
  {
   "cell_type": "code",
   "execution_count": 199,
   "id": "a2c8e885-9ec0-4985-a08b-fcb0a930c4f9",
   "metadata": {},
   "outputs": [
    {
     "data": {
      "text/plain": [
       "2.8641024442912415"
      ]
     },
     "execution_count": 199,
     "metadata": {},
     "output_type": "execute_result"
    }
   ],
   "source": [
    "model4=smf.ols(formula='Volume~Velocity+CirSupply',data=df).fit()\n",
    "rsquared=model4.rsquared \n",
    "VIF=1/(1-rsquared)\n",
    "VIF"
   ]
  },
  {
   "cell_type": "markdown",
   "id": "1c4fbcd7-5dcc-4739-96db-4464ece7aef6",
   "metadata": {},
   "source": [
    "# Polynomial Regression"
   ]
  },
  {
   "cell_type": "code",
   "execution_count": 200,
   "id": "dbf2208f-0701-4c07-a2ce-23aaedabe01a",
   "metadata": {},
   "outputs": [],
   "source": [
    "from sklearn.preprocessing import PolynomialFeatures\n",
    "from sklearn.pipeline import make_pipeline"
   ]
  },
  {
   "cell_type": "code",
   "execution_count": 201,
   "id": "d6b8dcb3-1fad-4ede-81bf-3b66648d1a8c",
   "metadata": {},
   "outputs": [],
   "source": [
    "x=df.Volume\n",
    "y=df.Valuation"
   ]
  },
  {
   "cell_type": "code",
   "execution_count": 202,
   "id": "216504b0-66d2-43ea-99f8-7859c21b18a7",
   "metadata": {},
   "outputs": [],
   "source": [
    "degree=2\n",
    "model5=make_pipeline (PolynomialFeatures (degree), lr)"
   ]
  },
  {
   "cell_type": "code",
   "execution_count": 203,
   "id": "41a27812-c286-4178-aae3-5fb89b9c784f",
   "metadata": {},
   "outputs": [],
   "source": [
    "x = df.iloc[:, 1].values\n",
    "y = df.iloc[:, 4].values\n",
    "\n",
    "x = x.reshape (-1, 1) #reshape to column"
   ]
  },
  {
   "cell_type": "code",
   "execution_count": 204,
   "id": "4f95b03e-f5c5-4f26-b1b4-378ffb909e1c",
   "metadata": {},
   "outputs": [
    {
     "data": {
      "text/html": [
       "<style>#sk-container-id-13 {color: black;background-color: white;}#sk-container-id-13 pre{padding: 0;}#sk-container-id-13 div.sk-toggleable {background-color: white;}#sk-container-id-13 label.sk-toggleable__label {cursor: pointer;display: block;width: 100%;margin-bottom: 0;padding: 0.3em;box-sizing: border-box;text-align: center;}#sk-container-id-13 label.sk-toggleable__label-arrow:before {content: \"▸\";float: left;margin-right: 0.25em;color: #696969;}#sk-container-id-13 label.sk-toggleable__label-arrow:hover:before {color: black;}#sk-container-id-13 div.sk-estimator:hover label.sk-toggleable__label-arrow:before {color: black;}#sk-container-id-13 div.sk-toggleable__content {max-height: 0;max-width: 0;overflow: hidden;text-align: left;background-color: #f0f8ff;}#sk-container-id-13 div.sk-toggleable__content pre {margin: 0.2em;color: black;border-radius: 0.25em;background-color: #f0f8ff;}#sk-container-id-13 input.sk-toggleable__control:checked~div.sk-toggleable__content {max-height: 200px;max-width: 100%;overflow: auto;}#sk-container-id-13 input.sk-toggleable__control:checked~label.sk-toggleable__label-arrow:before {content: \"▾\";}#sk-container-id-13 div.sk-estimator input.sk-toggleable__control:checked~label.sk-toggleable__label {background-color: #d4ebff;}#sk-container-id-13 div.sk-label input.sk-toggleable__control:checked~label.sk-toggleable__label {background-color: #d4ebff;}#sk-container-id-13 input.sk-hidden--visually {border: 0;clip: rect(1px 1px 1px 1px);clip: rect(1px, 1px, 1px, 1px);height: 1px;margin: -1px;overflow: hidden;padding: 0;position: absolute;width: 1px;}#sk-container-id-13 div.sk-estimator {font-family: monospace;background-color: #f0f8ff;border: 1px dotted black;border-radius: 0.25em;box-sizing: border-box;margin-bottom: 0.5em;}#sk-container-id-13 div.sk-estimator:hover {background-color: #d4ebff;}#sk-container-id-13 div.sk-parallel-item::after {content: \"\";width: 100%;border-bottom: 1px solid gray;flex-grow: 1;}#sk-container-id-13 div.sk-label:hover label.sk-toggleable__label {background-color: #d4ebff;}#sk-container-id-13 div.sk-serial::before {content: \"\";position: absolute;border-left: 1px solid gray;box-sizing: border-box;top: 0;bottom: 0;left: 50%;z-index: 0;}#sk-container-id-13 div.sk-serial {display: flex;flex-direction: column;align-items: center;background-color: white;padding-right: 0.2em;padding-left: 0.2em;position: relative;}#sk-container-id-13 div.sk-item {position: relative;z-index: 1;}#sk-container-id-13 div.sk-parallel {display: flex;align-items: stretch;justify-content: center;background-color: white;position: relative;}#sk-container-id-13 div.sk-item::before, #sk-container-id-13 div.sk-parallel-item::before {content: \"\";position: absolute;border-left: 1px solid gray;box-sizing: border-box;top: 0;bottom: 0;left: 50%;z-index: -1;}#sk-container-id-13 div.sk-parallel-item {display: flex;flex-direction: column;z-index: 1;position: relative;background-color: white;}#sk-container-id-13 div.sk-parallel-item:first-child::after {align-self: flex-end;width: 50%;}#sk-container-id-13 div.sk-parallel-item:last-child::after {align-self: flex-start;width: 50%;}#sk-container-id-13 div.sk-parallel-item:only-child::after {width: 0;}#sk-container-id-13 div.sk-dashed-wrapped {border: 1px dashed gray;margin: 0 0.4em 0.5em 0.4em;box-sizing: border-box;padding-bottom: 0.4em;background-color: white;}#sk-container-id-13 div.sk-label label {font-family: monospace;font-weight: bold;display: inline-block;line-height: 1.2em;}#sk-container-id-13 div.sk-label-container {text-align: center;}#sk-container-id-13 div.sk-container {/* jupyter's `normalize.less` sets `[hidden] { display: none; }` but bootstrap.min.css set `[hidden] { display: none !important; }` so we also need the `!important` here to be able to override the default hidden behavior on the sphinx rendered scikit-learn.org. See: https://github.com/scikit-learn/scikit-learn/issues/21755 */display: inline-block !important;position: relative;}#sk-container-id-13 div.sk-text-repr-fallback {display: none;}</style><div id=\"sk-container-id-13\" class=\"sk-top-container\"><div class=\"sk-text-repr-fallback\"><pre>Pipeline(steps=[(&#x27;polynomialfeatures&#x27;, PolynomialFeatures()),\n",
       "                (&#x27;linearregression&#x27;, LinearRegression())])</pre><b>In a Jupyter environment, please rerun this cell to show the HTML representation or trust the notebook. <br />On GitHub, the HTML representation is unable to render, please try loading this page with nbviewer.org.</b></div><div class=\"sk-container\" hidden><div class=\"sk-item sk-dashed-wrapped\"><div class=\"sk-label-container\"><div class=\"sk-label sk-toggleable\"><input class=\"sk-toggleable__control sk-hidden--visually\" id=\"sk-estimator-id-25\" type=\"checkbox\" ><label for=\"sk-estimator-id-25\" class=\"sk-toggleable__label sk-toggleable__label-arrow\">Pipeline</label><div class=\"sk-toggleable__content\"><pre>Pipeline(steps=[(&#x27;polynomialfeatures&#x27;, PolynomialFeatures()),\n",
       "                (&#x27;linearregression&#x27;, LinearRegression())])</pre></div></div></div><div class=\"sk-serial\"><div class=\"sk-item\"><div class=\"sk-estimator sk-toggleable\"><input class=\"sk-toggleable__control sk-hidden--visually\" id=\"sk-estimator-id-26\" type=\"checkbox\" ><label for=\"sk-estimator-id-26\" class=\"sk-toggleable__label sk-toggleable__label-arrow\">PolynomialFeatures</label><div class=\"sk-toggleable__content\"><pre>PolynomialFeatures()</pre></div></div></div><div class=\"sk-item\"><div class=\"sk-estimator sk-toggleable\"><input class=\"sk-toggleable__control sk-hidden--visually\" id=\"sk-estimator-id-27\" type=\"checkbox\" ><label for=\"sk-estimator-id-27\" class=\"sk-toggleable__label sk-toggleable__label-arrow\">LinearRegression</label><div class=\"sk-toggleable__content\"><pre>LinearRegression()</pre></div></div></div></div></div></div></div>"
      ],
      "text/plain": [
       "Pipeline(steps=[('polynomialfeatures', PolynomialFeatures()),\n",
       "                ('linearregression', LinearRegression())])"
      ]
     },
     "execution_count": 204,
     "metadata": {},
     "output_type": "execute_result"
    }
   ],
   "source": [
    "model5.fit (x,y)"
   ]
  },
  {
   "cell_type": "code",
   "execution_count": 205,
   "id": "583dfe37-5611-4e84-a05b-24482bfcf662",
   "metadata": {},
   "outputs": [
    {
     "data": {
      "text/plain": [
       "Text(0.5, 8.959999999999994, 'Volume')"
      ]
     },
     "execution_count": 205,
     "metadata": {},
     "output_type": "execute_result"
    },
    {
     "data": {
      "image/png": "[encoded data removed]",
      "text/plain": [
       "<Figure size 288x288 with 1 Axes>"
      ]
     },
     "metadata": {},
     "output_type": "display_data"
    }
   ],
   "source": [
    "import seaborn as sns\n",
    "sns.set_theme(style=\"ticks\")\n",
    "sns.relplot(x=\"Volume\", y=\"Valuation\", alpha=.7, palette=\"muted\",\n",
    "            height=4, data=df)\n",
    "plt.plot (x, model5.predict (x), color='black', linewidth=.5)\n",
    "plt.title ('AVAX')\n",
    "plt.ylabel ('Valuation')\n",
    "plt.xlabel ('Volume')"
   ]
  },
  {
   "cell_type": "code",
   "execution_count": 206,
   "id": "e62c3a69-273d-4082-ac09-398e912141fd",
   "metadata": {},
   "outputs": [
    {
     "data": {
      "text/plain": [
       "Text(0.5, 8.959999999999994, 'Circulation Supply')"
      ]
     },
     "execution_count": 206,
     "metadata": {},
     "output_type": "execute_result"
    },
    {
     "data": {
      "image/png": "[encoded data removed]",
      "text/plain": [
       "<Figure size 288x288 with 1 Axes>"
      ]
     },
     "metadata": {},
     "output_type": "display_data"
    }
   ],
   "source": [
    "import seaborn as sns\n",
    "sns.set_theme(style=\"ticks\")\n",
    "sns.relplot(x=\"CirSupply\", y=\"Valuation\", alpha=.7, palette=\"muted\",\n",
    "            height=4, data=df)\n",
    "plt.title ('AVAX')\n",
    "plt.ylabel ('Valuation')\n",
    "plt.xlabel ('Circulation Supply')"
   ]
  }
 ],
 "metadata": {
  "kernelspec": {
   "display_name": "Python 3 (ipykernel)",
   "language": "python",
   "name": "python3"
  },
  "language_info": {
   "codemirror_mode": {
    "name": "ipython",
    "version": 3
   },
   "file_extension": ".py",
   "mimetype": "text/x-python",
   "name": "python",
   "nbconvert_exporter": "python",
   "pygments_lexer": "ipython3",
   "version": "3.9.7"
  }
 },
 "nbformat": 4,
 "nbformat_minor": 5
}
