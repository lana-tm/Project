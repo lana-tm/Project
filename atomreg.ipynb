{
 "cells": [
  {
   "cell_type": "markdown",
   "id": "43ead17a-6203-4f92-902f-8a0da96ec364",
   "metadata": {},
   "source": [
    "# ATOM Model"
   ]
  },
  {
   "cell_type": "code",
   "execution_count": 53,
   "id": "b97abfa6-2565-4de7-bd47-ac5ee9057ef7",
   "metadata": {},
   "outputs": [],
   "source": [
    "# Importing Python Packages"
   ]
  },
  {
   "cell_type": "code",
   "execution_count": 54,
   "id": "0af2cbc9-0ff6-4805-996e-a55fce82bc32",
   "metadata": {},
   "outputs": [],
   "source": [
    "import numpy as np\n",
    "import pandas as pd\n",
    "from pandas_datareader import data \n",
    "import matplotlib.pyplot as plt\n",
    "%matplotlib inline"
   ]
  },
  {
   "cell_type": "code",
   "execution_count": 55,
   "id": "5466dcf1-32a3-4f32-9a65-2956a2c002d3",
   "metadata": {},
   "outputs": [
    {
     "data": {
      "text/plain": [
       "Index(['Price', 'Volume', 'CirSupply', 'Velocity', 'Valuation'], dtype='object')"
      ]
     },
     "execution_count": 55,
     "metadata": {},
     "output_type": "execute_result"
    }
   ],
   "source": [
    "# Downloading data\n",
    "\n",
    "df = pd.read_csv('atom.csv', index_col = 'Date')\n",
    "df.index = pd.to_datetime (df.index)\n",
    "df.columns"
   ]
  },
  {
   "cell_type": "markdown",
   "id": "9258bdc7-0c5f-4f86-9d19-d716f648815e",
   "metadata": {},
   "source": [
    "# Correlation Matrix"
   ]
  },
  {
   "cell_type": "code",
   "execution_count": 56,
   "id": "265ac423-bf64-4a4e-9ccb-5385f637faee",
   "metadata": {},
   "outputs": [
    {
     "data": {
      "text/html": [
       "<div>\n",
       "<style scoped>\n",
       "    .dataframe tbody tr th:only-of-type {\n",
       "        vertical-align: middle;\n",
       "    }\n",
       "\n",
       "    .dataframe tbody tr th {\n",
       "        vertical-align: top;\n",
       "    }\n",
       "\n",
       "    .dataframe thead th {\n",
       "        text-align: right;\n",
       "    }\n",
       "</style>\n",
       "<table border=\"1\" class=\"dataframe\">\n",
       "  <thead>\n",
       "    <tr style=\"text-align: right;\">\n",
       "      <th></th>\n",
       "      <th>Price</th>\n",
       "      <th>Volume</th>\n",
       "      <th>CirSupply</th>\n",
       "      <th>Velocity</th>\n",
       "      <th>Valuation</th>\n",
       "    </tr>\n",
       "  </thead>\n",
       "  <tbody>\n",
       "    <tr>\n",
       "      <th>Price</th>\n",
       "      <td>4.807962e-03</td>\n",
       "      <td>0.000189</td>\n",
       "      <td>-4.126632e-07</td>\n",
       "      <td>0.000231</td>\n",
       "      <td>0.005144</td>\n",
       "    </tr>\n",
       "    <tr>\n",
       "      <th>Volume</th>\n",
       "      <td>1.893208e-04</td>\n",
       "      <td>0.101317</td>\n",
       "      <td>-2.965291e-05</td>\n",
       "      <td>0.101379</td>\n",
       "      <td>0.202281</td>\n",
       "    </tr>\n",
       "    <tr>\n",
       "      <th>CirSupply</th>\n",
       "      <td>-4.126632e-07</td>\n",
       "      <td>-0.000030</td>\n",
       "      <td>4.966046e-05</td>\n",
       "      <td>-0.000073</td>\n",
       "      <td>-0.000160</td>\n",
       "    </tr>\n",
       "    <tr>\n",
       "      <th>Velocity</th>\n",
       "      <td>2.314213e-04</td>\n",
       "      <td>0.101379</td>\n",
       "      <td>-7.251557e-05</td>\n",
       "      <td>0.102821</td>\n",
       "      <td>0.202498</td>\n",
       "    </tr>\n",
       "    <tr>\n",
       "      <th>Valuation</th>\n",
       "      <td>5.143919e-03</td>\n",
       "      <td>0.202281</td>\n",
       "      <td>-1.597875e-04</td>\n",
       "      <td>0.202498</td>\n",
       "      <td>0.412027</td>\n",
       "    </tr>\n",
       "  </tbody>\n",
       "</table>\n",
       "</div>"
      ],
      "text/plain": [
       "                  Price    Volume     CirSupply  Velocity  Valuation\n",
       "Price      4.807962e-03  0.000189 -4.126632e-07  0.000231   0.005144\n",
       "Volume     1.893208e-04  0.101317 -2.965291e-05  0.101379   0.202281\n",
       "CirSupply -4.126632e-07 -0.000030  4.966046e-05 -0.000073  -0.000160\n",
       "Velocity   2.314213e-04  0.101379 -7.251557e-05  0.102821   0.202498\n",
       "Valuation  5.143919e-03  0.202281 -1.597875e-04  0.202498   0.412027"
      ]
     },
     "execution_count": 56,
     "metadata": {},
     "output_type": "execute_result"
    }
   ],
   "source": [
    "cov_matrix = df.pct_change().apply(lambda x: np.log(1+x)).cov() \n",
    "cov_matrix"
   ]
  },
  {
   "cell_type": "code",
   "execution_count": 57,
   "id": "8c17136a-4e93-4991-b7a0-9641515fde1c",
   "metadata": {},
   "outputs": [
    {
     "data": {
      "text/html": [
       "<div>\n",
       "<style scoped>\n",
       "    .dataframe tbody tr th:only-of-type {\n",
       "        vertical-align: middle;\n",
       "    }\n",
       "\n",
       "    .dataframe tbody tr th {\n",
       "        vertical-align: top;\n",
       "    }\n",
       "\n",
       "    .dataframe thead th {\n",
       "        text-align: right;\n",
       "    }\n",
       "</style>\n",
       "<table border=\"1\" class=\"dataframe\">\n",
       "  <thead>\n",
       "    <tr style=\"text-align: right;\">\n",
       "      <th></th>\n",
       "      <th>Price</th>\n",
       "      <th>Volume</th>\n",
       "      <th>CirSupply</th>\n",
       "      <th>Velocity</th>\n",
       "      <th>Valuation</th>\n",
       "    </tr>\n",
       "  </thead>\n",
       "  <tbody>\n",
       "    <tr>\n",
       "      <th>Price</th>\n",
       "      <td>1.000000</td>\n",
       "      <td>0.008578</td>\n",
       "      <td>-0.000845</td>\n",
       "      <td>0.010408</td>\n",
       "      <td>0.115571</td>\n",
       "    </tr>\n",
       "    <tr>\n",
       "      <th>Volume</th>\n",
       "      <td>0.008578</td>\n",
       "      <td>1.000000</td>\n",
       "      <td>-0.013220</td>\n",
       "      <td>0.993269</td>\n",
       "      <td>0.990038</td>\n",
       "    </tr>\n",
       "    <tr>\n",
       "      <th>CirSupply</th>\n",
       "      <td>-0.000845</td>\n",
       "      <td>-0.013220</td>\n",
       "      <td>1.000000</td>\n",
       "      <td>-0.032091</td>\n",
       "      <td>-0.035324</td>\n",
       "    </tr>\n",
       "    <tr>\n",
       "      <th>Velocity</th>\n",
       "      <td>0.010408</td>\n",
       "      <td>0.993269</td>\n",
       "      <td>-0.032091</td>\n",
       "      <td>1.000000</td>\n",
       "      <td>0.983825</td>\n",
       "    </tr>\n",
       "    <tr>\n",
       "      <th>Valuation</th>\n",
       "      <td>0.115571</td>\n",
       "      <td>0.990038</td>\n",
       "      <td>-0.035324</td>\n",
       "      <td>0.983825</td>\n",
       "      <td>1.000000</td>\n",
       "    </tr>\n",
       "  </tbody>\n",
       "</table>\n",
       "</div>"
      ],
      "text/plain": [
       "              Price    Volume  CirSupply  Velocity  Valuation\n",
       "Price      1.000000  0.008578  -0.000845  0.010408   0.115571\n",
       "Volume     0.008578  1.000000  -0.013220  0.993269   0.990038\n",
       "CirSupply -0.000845 -0.013220   1.000000 -0.032091  -0.035324\n",
       "Velocity   0.010408  0.993269  -0.032091  1.000000   0.983825\n",
       "Valuation  0.115571  0.990038  -0.035324  0.983825   1.000000"
      ]
     },
     "execution_count": 57,
     "metadata": {},
     "output_type": "execute_result"
    }
   ],
   "source": [
    "corr_matrix = df.pct_change().apply(lambda x: np.log(1+x)).corr() \n",
    "corr_matrix"
   ]
  },
  {
   "cell_type": "code",
   "execution_count": 58,
   "id": "56df00f1-4136-4711-adee-d372ca5c570e",
   "metadata": {},
   "outputs": [],
   "source": [
    "import statsmodels.api as sm"
   ]
  },
  {
   "cell_type": "code",
   "execution_count": 59,
   "id": "66151c72-cec6-4900-82d5-2ea2b7140277",
   "metadata": {},
   "outputs": [
    {
     "data": {
      "image/png": "[encoded data removed]",
      "text/plain": [
       "<Figure size 432x288 with 2 Axes>"
      ]
     },
     "metadata": {
      "needs_background": "light"
     },
     "output_type": "display_data"
    }
   ],
   "source": [
    "sm.graphics.plot_corr(corr_matrix, xnames=list(corr_matrix.columns))\n",
    "plt.show()"
   ]
  },
  {
   "cell_type": "code",
   "execution_count": 60,
   "id": "0dbd1725-6fe1-45e4-b244-13156214a45f",
   "metadata": {},
   "outputs": [],
   "source": [
    "val = df ['Valuation']"
   ]
  },
  {
   "cell_type": "code",
   "execution_count": 61,
   "id": "7ce7a401-3e1f-4b20-832e-b6308bb312d6",
   "metadata": {},
   "outputs": [
    {
     "data": {
      "text/plain": [
       "count    1208.000000\n",
       "mean        0.502318\n",
       "std         1.091063\n",
       "min         0.010000\n",
       "25%         0.110000\n",
       "50%         0.220000\n",
       "75%         0.440000\n",
       "max        18.920000\n",
       "Name: Valuation, dtype: float64"
      ]
     },
     "execution_count": 61,
     "metadata": {},
     "output_type": "execute_result"
    }
   ],
   "source": [
    "val.describe()"
   ]
  },
  {
   "cell_type": "markdown",
   "id": "0feb121d-8d2e-46d6-a1b5-b6142988bb4d",
   "metadata": {},
   "source": [
    "# Chart Visualisation"
   ]
  },
  {
   "cell_type": "code",
   "execution_count": 62,
   "id": "f9f90bd1-7049-4ed7-ae05-243546421ebb",
   "metadata": {},
   "outputs": [],
   "source": [
    "import numpy as np\n",
    "import pandas as pd\n",
    "from pandas_datareader import data \n",
    "import matplotlib.pyplot as plt\n",
    "%matplotlib inline"
   ]
  },
  {
   "cell_type": "code",
   "execution_count": 63,
   "id": "2e4a37db-bcdf-40d4-b0be-142e8e208b10",
   "metadata": {},
   "outputs": [
    {
     "data": {
      "text/html": [
       "<div>\n",
       "<style scoped>\n",
       "    .dataframe tbody tr th:only-of-type {\n",
       "        vertical-align: middle;\n",
       "    }\n",
       "\n",
       "    .dataframe tbody tr th {\n",
       "        vertical-align: top;\n",
       "    }\n",
       "\n",
       "    .dataframe thead th {\n",
       "        text-align: right;\n",
       "    }\n",
       "</style>\n",
       "<table border=\"1\" class=\"dataframe\">\n",
       "  <thead>\n",
       "    <tr style=\"text-align: right;\">\n",
       "      <th></th>\n",
       "      <th>Price</th>\n",
       "      <th>Volume</th>\n",
       "      <th>CirSupply</th>\n",
       "      <th>Velocity</th>\n",
       "      <th>Valuation</th>\n",
       "    </tr>\n",
       "    <tr>\n",
       "      <th>Date</th>\n",
       "      <th></th>\n",
       "      <th></th>\n",
       "      <th></th>\n",
       "      <th></th>\n",
       "      <th></th>\n",
       "    </tr>\n",
       "  </thead>\n",
       "  <tbody>\n",
       "    <tr>\n",
       "      <th>2019-04-30</th>\n",
       "      <td>3.94</td>\n",
       "      <td>13686531</td>\n",
       "      <td>190546613</td>\n",
       "      <td>0.07</td>\n",
       "      <td>0.02</td>\n",
       "    </tr>\n",
       "    <tr>\n",
       "      <th>2019-05-01</th>\n",
       "      <td>4.39</td>\n",
       "      <td>20621546</td>\n",
       "      <td>190693816</td>\n",
       "      <td>0.11</td>\n",
       "      <td>0.05</td>\n",
       "    </tr>\n",
       "    <tr>\n",
       "      <th>2019-05-02</th>\n",
       "      <td>4.59</td>\n",
       "      <td>18257924</td>\n",
       "      <td>190881932</td>\n",
       "      <td>0.10</td>\n",
       "      <td>0.04</td>\n",
       "    </tr>\n",
       "    <tr>\n",
       "      <th>2019-05-03</th>\n",
       "      <td>5.31</td>\n",
       "      <td>30479748</td>\n",
       "      <td>190718793</td>\n",
       "      <td>0.16</td>\n",
       "      <td>0.14</td>\n",
       "    </tr>\n",
       "    <tr>\n",
       "      <th>2019-05-04</th>\n",
       "      <td>5.26</td>\n",
       "      <td>31346671</td>\n",
       "      <td>190688146</td>\n",
       "      <td>0.16</td>\n",
       "      <td>0.14</td>\n",
       "    </tr>\n",
       "  </tbody>\n",
       "</table>\n",
       "</div>"
      ],
      "text/plain": [
       "            Price    Volume  CirSupply  Velocity  Valuation\n",
       "Date                                                       \n",
       "2019-04-30   3.94  13686531  190546613      0.07       0.02\n",
       "2019-05-01   4.39  20621546  190693816      0.11       0.05\n",
       "2019-05-02   4.59  18257924  190881932      0.10       0.04\n",
       "2019-05-03   5.31  30479748  190718793      0.16       0.14\n",
       "2019-05-04   5.26  31346671  190688146      0.16       0.14"
      ]
     },
     "execution_count": 63,
     "metadata": {},
     "output_type": "execute_result"
    }
   ],
   "source": [
    "# Download the data\n",
    "data = pd.read_csv('atom.csv',\n",
    "                   parse_dates=['Date'],\n",
    "                   index_col=['Date'])\n",
    "data.head()"
   ]
  },
  {
   "cell_type": "code",
   "execution_count": 64,
   "id": "a64f0aa1-e23e-4936-90db-e00d521aad30",
   "metadata": {},
   "outputs": [],
   "source": [
    "price = df ['Price']"
   ]
  },
  {
   "cell_type": "code",
   "execution_count": 65,
   "id": "65e0f878-f460-44ee-9964-148b466dc88e",
   "metadata": {},
   "outputs": [
    {
     "data": {
      "text/plain": [
       "count    1208.000000\n",
       "mean       12.301937\n",
       "std        10.870905\n",
       "min         1.650000\n",
       "25%         4.007500\n",
       "50%         6.440000\n",
       "75%        20.465000\n",
       "max        44.540000\n",
       "Name: Price, dtype: float64"
      ]
     },
     "execution_count": 65,
     "metadata": {},
     "output_type": "execute_result"
    }
   ],
   "source": [
    "price.describe()"
   ]
  },
  {
   "cell_type": "code",
   "execution_count": 66,
   "id": "cae384be-db9b-4a69-9c4a-92c8deb7e40b",
   "metadata": {},
   "outputs": [],
   "source": [
    "# Import necessary packages\n",
    "import os\n",
    "import matplotlib.pyplot as plt\n",
    "%matplotlib inline\n",
    "import matplotlib.dates as mdates\n",
    "from matplotlib.dates import DateFormatter\n",
    "import seaborn as sns\n",
    "import pandas as pd\n",
    "\n",
    "# Handle date time conversions between pandas and matplotlib\n",
    "from pandas.plotting import register_matplotlib_converters\n",
    "register_matplotlib_converters()\n",
    "\n",
    "# Use white grid plot background from seaborn\n",
    "sns.set(font_scale=1.5, style=\"whitegrid\")"
   ]
  },
  {
   "cell_type": "code",
   "execution_count": 67,
   "id": "daf8be0b-fcb7-4274-8aaf-5d1535db3a97",
   "metadata": {},
   "outputs": [
    {
     "data": {
      "image/png": "[encoded data removed]",
      "text/plain": [
       "<Figure size 432x288 with 2 Axes>"
      ]
     },
     "metadata": {},
     "output_type": "display_data"
    }
   ],
   "source": [
    "# Create figure and plot space\n",
    "plt.rc('font', size=8)\n",
    "fig, ax = plt.subplots(figsize=(6, 4))\n",
    "axb = ax.twinx()\n",
    "\n",
    "# Add x-axis and y-axis\n",
    "ax.plot(data.index.values, price, color='red', label='Price')\n",
    "\n",
    "# Set title and labels for axes\n",
    "ax.set(xlabel=\"\",\n",
    "       ylabel=\"Price\",\n",
    "       title=\"ATOM\")\n",
    "\n",
    "# Plotting on the second y-axis\n",
    "axb.set_ylabel('Valuation')\n",
    "axb.plot(data.index.values, val, color='purple', linestyle='--', label='Valuation')\n",
    "\n",
    "# Handling of getting lines and labels from all axes for a single legend\n",
    "lines, labels = ax.get_legend_handles_labels()\n",
    "lines2, labels2 = axb.get_legend_handles_labels()\n",
    "axb.legend(lines + lines2, labels + labels2, loc='upper left');\n",
    "\n",
    "# Define the date format\n",
    "date_form = DateFormatter(\"%Y\")\n",
    "ax.xaxis.set_major_formatter(date_form)\n",
    "\n",
    "# Ensure a major tick for each week using (interval=1) \n",
    "ax.xaxis.set_major_locator(mdates.WeekdayLocator(interval=47))\n",
    "\n",
    "plt.show()"
   ]
  },
  {
   "cell_type": "markdown",
   "id": "d787386d-b4c0-4416-9824-b92288ac6806",
   "metadata": {},
   "source": [
    "# Linear Regression"
   ]
  },
  {
   "cell_type": "code",
   "execution_count": 68,
   "id": "9b7bee31-2b34-4c2a-9bb8-54fb1d686baa",
   "metadata": {},
   "outputs": [],
   "source": [
    "import numpy as np\n",
    "import pandas as pd\n",
    "import matplotlib.pyplot as plt\n",
    "from sklearn import datasets, linear_model\n",
    "from sklearn.metrics import mean_squared_error, r2_score"
   ]
  },
  {
   "cell_type": "code",
   "execution_count": 69,
   "id": "64342356-56fc-4484-bb5b-f22e495c818b",
   "metadata": {},
   "outputs": [
    {
     "name": "stderr",
     "output_type": "stream",
     "text": [
      "*c* argument looks like a single numeric RGB or RGBA sequence, which should be avoided as value-mapping will have precedence in case its length matches with *x* & *y*.  Please use the *color* keyword-argument or provide a 2D array with a single row if you intend to specify the same RGB or RGBA value for all points.\n"
     ]
    },
    {
     "data": {
      "text/plain": [
       "<AxesSubplot:title={'center':'Velocity vs Valuation'}, xlabel='Velocity', ylabel='Valuation'>"
      ]
     },
     "execution_count": 69,
     "metadata": {},
     "output_type": "execute_result"
    },
    {
     "data": {
      "image/png": "[encoded data removed]",
      "text/plain": [
       "<Figure size 432x288 with 1 Axes>"
      ]
     },
     "metadata": {},
     "output_type": "display_data"
    }
   ],
   "source": [
    "df.plot (kind='scatter', x='Velocity', y='Valuation', title='Velocity vs Valuation')"
   ]
  },
  {
   "cell_type": "code",
   "execution_count": 70,
   "id": "7854f7de-9a6a-4987-a375-60c21c6507e7",
   "metadata": {},
   "outputs": [
    {
     "name": "stderr",
     "output_type": "stream",
     "text": [
      "*c* argument looks like a single numeric RGB or RGBA sequence, which should be avoided as value-mapping will have precedence in case its length matches with *x* & *y*.  Please use the *color* keyword-argument or provide a 2D array with a single row if you intend to specify the same RGB or RGBA value for all points.\n"
     ]
    },
    {
     "data": {
      "text/plain": [
       "<AxesSubplot:title={'center':'Circulation supply vs Valuation'}, xlabel='CirSupply', ylabel='Valuation'>"
      ]
     },
     "execution_count": 70,
     "metadata": {},
     "output_type": "execute_result"
    },
    {
     "data": {
      "image/png": "[encoded data removed]",
      "text/plain": [
       "<Figure size 432x288 with 1 Axes>"
      ]
     },
     "metadata": {},
     "output_type": "display_data"
    }
   ],
   "source": [
    "df.plot (kind='scatter', x='CirSupply', y='Valuation', title='Circulation supply vs Valuation')"
   ]
  },
  {
   "cell_type": "code",
   "execution_count": 71,
   "id": "504e8072-a993-41fe-a5b5-cbe225d0b728",
   "metadata": {},
   "outputs": [
    {
     "name": "stderr",
     "output_type": "stream",
     "text": [
      "*c* argument looks like a single numeric RGB or RGBA sequence, which should be avoided as value-mapping will have precedence in case its length matches with *x* & *y*.  Please use the *color* keyword-argument or provide a 2D array with a single row if you intend to specify the same RGB or RGBA value for all points.\n"
     ]
    },
    {
     "data": {
      "text/plain": [
       "<AxesSubplot:title={'center':'Volume vs Valuation'}, xlabel='Volume', ylabel='Valuation'>"
      ]
     },
     "execution_count": 71,
     "metadata": {},
     "output_type": "execute_result"
    },
    {
     "data": {
      "image/png": "[encoded data removed]",
      "text/plain": [
       "<Figure size 432x288 with 1 Axes>"
      ]
     },
     "metadata": {},
     "output_type": "display_data"
    }
   ],
   "source": [
    "df.plot (kind='scatter', x='Volume', y='Valuation', title='Volume vs Valuation')"
   ]
  },
  {
   "cell_type": "code",
   "execution_count": 72,
   "id": "6fe63330-98be-4d3d-b34b-23ba7fb5e58e",
   "metadata": {},
   "outputs": [],
   "source": [
    "import sklearn.linear_model as lm"
   ]
  },
  {
   "cell_type": "code",
   "execution_count": 73,
   "id": "a9706924-5f98-4742-913d-96ca0ef31ee8",
   "metadata": {},
   "outputs": [],
   "source": [
    "lr =lm.LinearRegression()"
   ]
  },
  {
   "cell_type": "code",
   "execution_count": 74,
   "id": "3840c426-a331-4aeb-8294-3dfd3d5bcddd",
   "metadata": {},
   "outputs": [],
   "source": [
    "df.columns = df.columns.str.strip()"
   ]
  },
  {
   "cell_type": "code",
   "execution_count": 75,
   "id": "a1245882-dcc4-4a57-8797-71ebfe96529e",
   "metadata": {},
   "outputs": [],
   "source": [
    "x = df.Volume       #Independent variable\n",
    "y = df.Valuation        #Dependent variable"
   ]
  },
  {
   "cell_type": "code",
   "execution_count": 76,
   "id": "b6462eb8-f317-4a81-9516-e595141e76e9",
   "metadata": {},
   "outputs": [],
   "source": [
    "x = df.iloc[:, 1].values\n",
    "y = df.iloc[:, 4].values\n",
    "\n",
    "x = x.reshape (-1,1) #reshape to column"
   ]
  },
  {
   "cell_type": "code",
   "execution_count": 77,
   "id": "45c0620b-9a4a-4dc0-a3b3-b71ee1891f31",
   "metadata": {},
   "outputs": [
    {
     "data": {
      "text/html": [
       "<style>#sk-container-id-3 {color: black;background-color: white;}#sk-container-id-3 pre{padding: 0;}#sk-container-id-3 div.sk-toggleable {background-color: white;}#sk-container-id-3 label.sk-toggleable__label {cursor: pointer;display: block;width: 100%;margin-bottom: 0;padding: 0.3em;box-sizing: border-box;text-align: center;}#sk-container-id-3 label.sk-toggleable__label-arrow:before {content: \"▸\";float: left;margin-right: 0.25em;color: #696969;}#sk-container-id-3 label.sk-toggleable__label-arrow:hover:before {color: black;}#sk-container-id-3 div.sk-estimator:hover label.sk-toggleable__label-arrow:before {color: black;}#sk-container-id-3 div.sk-toggleable__content {max-height: 0;max-width: 0;overflow: hidden;text-align: left;background-color: #f0f8ff;}#sk-container-id-3 div.sk-toggleable__content pre {margin: 0.2em;color: black;border-radius: 0.25em;background-color: #f0f8ff;}#sk-container-id-3 input.sk-toggleable__control:checked~div.sk-toggleable__content {max-height: 200px;max-width: 100%;overflow: auto;}#sk-container-id-3 input.sk-toggleable__control:checked~label.sk-toggleable__label-arrow:before {content: \"▾\";}#sk-container-id-3 div.sk-estimator input.sk-toggleable__control:checked~label.sk-toggleable__label {background-color: #d4ebff;}#sk-container-id-3 div.sk-label input.sk-toggleable__control:checked~label.sk-toggleable__label {background-color: #d4ebff;}#sk-container-id-3 input.sk-hidden--visually {border: 0;clip: rect(1px 1px 1px 1px);clip: rect(1px, 1px, 1px, 1px);height: 1px;margin: -1px;overflow: hidden;padding: 0;position: absolute;width: 1px;}#sk-container-id-3 div.sk-estimator {font-family: monospace;background-color: #f0f8ff;border: 1px dotted black;border-radius: 0.25em;box-sizing: border-box;margin-bottom: 0.5em;}#sk-container-id-3 div.sk-estimator:hover {background-color: #d4ebff;}#sk-container-id-3 div.sk-parallel-item::after {content: \"\";width: 100%;border-bottom: 1px solid gray;flex-grow: 1;}#sk-container-id-3 div.sk-label:hover label.sk-toggleable__label {background-color: #d4ebff;}#sk-container-id-3 div.sk-serial::before {content: \"\";position: absolute;border-left: 1px solid gray;box-sizing: border-box;top: 0;bottom: 0;left: 50%;z-index: 0;}#sk-container-id-3 div.sk-serial {display: flex;flex-direction: column;align-items: center;background-color: white;padding-right: 0.2em;padding-left: 0.2em;position: relative;}#sk-container-id-3 div.sk-item {position: relative;z-index: 1;}#sk-container-id-3 div.sk-parallel {display: flex;align-items: stretch;justify-content: center;background-color: white;position: relative;}#sk-container-id-3 div.sk-item::before, #sk-container-id-3 div.sk-parallel-item::before {content: \"\";position: absolute;border-left: 1px solid gray;box-sizing: border-box;top: 0;bottom: 0;left: 50%;z-index: -1;}#sk-container-id-3 div.sk-parallel-item {display: flex;flex-direction: column;z-index: 1;position: relative;background-color: white;}#sk-container-id-3 div.sk-parallel-item:first-child::after {align-self: flex-end;width: 50%;}#sk-container-id-3 div.sk-parallel-item:last-child::after {align-self: flex-start;width: 50%;}#sk-container-id-3 div.sk-parallel-item:only-child::after {width: 0;}#sk-container-id-3 div.sk-dashed-wrapped {border: 1px dashed gray;margin: 0 0.4em 0.5em 0.4em;box-sizing: border-box;padding-bottom: 0.4em;background-color: white;}#sk-container-id-3 div.sk-label label {font-family: monospace;font-weight: bold;display: inline-block;line-height: 1.2em;}#sk-container-id-3 div.sk-label-container {text-align: center;}#sk-container-id-3 div.sk-container {/* jupyter's `normalize.less` sets `[hidden] { display: none; }` but bootstrap.min.css set `[hidden] { display: none !important; }` so we also need the `!important` here to be able to override the default hidden behavior on the sphinx rendered scikit-learn.org. See: https://github.com/scikit-learn/scikit-learn/issues/21755 */display: inline-block !important;position: relative;}#sk-container-id-3 div.sk-text-repr-fallback {display: none;}</style><div id=\"sk-container-id-3\" class=\"sk-top-container\"><div class=\"sk-text-repr-fallback\"><pre>LinearRegression()</pre><b>In a Jupyter environment, please rerun this cell to show the HTML representation or trust the notebook. <br />On GitHub, the HTML representation is unable to render, please try loading this page with nbviewer.org.</b></div><div class=\"sk-container\" hidden><div class=\"sk-item\"><div class=\"sk-estimator sk-toggleable\"><input class=\"sk-toggleable__control sk-hidden--visually\" id=\"sk-estimator-id-5\" type=\"checkbox\" checked><label for=\"sk-estimator-id-5\" class=\"sk-toggleable__label sk-toggleable__label-arrow\">LinearRegression</label><div class=\"sk-toggleable__content\"><pre>LinearRegression()</pre></div></div></div></div></div>"
      ],
      "text/plain": [
       "LinearRegression()"
      ]
     },
     "execution_count": 77,
     "metadata": {},
     "output_type": "execute_result"
    }
   ],
   "source": [
    "lr.fit (x,y)"
   ]
  },
  {
   "cell_type": "code",
   "execution_count": 78,
   "id": "868554c1-03fa-452b-aadd-281d7d279cae",
   "metadata": {},
   "outputs": [
    {
     "data": {
      "text/plain": [
       "Text(0.5, 0, 'Volume')"
      ]
     },
     "execution_count": 78,
     "metadata": {},
     "output_type": "execute_result"
    },
    {
     "data": {
      "image/png": "[encoded data removed]",
      "text/plain": [
       "<Figure size 432x288 with 1 Axes>"
      ]
     },
     "metadata": {},
     "output_type": "display_data"
    }
   ],
   "source": [
    "plt.scatter (x,y, color ='blue', alpha=0.3)\n",
    "plt.plot (x, lr.predict (x), color = 'red', linewidth=1)\n",
    "plt.title ('Volume vs Valuation')\n",
    "plt.ylabel ('Valuation')\n",
    "plt.xlabel ('Volume')"
   ]
  },
  {
   "cell_type": "code",
   "execution_count": 79,
   "id": "46aad168-0dc6-43e2-9051-319afa4ea3d3",
   "metadata": {},
   "outputs": [
    {
     "data": {
      "text/plain": [
       "array([-0.32275824, -0.12343481, -0.19136909, ..., -0.05293678,\n",
       "        0.11702711,  0.29661525])"
      ]
     },
     "execution_count": 79,
     "metadata": {},
     "output_type": "execute_result"
    }
   ],
   "source": [
    "lr.predict (x)"
   ]
  },
  {
   "cell_type": "code",
   "execution_count": 80,
   "id": "03f237e7-34b4-4d06-969f-44a8e685fcd4",
   "metadata": {},
   "outputs": [
    {
     "data": {
      "text/plain": [
       "0.5053062283769983"
      ]
     },
     "execution_count": 80,
     "metadata": {},
     "output_type": "execute_result"
    }
   ],
   "source": [
    "R_Sq = r2_score (y, lr.predict (x))\n",
    "R_Sq"
   ]
  },
  {
   "cell_type": "code",
   "execution_count": 81,
   "id": "4b239540-35ac-488d-91f6-2d3da9141e0c",
   "metadata": {},
   "outputs": [],
   "source": [
    "# Model Statistics"
   ]
  },
  {
   "cell_type": "code",
   "execution_count": 82,
   "id": "c3afeb08-e0e1-4af6-9ec9-4370e24214f4",
   "metadata": {},
   "outputs": [
    {
     "data": {
      "text/plain": [
       "Intercept   -7.161311e-01\n",
       "Volume       2.874160e-08\n",
       "dtype: float64"
      ]
     },
     "execution_count": 82,
     "metadata": {},
     "output_type": "execute_result"
    }
   ],
   "source": [
    "import statsmodels.formula.api as smf\n",
    "model1=smf.ols(formula='Valuation~Volume',data=df).fit()\n",
    "model1.params"
   ]
  },
  {
   "cell_type": "code",
   "execution_count": 83,
   "id": "69735573-c37c-4dcb-a341-7ac104234100",
   "metadata": {},
   "outputs": [
    {
     "data": {
      "text/plain": [
       "Intercept     1.064912e-60\n",
       "Volume       1.562869e-186\n",
       "dtype: float64"
      ]
     },
     "execution_count": 83,
     "metadata": {},
     "output_type": "execute_result"
    }
   ],
   "source": [
    "model1.pvalues"
   ]
  },
  {
   "cell_type": "code",
   "execution_count": 84,
   "id": "4abdd1b3-208c-4d9b-a4b0-b6f62a9a1c13",
   "metadata": {},
   "outputs": [
    {
     "data": {
      "text/plain": [
       "0.5053062283769983"
      ]
     },
     "execution_count": 84,
     "metadata": {},
     "output_type": "execute_result"
    }
   ],
   "source": [
    "model1.rsquared"
   ]
  },
  {
   "cell_type": "code",
   "execution_count": 85,
   "id": "9a3359ee-bf60-4c0a-a593-5ca8e3f5c12f",
   "metadata": {},
   "outputs": [
    {
     "data": {
      "text/html": [
       "<table class=\"simpletable\">\n",
       "<caption>OLS Regression Results</caption>\n",
       "<tr>\n",
       "  <th>Dep. Variable:</th>        <td>Valuation</td>    <th>  R-squared:         </th> <td>   0.505</td> \n",
       "</tr>\n",
       "<tr>\n",
       "  <th>Model:</th>                   <td>OLS</td>       <th>  Adj. R-squared:    </th> <td>   0.505</td> \n",
       "</tr>\n",
       "<tr>\n",
       "  <th>Method:</th>             <td>Least Squares</td>  <th>  F-statistic:       </th> <td>   1232.</td> \n",
       "</tr>\n",
       "<tr>\n",
       "  <th>Date:</th>             <td>Sat, 03 Sep 2022</td> <th>  Prob (F-statistic):</th> <td>1.56e-186</td>\n",
       "</tr>\n",
       "<tr>\n",
       "  <th>Time:</th>                 <td>00:56:18</td>     <th>  Log-Likelihood:    </th> <td> -1393.8</td> \n",
       "</tr>\n",
       "<tr>\n",
       "  <th>No. Observations:</th>      <td>  1208</td>      <th>  AIC:               </th> <td>   2792.</td> \n",
       "</tr>\n",
       "<tr>\n",
       "  <th>Df Residuals:</th>          <td>  1206</td>      <th>  BIC:               </th> <td>   2802.</td> \n",
       "</tr>\n",
       "<tr>\n",
       "  <th>Df Model:</th>              <td>     1</td>      <th>                     </th>     <td> </td>    \n",
       "</tr>\n",
       "<tr>\n",
       "  <th>Covariance Type:</th>      <td>nonrobust</td>    <th>                     </th>     <td> </td>    \n",
       "</tr>\n",
       "</table>\n",
       "<table class=\"simpletable\">\n",
       "<tr>\n",
       "      <td></td>         <th>coef</th>     <th>std err</th>      <th>t</th>      <th>P>|t|</th>  <th>[0.025</th>    <th>0.975]</th>  \n",
       "</tr>\n",
       "<tr>\n",
       "  <th>Intercept</th> <td>   -0.7161</td> <td>    0.041</td> <td>  -17.404</td> <td> 0.000</td> <td>   -0.797</td> <td>   -0.635</td>\n",
       "</tr>\n",
       "<tr>\n",
       "  <th>Volume</th>    <td> 2.874e-08</td> <td> 8.19e-10</td> <td>   35.098</td> <td> 0.000</td> <td> 2.71e-08</td> <td> 3.03e-08</td>\n",
       "</tr>\n",
       "</table>\n",
       "<table class=\"simpletable\">\n",
       "<tr>\n",
       "  <th>Omnibus:</th>       <td>1101.570</td> <th>  Durbin-Watson:     </th> <td>   0.626</td> \n",
       "</tr>\n",
       "<tr>\n",
       "  <th>Prob(Omnibus):</th>  <td> 0.000</td>  <th>  Jarque-Bera (JB):  </th> <td>60554.215</td>\n",
       "</tr>\n",
       "<tr>\n",
       "  <th>Skew:</th>           <td> 4.018</td>  <th>  Prob(JB):          </th> <td>    0.00</td> \n",
       "</tr>\n",
       "<tr>\n",
       "  <th>Kurtosis:</th>       <td>36.742</td>  <th>  Cond. No.          </th> <td>9.36e+07</td> \n",
       "</tr>\n",
       "</table><br/><br/>Notes:<br/>[1] Standard Errors assume that the covariance matrix of the errors is correctly specified.<br/>[2] The condition number is large, 9.36e+07. This might indicate that there are<br/>strong multicollinearity or other numerical problems."
      ],
      "text/plain": [
       "<class 'statsmodels.iolib.summary.Summary'>\n",
       "\"\"\"\n",
       "                            OLS Regression Results                            \n",
       "==============================================================================\n",
       "Dep. Variable:              Valuation   R-squared:                       0.505\n",
       "Model:                            OLS   Adj. R-squared:                  0.505\n",
       "Method:                 Least Squares   F-statistic:                     1232.\n",
       "Date:                Sat, 03 Sep 2022   Prob (F-statistic):          1.56e-186\n",
       "Time:                        00:56:18   Log-Likelihood:                -1393.8\n",
       "No. Observations:                1208   AIC:                             2792.\n",
       "Df Residuals:                    1206   BIC:                             2802.\n",
       "Df Model:                           1                                         \n",
       "Covariance Type:            nonrobust                                         \n",
       "==============================================================================\n",
       "                 coef    std err          t      P>|t|      [0.025      0.975]\n",
       "------------------------------------------------------------------------------\n",
       "Intercept     -0.7161      0.041    -17.404      0.000      -0.797      -0.635\n",
       "Volume      2.874e-08   8.19e-10     35.098      0.000    2.71e-08    3.03e-08\n",
       "==============================================================================\n",
       "Omnibus:                     1101.570   Durbin-Watson:                   0.626\n",
       "Prob(Omnibus):                  0.000   Jarque-Bera (JB):            60554.215\n",
       "Skew:                           4.018   Prob(JB):                         0.00\n",
       "Kurtosis:                      36.742   Cond. No.                     9.36e+07\n",
       "==============================================================================\n",
       "\n",
       "Notes:\n",
       "[1] Standard Errors assume that the covariance matrix of the errors is correctly specified.\n",
       "[2] The condition number is large, 9.36e+07. This might indicate that there are\n",
       "strong multicollinearity or other numerical problems.\n",
       "\"\"\""
      ]
     },
     "execution_count": 85,
     "metadata": {},
     "output_type": "execute_result"
    }
   ],
   "source": [
    "model1.summary()"
   ]
  },
  {
   "cell_type": "code",
   "execution_count": 86,
   "id": "06507fc8-fafc-40c1-800a-8f614b584488",
   "metadata": {},
   "outputs": [
    {
     "data": {
      "text/plain": [
       "Date\n",
       "2019-04-30   -0.322758\n",
       "2019-05-01   -0.123435\n",
       "2019-05-02   -0.191369\n",
       "2019-05-03    0.159906\n",
       "2019-05-04    0.184822\n",
       "                ...   \n",
       "2022-08-15   -0.241771\n",
       "2022-08-16   -0.214003\n",
       "2022-08-17   -0.052937\n",
       "2022-08-18    0.117027\n",
       "2022-08-19    0.296615\n",
       "Length: 1208, dtype: float64"
      ]
     },
     "execution_count": 86,
     "metadata": {},
     "output_type": "execute_result"
    }
   ],
   "source": [
    "val_pred=model1.predict(pd.DataFrame(df['Volume']))\n",
    "val_pred"
   ]
  },
  {
   "cell_type": "code",
   "execution_count": 87,
   "id": "fb508a66-9668-4688-af76-f8c6bad4d134",
   "metadata": {},
   "outputs": [
    {
     "data": {
      "text/plain": [
       "(8631639.031158319, 0.5023178807947015, 17183618.901844528)"
      ]
     },
     "execution_count": 87,
     "metadata": {},
     "output_type": "execute_result"
    }
   ],
   "source": [
    "df['val_pred']=-1.301119e-01*df['Volume']+3.395391e-08\n",
    "df['RSE']=(df['Valuation']-df['val_pred'])**2\n",
    "RSEd=df.sum()['RSE']\n",
    "RSE=np.sqrt(RSEd/693)\n",
    "valmean=np.mean(df['Valuation'])\n",
    "error=RSE/valmean\n",
    "RSE,valmean,error"
   ]
  },
  {
   "cell_type": "markdown",
   "id": "937d5dbf-f5f5-40a9-b45a-5a32a2d065c1",
   "metadata": {},
   "source": [
    "# Multiple Linear Regression"
   ]
  },
  {
   "cell_type": "code",
   "execution_count": 88,
   "id": "0b771b2e-f6e5-4c06-890b-10ae9ad22bd2",
   "metadata": {},
   "outputs": [
    {
     "data": {
      "text/plain": [
       "Intercept   -8.062966e-01\n",
       "Volume       7.027235e-08\n",
       "Velocity    -8.261665e+00\n",
       "dtype: float64"
      ]
     },
     "execution_count": 88,
     "metadata": {},
     "output_type": "execute_result"
    }
   ],
   "source": [
    "import statsmodels.formula.api as smf\n",
    "model2=smf.ols(formula='Valuation~Volume+Velocity',data=df).fit()\n",
    "model2.params"
   ]
  },
  {
   "cell_type": "code",
   "execution_count": 89,
   "id": "d1dadd98-3f7f-4f27-8533-632d42cc2acc",
   "metadata": {},
   "outputs": [
    {
     "data": {
      "text/plain": [
       "Date\n",
       "2019-04-30   -0.422828\n",
       "2019-05-01   -0.265955\n",
       "2019-05-02   -0.349436\n",
       "2019-05-03    0.013721\n",
       "2019-05-04    0.074641\n",
       "                ...   \n",
       "2022-08-15   -0.142200\n",
       "2022-08-16   -0.074309\n",
       "2022-08-17    0.154260\n",
       "2022-08-18    0.404584\n",
       "2022-08-19    0.678438\n",
       "Length: 1208, dtype: float64"
      ]
     },
     "execution_count": 89,
     "metadata": {},
     "output_type": "execute_result"
    }
   ],
   "source": [
    "val_pred=model2.predict(df[['Volume','Velocity']])\n",
    "val_pred"
   ]
  },
  {
   "cell_type": "code",
   "execution_count": 90,
   "id": "94ea3f66-b3a0-4f36-961a-23a8f2a3a5a2",
   "metadata": {},
   "outputs": [
    {
     "data": {
      "text/html": [
       "<table class=\"simpletable\">\n",
       "<caption>OLS Regression Results</caption>\n",
       "<tr>\n",
       "  <th>Dep. Variable:</th>        <td>Valuation</td>    <th>  R-squared:         </th> <td>   0.543</td> \n",
       "</tr>\n",
       "<tr>\n",
       "  <th>Model:</th>                   <td>OLS</td>       <th>  Adj. R-squared:    </th> <td>   0.542</td> \n",
       "</tr>\n",
       "<tr>\n",
       "  <th>Method:</th>             <td>Least Squares</td>  <th>  F-statistic:       </th> <td>   715.1</td> \n",
       "</tr>\n",
       "<tr>\n",
       "  <th>Date:</th>             <td>Sat, 03 Sep 2022</td> <th>  Prob (F-statistic):</th> <td>1.81e-205</td>\n",
       "</tr>\n",
       "<tr>\n",
       "  <th>Time:</th>                 <td>00:56:25</td>     <th>  Log-Likelihood:    </th> <td> -1346.2</td> \n",
       "</tr>\n",
       "<tr>\n",
       "  <th>No. Observations:</th>      <td>  1208</td>      <th>  AIC:               </th> <td>   2698.</td> \n",
       "</tr>\n",
       "<tr>\n",
       "  <th>Df Residuals:</th>          <td>  1205</td>      <th>  BIC:               </th> <td>   2714.</td> \n",
       "</tr>\n",
       "<tr>\n",
       "  <th>Df Model:</th>              <td>     2</td>      <th>                     </th>     <td> </td>    \n",
       "</tr>\n",
       "<tr>\n",
       "  <th>Covariance Type:</th>      <td>nonrobust</td>    <th>                     </th>     <td> </td>    \n",
       "</tr>\n",
       "</table>\n",
       "<table class=\"simpletable\">\n",
       "<tr>\n",
       "      <td></td>         <th>coef</th>     <th>std err</th>      <th>t</th>      <th>P>|t|</th>  <th>[0.025</th>    <th>0.975]</th>  \n",
       "</tr>\n",
       "<tr>\n",
       "  <th>Intercept</th> <td>   -0.8063</td> <td>    0.041</td> <td>  -19.857</td> <td> 0.000</td> <td>   -0.886</td> <td>   -0.727</td>\n",
       "</tr>\n",
       "<tr>\n",
       "  <th>Volume</th>    <td> 7.027e-08</td> <td> 4.26e-09</td> <td>   16.512</td> <td> 0.000</td> <td> 6.19e-08</td> <td> 7.86e-08</td>\n",
       "</tr>\n",
       "<tr>\n",
       "  <th>Velocity</th>  <td>   -8.2617</td> <td>    0.832</td> <td>   -9.930</td> <td> 0.000</td> <td>   -9.894</td> <td>   -6.629</td>\n",
       "</tr>\n",
       "</table>\n",
       "<table class=\"simpletable\">\n",
       "<tr>\n",
       "  <th>Omnibus:</th>       <td>1164.783</td> <th>  Durbin-Watson:     </th> <td>   0.686</td> \n",
       "</tr>\n",
       "<tr>\n",
       "  <th>Prob(Omnibus):</th>  <td> 0.000</td>  <th>  Jarque-Bera (JB):  </th> <td>86615.461</td>\n",
       "</tr>\n",
       "<tr>\n",
       "  <th>Skew:</th>           <td> 4.286</td>  <th>  Prob(JB):          </th> <td>    0.00</td> \n",
       "</tr>\n",
       "<tr>\n",
       "  <th>Kurtosis:</th>       <td>43.588</td>  <th>  Cond. No.          </th> <td>1.97e+09</td> \n",
       "</tr>\n",
       "</table><br/><br/>Notes:<br/>[1] Standard Errors assume that the covariance matrix of the errors is correctly specified.<br/>[2] The condition number is large, 1.97e+09. This might indicate that there are<br/>strong multicollinearity or other numerical problems."
      ],
      "text/plain": [
       "<class 'statsmodels.iolib.summary.Summary'>\n",
       "\"\"\"\n",
       "                            OLS Regression Results                            \n",
       "==============================================================================\n",
       "Dep. Variable:              Valuation   R-squared:                       0.543\n",
       "Model:                            OLS   Adj. R-squared:                  0.542\n",
       "Method:                 Least Squares   F-statistic:                     715.1\n",
       "Date:                Sat, 03 Sep 2022   Prob (F-statistic):          1.81e-205\n",
       "Time:                        00:56:25   Log-Likelihood:                -1346.2\n",
       "No. Observations:                1208   AIC:                             2698.\n",
       "Df Residuals:                    1205   BIC:                             2714.\n",
       "Df Model:                           2                                         \n",
       "Covariance Type:            nonrobust                                         \n",
       "==============================================================================\n",
       "                 coef    std err          t      P>|t|      [0.025      0.975]\n",
       "------------------------------------------------------------------------------\n",
       "Intercept     -0.8063      0.041    -19.857      0.000      -0.886      -0.727\n",
       "Volume      7.027e-08   4.26e-09     16.512      0.000    6.19e-08    7.86e-08\n",
       "Velocity      -8.2617      0.832     -9.930      0.000      -9.894      -6.629\n",
       "==============================================================================\n",
       "Omnibus:                     1164.783   Durbin-Watson:                   0.686\n",
       "Prob(Omnibus):                  0.000   Jarque-Bera (JB):            86615.461\n",
       "Skew:                           4.286   Prob(JB):                         0.00\n",
       "Kurtosis:                      43.588   Cond. No.                     1.97e+09\n",
       "==============================================================================\n",
       "\n",
       "Notes:\n",
       "[1] Standard Errors assume that the covariance matrix of the errors is correctly specified.\n",
       "[2] The condition number is large, 1.97e+09. This might indicate that there are\n",
       "strong multicollinearity or other numerical problems.\n",
       "\"\"\""
      ]
     },
     "execution_count": 90,
     "metadata": {},
     "output_type": "execute_result"
    }
   ],
   "source": [
    "model2.summary()"
   ]
  },
  {
   "cell_type": "code",
   "execution_count": 91,
   "id": "aa921626-0c6f-4616-934b-3849ee7ec10b",
   "metadata": {},
   "outputs": [
    {
     "data": {
      "text/plain": [
       "(1.7024157823094335, 0.5023178807947015, 3.3891204103984798)"
      ]
     },
     "execution_count": 91,
     "metadata": {},
     "output_type": "execute_result"
    }
   ],
   "source": [
    "import numpy as np\n",
    "df['val_pred']=-3.726460e-01 + 2.499669e-08*df['Volume'] + 3.684614e+00*df['Velocity']\n",
    "df['RSE']=(df['Valuation']-df['val_pred'])**2\n",
    "RSEd=df.sum()['RSE']\n",
    "RSE=np.sqrt(RSEd/692)\n",
    "valmean=np.mean(df['Valuation'])\n",
    "error=RSE/valmean\n",
    "RSE,valmean,error"
   ]
  },
  {
   "cell_type": "code",
   "execution_count": 92,
   "id": "701be6b0-975e-42e4-887c-ac9e313b22a9",
   "metadata": {},
   "outputs": [
    {
     "data": {
      "text/plain": [
       "Intercept   -3.345328e-01\n",
       "Volume       8.170638e-08\n",
       "Velocity    -1.064447e+01\n",
       "CirSupply   -2.181921e-09\n",
       "dtype: float64"
      ]
     },
     "execution_count": 92,
     "metadata": {},
     "output_type": "execute_result"
    }
   ],
   "source": [
    "import statsmodels.formula.api as smf\n",
    "model3=smf.ols(formula='Valuation~Volume+Velocity+CirSupply',data=df).fit()\n",
    "model3.params"
   ]
  },
  {
   "cell_type": "code",
   "execution_count": 93,
   "id": "2851f958-43ee-42ab-9e81-6f396fbebefb",
   "metadata": {},
   "outputs": [
    {
     "data": {
      "text/html": [
       "<table class=\"simpletable\">\n",
       "<caption>OLS Regression Results</caption>\n",
       "<tr>\n",
       "  <th>Dep. Variable:</th>        <td>Valuation</td>    <th>  R-squared:         </th> <td>   0.544</td> \n",
       "</tr>\n",
       "<tr>\n",
       "  <th>Model:</th>                   <td>OLS</td>       <th>  Adj. R-squared:    </th> <td>   0.543</td> \n",
       "</tr>\n",
       "<tr>\n",
       "  <th>Method:</th>             <td>Least Squares</td>  <th>  F-statistic:       </th> <td>   478.8</td> \n",
       "</tr>\n",
       "<tr>\n",
       "  <th>Date:</th>             <td>Sat, 03 Sep 2022</td> <th>  Prob (F-statistic):</th> <td>9.85e-205</td>\n",
       "</tr>\n",
       "<tr>\n",
       "  <th>Time:</th>                 <td>00:56:27</td>     <th>  Log-Likelihood:    </th> <td> -1344.5</td> \n",
       "</tr>\n",
       "<tr>\n",
       "  <th>No. Observations:</th>      <td>  1208</td>      <th>  AIC:               </th> <td>   2697.</td> \n",
       "</tr>\n",
       "<tr>\n",
       "  <th>Df Residuals:</th>          <td>  1204</td>      <th>  BIC:               </th> <td>   2717.</td> \n",
       "</tr>\n",
       "<tr>\n",
       "  <th>Df Model:</th>              <td>     3</td>      <th>                     </th>     <td> </td>    \n",
       "</tr>\n",
       "<tr>\n",
       "  <th>Covariance Type:</th>      <td>nonrobust</td>    <th>                     </th>     <td> </td>    \n",
       "</tr>\n",
       "</table>\n",
       "<table class=\"simpletable\">\n",
       "<tr>\n",
       "      <td></td>         <th>coef</th>     <th>std err</th>      <th>t</th>      <th>P>|t|</th>  <th>[0.025</th>    <th>0.975]</th>  \n",
       "</tr>\n",
       "<tr>\n",
       "  <th>Intercept</th> <td>   -0.3345</td> <td>    0.258</td> <td>   -1.297</td> <td> 0.195</td> <td>   -0.840</td> <td>    0.171</td>\n",
       "</tr>\n",
       "<tr>\n",
       "  <th>Volume</th>    <td> 8.171e-08</td> <td> 7.49e-09</td> <td>   10.902</td> <td> 0.000</td> <td>  6.7e-08</td> <td> 9.64e-08</td>\n",
       "</tr>\n",
       "<tr>\n",
       "  <th>Velocity</th>  <td>  -10.6445</td> <td>    1.531</td> <td>   -6.951</td> <td> 0.000</td> <td>  -13.649</td> <td>   -7.640</td>\n",
       "</tr>\n",
       "<tr>\n",
       "  <th>CirSupply</th> <td>-2.182e-09</td> <td> 1.18e-09</td> <td>   -1.853</td> <td> 0.064</td> <td>-4.49e-09</td> <td> 1.29e-10</td>\n",
       "</tr>\n",
       "</table>\n",
       "<table class=\"simpletable\">\n",
       "<tr>\n",
       "  <th>Omnibus:</th>       <td>1189.748</td> <th>  Durbin-Watson:     </th> <td>   0.709</td> \n",
       "</tr>\n",
       "<tr>\n",
       "  <th>Prob(Omnibus):</th>  <td> 0.000</td>  <th>  Jarque-Bera (JB):  </th> <td>99132.277</td>\n",
       "</tr>\n",
       "<tr>\n",
       "  <th>Skew:</th>           <td> 4.399</td>  <th>  Prob(JB):          </th> <td>    0.00</td> \n",
       "</tr>\n",
       "<tr>\n",
       "  <th>Kurtosis:</th>       <td>46.498</td>  <th>  Cond. No.          </th> <td>1.63e+10</td> \n",
       "</tr>\n",
       "</table><br/><br/>Notes:<br/>[1] Standard Errors assume that the covariance matrix of the errors is correctly specified.<br/>[2] The condition number is large, 1.63e+10. This might indicate that there are<br/>strong multicollinearity or other numerical problems."
      ],
      "text/plain": [
       "<class 'statsmodels.iolib.summary.Summary'>\n",
       "\"\"\"\n",
       "                            OLS Regression Results                            \n",
       "==============================================================================\n",
       "Dep. Variable:              Valuation   R-squared:                       0.544\n",
       "Model:                            OLS   Adj. R-squared:                  0.543\n",
       "Method:                 Least Squares   F-statistic:                     478.8\n",
       "Date:                Sat, 03 Sep 2022   Prob (F-statistic):          9.85e-205\n",
       "Time:                        00:56:27   Log-Likelihood:                -1344.5\n",
       "No. Observations:                1208   AIC:                             2697.\n",
       "Df Residuals:                    1204   BIC:                             2717.\n",
       "Df Model:                           3                                         \n",
       "Covariance Type:            nonrobust                                         \n",
       "==============================================================================\n",
       "                 coef    std err          t      P>|t|      [0.025      0.975]\n",
       "------------------------------------------------------------------------------\n",
       "Intercept     -0.3345      0.258     -1.297      0.195      -0.840       0.171\n",
       "Volume      8.171e-08   7.49e-09     10.902      0.000     6.7e-08    9.64e-08\n",
       "Velocity     -10.6445      1.531     -6.951      0.000     -13.649      -7.640\n",
       "CirSupply  -2.182e-09   1.18e-09     -1.853      0.064   -4.49e-09    1.29e-10\n",
       "==============================================================================\n",
       "Omnibus:                     1189.748   Durbin-Watson:                   0.709\n",
       "Prob(Omnibus):                  0.000   Jarque-Bera (JB):            99132.277\n",
       "Skew:                           4.399   Prob(JB):                         0.00\n",
       "Kurtosis:                      46.498   Cond. No.                     1.63e+10\n",
       "==============================================================================\n",
       "\n",
       "Notes:\n",
       "[1] Standard Errors assume that the covariance matrix of the errors is correctly specified.\n",
       "[2] The condition number is large, 1.63e+10. This might indicate that there are\n",
       "strong multicollinearity or other numerical problems.\n",
       "\"\"\""
      ]
     },
     "execution_count": 93,
     "metadata": {},
     "output_type": "execute_result"
    }
   ],
   "source": [
    "model3.summary()"
   ]
  },
  {
   "cell_type": "code",
   "execution_count": 94,
   "id": "764a3f12-269d-437e-a271-f64dfd1ed80c",
   "metadata": {},
   "outputs": [
    {
     "data": {
      "text/plain": [
       "Date\n",
       "2019-04-30   -0.377127\n",
       "2019-05-01   -0.236592\n",
       "2019-05-02   -0.323681\n",
       "2019-05-03    0.036608\n",
       "2019-05-04    0.107508\n",
       "                ...   \n",
       "2022-08-15   -0.249510\n",
       "2022-08-16   -0.170625\n",
       "2022-08-17    0.074598\n",
       "2022-08-18    0.344686\n",
       "2022-08-19    0.642283\n",
       "Length: 1208, dtype: float64"
      ]
     },
     "execution_count": 94,
     "metadata": {},
     "output_type": "execute_result"
    }
   ],
   "source": [
    "val_pred=model3.predict(df[['Volume','Velocity','CirSupply']])\n",
    "val_pred"
   ]
  },
  {
   "cell_type": "code",
   "execution_count": 95,
   "id": "0b3ca207-b72b-48aa-a2c5-20f387944417",
   "metadata": {},
   "outputs": [
    {
     "data": {
      "text/plain": [
       "(1.6953665257013717, 0.5023178807947015, 3.375086952945384)"
      ]
     },
     "execution_count": 95,
     "metadata": {},
     "output_type": "execute_result"
    }
   ],
   "source": [
    "import numpy as np\n",
    "df['val_pred']=-0.3919 + 2.436e-08*df['Volume'] + 3.7717*df['Velocity'] + 1.105e-10*df['CirSupply']\n",
    "df['RSE']=(df['Valuation']-df['val_pred'])**2\n",
    "RSEd=df.sum()['RSE']\n",
    "RSE=np.sqrt(RSEd/692)\n",
    "valmean=np.mean(df['Valuation'])\n",
    "error=RSE/valmean\n",
    "RSE,valmean,error"
   ]
  },
  {
   "cell_type": "code",
   "execution_count": 96,
   "id": "a2c8e885-9ec0-4985-a08b-fcb0a930c4f9",
   "metadata": {},
   "outputs": [
    {
     "data": {
      "text/plain": [
       "90.72625446124734"
      ]
     },
     "execution_count": 96,
     "metadata": {},
     "output_type": "execute_result"
    }
   ],
   "source": [
    "model4=smf.ols(formula='Volume~Velocity+CirSupply',data=df).fit()\n",
    "rsquared=model4.rsquared \n",
    "VIF=1/(1-rsquared)\n",
    "VIF"
   ]
  },
  {
   "cell_type": "markdown",
   "id": "1c4fbcd7-5dcc-4739-96db-4464ece7aef6",
   "metadata": {},
   "source": [
    "# Polynomial Regression"
   ]
  },
  {
   "cell_type": "code",
   "execution_count": 97,
   "id": "dbf2208f-0701-4c07-a2ce-23aaedabe01a",
   "metadata": {},
   "outputs": [],
   "source": [
    "from sklearn.preprocessing import PolynomialFeatures\n",
    "from sklearn.pipeline import make_pipeline"
   ]
  },
  {
   "cell_type": "code",
   "execution_count": 98,
   "id": "d6b8dcb3-1fad-4ede-81bf-3b66648d1a8c",
   "metadata": {},
   "outputs": [],
   "source": [
    "x=df.Volume\n",
    "y=df.Valuation"
   ]
  },
  {
   "cell_type": "code",
   "execution_count": 99,
   "id": "216504b0-66d2-43ea-99f8-7859c21b18a7",
   "metadata": {},
   "outputs": [],
   "source": [
    "degree=2\n",
    "model5=make_pipeline (PolynomialFeatures (degree), lr)"
   ]
  },
  {
   "cell_type": "code",
   "execution_count": 100,
   "id": "41a27812-c286-4178-aae3-5fb89b9c784f",
   "metadata": {},
   "outputs": [],
   "source": [
    "x = df.iloc[:, 1].values\n",
    "y = df.iloc[:, 4].values\n",
    "\n",
    "x = x.reshape (-1, 1) #reshape to column"
   ]
  },
  {
   "cell_type": "code",
   "execution_count": 101,
   "id": "4f95b03e-f5c5-4f26-b1b4-378ffb909e1c",
   "metadata": {},
   "outputs": [
    {
     "data": {
      "text/html": [
       "<style>#sk-container-id-4 {color: black;background-color: white;}#sk-container-id-4 pre{padding: 0;}#sk-container-id-4 div.sk-toggleable {background-color: white;}#sk-container-id-4 label.sk-toggleable__label {cursor: pointer;display: block;width: 100%;margin-bottom: 0;padding: 0.3em;box-sizing: border-box;text-align: center;}#sk-container-id-4 label.sk-toggleable__label-arrow:before {content: \"▸\";float: left;margin-right: 0.25em;color: #696969;}#sk-container-id-4 label.sk-toggleable__label-arrow:hover:before {color: black;}#sk-container-id-4 div.sk-estimator:hover label.sk-toggleable__label-arrow:before {color: black;}#sk-container-id-4 div.sk-toggleable__content {max-height: 0;max-width: 0;overflow: hidden;text-align: left;background-color: #f0f8ff;}#sk-container-id-4 div.sk-toggleable__content pre {margin: 0.2em;color: black;border-radius: 0.25em;background-color: #f0f8ff;}#sk-container-id-4 input.sk-toggleable__control:checked~div.sk-toggleable__content {max-height: 200px;max-width: 100%;overflow: auto;}#sk-container-id-4 input.sk-toggleable__control:checked~label.sk-toggleable__label-arrow:before {content: \"▾\";}#sk-container-id-4 div.sk-estimator input.sk-toggleable__control:checked~label.sk-toggleable__label {background-color: #d4ebff;}#sk-container-id-4 div.sk-label input.sk-toggleable__control:checked~label.sk-toggleable__label {background-color: #d4ebff;}#sk-container-id-4 input.sk-hidden--visually {border: 0;clip: rect(1px 1px 1px 1px);clip: rect(1px, 1px, 1px, 1px);height: 1px;margin: -1px;overflow: hidden;padding: 0;position: absolute;width: 1px;}#sk-container-id-4 div.sk-estimator {font-family: monospace;background-color: #f0f8ff;border: 1px dotted black;border-radius: 0.25em;box-sizing: border-box;margin-bottom: 0.5em;}#sk-container-id-4 div.sk-estimator:hover {background-color: #d4ebff;}#sk-container-id-4 div.sk-parallel-item::after {content: \"\";width: 100%;border-bottom: 1px solid gray;flex-grow: 1;}#sk-container-id-4 div.sk-label:hover label.sk-toggleable__label {background-color: #d4ebff;}#sk-container-id-4 div.sk-serial::before {content: \"\";position: absolute;border-left: 1px solid gray;box-sizing: border-box;top: 0;bottom: 0;left: 50%;z-index: 0;}#sk-container-id-4 div.sk-serial {display: flex;flex-direction: column;align-items: center;background-color: white;padding-right: 0.2em;padding-left: 0.2em;position: relative;}#sk-container-id-4 div.sk-item {position: relative;z-index: 1;}#sk-container-id-4 div.sk-parallel {display: flex;align-items: stretch;justify-content: center;background-color: white;position: relative;}#sk-container-id-4 div.sk-item::before, #sk-container-id-4 div.sk-parallel-item::before {content: \"\";position: absolute;border-left: 1px solid gray;box-sizing: border-box;top: 0;bottom: 0;left: 50%;z-index: -1;}#sk-container-id-4 div.sk-parallel-item {display: flex;flex-direction: column;z-index: 1;position: relative;background-color: white;}#sk-container-id-4 div.sk-parallel-item:first-child::after {align-self: flex-end;width: 50%;}#sk-container-id-4 div.sk-parallel-item:last-child::after {align-self: flex-start;width: 50%;}#sk-container-id-4 div.sk-parallel-item:only-child::after {width: 0;}#sk-container-id-4 div.sk-dashed-wrapped {border: 1px dashed gray;margin: 0 0.4em 0.5em 0.4em;box-sizing: border-box;padding-bottom: 0.4em;background-color: white;}#sk-container-id-4 div.sk-label label {font-family: monospace;font-weight: bold;display: inline-block;line-height: 1.2em;}#sk-container-id-4 div.sk-label-container {text-align: center;}#sk-container-id-4 div.sk-container {/* jupyter's `normalize.less` sets `[hidden] { display: none; }` but bootstrap.min.css set `[hidden] { display: none !important; }` so we also need the `!important` here to be able to override the default hidden behavior on the sphinx rendered scikit-learn.org. See: https://github.com/scikit-learn/scikit-learn/issues/21755 */display: inline-block !important;position: relative;}#sk-container-id-4 div.sk-text-repr-fallback {display: none;}</style><div id=\"sk-container-id-4\" class=\"sk-top-container\"><div class=\"sk-text-repr-fallback\"><pre>Pipeline(steps=[(&#x27;polynomialfeatures&#x27;, PolynomialFeatures()),\n",
       "                (&#x27;linearregression&#x27;, LinearRegression())])</pre><b>In a Jupyter environment, please rerun this cell to show the HTML representation or trust the notebook. <br />On GitHub, the HTML representation is unable to render, please try loading this page with nbviewer.org.</b></div><div class=\"sk-container\" hidden><div class=\"sk-item sk-dashed-wrapped\"><div class=\"sk-label-container\"><div class=\"sk-label sk-toggleable\"><input class=\"sk-toggleable__control sk-hidden--visually\" id=\"sk-estimator-id-6\" type=\"checkbox\" ><label for=\"sk-estimator-id-6\" class=\"sk-toggleable__label sk-toggleable__label-arrow\">Pipeline</label><div class=\"sk-toggleable__content\"><pre>Pipeline(steps=[(&#x27;polynomialfeatures&#x27;, PolynomialFeatures()),\n",
       "                (&#x27;linearregression&#x27;, LinearRegression())])</pre></div></div></div><div class=\"sk-serial\"><div class=\"sk-item\"><div class=\"sk-estimator sk-toggleable\"><input class=\"sk-toggleable__control sk-hidden--visually\" id=\"sk-estimator-id-7\" type=\"checkbox\" ><label for=\"sk-estimator-id-7\" class=\"sk-toggleable__label sk-toggleable__label-arrow\">PolynomialFeatures</label><div class=\"sk-toggleable__content\"><pre>PolynomialFeatures()</pre></div></div></div><div class=\"sk-item\"><div class=\"sk-estimator sk-toggleable\"><input class=\"sk-toggleable__control sk-hidden--visually\" id=\"sk-estimator-id-8\" type=\"checkbox\" ><label for=\"sk-estimator-id-8\" class=\"sk-toggleable__label sk-toggleable__label-arrow\">LinearRegression</label><div class=\"sk-toggleable__content\"><pre>LinearRegression()</pre></div></div></div></div></div></div></div>"
      ],
      "text/plain": [
       "Pipeline(steps=[('polynomialfeatures', PolynomialFeatures()),\n",
       "                ('linearregression', LinearRegression())])"
      ]
     },
     "execution_count": 101,
     "metadata": {},
     "output_type": "execute_result"
    }
   ],
   "source": [
    "model5.fit (x,y)"
   ]
  },
  {
   "cell_type": "code",
   "execution_count": 102,
   "id": "583dfe37-5611-4e84-a05b-24482bfcf662",
   "metadata": {},
   "outputs": [
    {
     "data": {
      "text/plain": [
       "Text(0.5, 8.959999999999994, 'Volume')"
      ]
     },
     "execution_count": 102,
     "metadata": {},
     "output_type": "execute_result"
    },
    {
     "data": {
      "image/png": "[encoded data removed]",
      "text/plain": [
       "<Figure size 288x288 with 1 Axes>"
      ]
     },
     "metadata": {},
     "output_type": "display_data"
    }
   ],
   "source": [
    "import seaborn as sns\n",
    "sns.set_theme(style=\"ticks\")\n",
    "sns.relplot(x=\"Volume\", y=\"Valuation\", alpha=.7, palette=\"muted\",\n",
    "            height=4, data=df)\n",
    "plt.plot (x, model5.predict (x), color='black', linewidth=.5)\n",
    "plt.title ('ATOM')\n",
    "plt.ylabel ('Valuation')\n",
    "plt.xlabel ('Volume')"
   ]
  },
  {
   "cell_type": "code",
   "execution_count": 103,
   "id": "e62c3a69-273d-4082-ac09-398e912141fd",
   "metadata": {},
   "outputs": [
    {
     "data": {
      "text/plain": [
       "Text(0.5, 8.959999999999994, 'Circulation Supply')"
      ]
     },
     "execution_count": 103,
     "metadata": {},
     "output_type": "execute_result"
    },
    {
     "data": {
      "image/png": "[encoded data removed]",
      "text/plain": [
       "<Figure size 288x288 with 1 Axes>"
      ]
     },
     "metadata": {},
     "output_type": "display_data"
    }
   ],
   "source": [
    "import seaborn as sns\n",
    "sns.set_theme(style=\"ticks\")\n",
    "sns.relplot(x=\"CirSupply\", y=\"Valuation\", alpha=.7, palette=\"muted\",\n",
    "            height=4, data=df)\n",
    "plt.title ('ATOM')\n",
    "plt.ylabel ('Valuation')\n",
    "plt.xlabel ('Circulation Supply')"
   ]
  }
 ],
 "metadata": {
  "kernelspec": {
   "display_name": "Python 3 (ipykernel)",
   "language": "python",
   "name": "python3"
  },
  "language_info": {
   "codemirror_mode": {
    "name": "ipython",
    "version": 3
   },
   "file_extension": ".py",
   "mimetype": "text/x-python",
   "name": "python",
   "nbconvert_exporter": "python",
   "pygments_lexer": "ipython3",
   "version": "3.9.7"
  }
 },
 "nbformat": 4,
 "nbformat_minor": 5
}
