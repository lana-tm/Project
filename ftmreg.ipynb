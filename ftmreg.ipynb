{
 "cells": [
  {
   "cell_type": "markdown",
   "id": "43ead17a-6203-4f92-902f-8a0da96ec364",
   "metadata": {},
   "source": [
    "# FTM Model"
   ]
  },
  {
   "cell_type": "code",
   "execution_count": 62,
   "id": "b97abfa6-2565-4de7-bd47-ac5ee9057ef7",
   "metadata": {},
   "outputs": [],
   "source": [
    "# Importing Python Packages"
   ]
  },
  {
   "cell_type": "code",
   "execution_count": 63,
   "id": "0af2cbc9-0ff6-4805-996e-a55fce82bc32",
   "metadata": {},
   "outputs": [],
   "source": [
    "import numpy as np\n",
    "import pandas as pd\n",
    "from pandas_datareader import data \n",
    "import matplotlib.pyplot as plt\n",
    "%matplotlib inline"
   ]
  },
  {
   "cell_type": "code",
   "execution_count": 64,
   "id": "5466dcf1-32a3-4f32-9a65-2956a2c002d3",
   "metadata": {},
   "outputs": [
    {
     "data": {
      "text/plain": [
       "Index(['Price', 'Volume', 'CirSupply', 'Velocity', 'Valuation'], dtype='object')"
      ]
     },
     "execution_count": 64,
     "metadata": {},
     "output_type": "execute_result"
    }
   ],
   "source": [
    "# Downloading data\n",
    "\n",
    "df = pd.read_csv('ftm.csv', index_col = 'Date')\n",
    "df.index = pd.to_datetime (df.index)\n",
    "df.columns"
   ]
  },
  {
   "cell_type": "markdown",
   "id": "9258bdc7-0c5f-4f86-9d19-d716f648815e",
   "metadata": {},
   "source": [
    "# Correlation Matrix"
   ]
  },
  {
   "cell_type": "code",
   "execution_count": 65,
   "id": "265ac423-bf64-4a4e-9ccb-5385f637faee",
   "metadata": {},
   "outputs": [
    {
     "data": {
      "text/html": [
       "<div>\n",
       "<style scoped>\n",
       "    .dataframe tbody tr th:only-of-type {\n",
       "        vertical-align: middle;\n",
       "    }\n",
       "\n",
       "    .dataframe tbody tr th {\n",
       "        vertical-align: top;\n",
       "    }\n",
       "\n",
       "    .dataframe thead th {\n",
       "        text-align: right;\n",
       "    }\n",
       "</style>\n",
       "<table border=\"1\" class=\"dataframe\">\n",
       "  <thead>\n",
       "    <tr style=\"text-align: right;\">\n",
       "      <th></th>\n",
       "      <th>Price</th>\n",
       "      <th>Volume</th>\n",
       "      <th>CirSupply</th>\n",
       "      <th>Velocity</th>\n",
       "      <th>Valuation</th>\n",
       "    </tr>\n",
       "  </thead>\n",
       "  <tbody>\n",
       "    <tr>\n",
       "      <th>Price</th>\n",
       "      <td>0.008641</td>\n",
       "      <td>0.004817</td>\n",
       "      <td>-0.000039</td>\n",
       "      <td>0.004855</td>\n",
       "      <td>0.018351</td>\n",
       "    </tr>\n",
       "    <tr>\n",
       "      <th>Volume</th>\n",
       "      <td>0.004817</td>\n",
       "      <td>0.133008</td>\n",
       "      <td>-0.000062</td>\n",
       "      <td>0.133070</td>\n",
       "      <td>0.270959</td>\n",
       "    </tr>\n",
       "    <tr>\n",
       "      <th>CirSupply</th>\n",
       "      <td>-0.000039</td>\n",
       "      <td>-0.000062</td>\n",
       "      <td>0.000138</td>\n",
       "      <td>-0.000200</td>\n",
       "      <td>-0.000438</td>\n",
       "    </tr>\n",
       "    <tr>\n",
       "      <th>Velocity</th>\n",
       "      <td>0.004855</td>\n",
       "      <td>0.133070</td>\n",
       "      <td>-0.000200</td>\n",
       "      <td>0.133270</td>\n",
       "      <td>0.271397</td>\n",
       "    </tr>\n",
       "    <tr>\n",
       "      <th>Valuation</th>\n",
       "      <td>0.018351</td>\n",
       "      <td>0.270959</td>\n",
       "      <td>-0.000438</td>\n",
       "      <td>0.271397</td>\n",
       "      <td>0.561148</td>\n",
       "    </tr>\n",
       "  </tbody>\n",
       "</table>\n",
       "</div>"
      ],
      "text/plain": [
       "              Price    Volume  CirSupply  Velocity  Valuation\n",
       "Price      0.008641  0.004817  -0.000039  0.004855   0.018351\n",
       "Volume     0.004817  0.133008  -0.000062  0.133070   0.270959\n",
       "CirSupply -0.000039 -0.000062   0.000138 -0.000200  -0.000438\n",
       "Velocity   0.004855  0.133070  -0.000200  0.133270   0.271397\n",
       "Valuation  0.018351  0.270959  -0.000438  0.271397   0.561148"
      ]
     },
     "execution_count": 65,
     "metadata": {},
     "output_type": "execute_result"
    }
   ],
   "source": [
    "cov_matrix = df.pct_change().apply(lambda x: np.log(1+x)).cov() \n",
    "cov_matrix"
   ]
  },
  {
   "cell_type": "code",
   "execution_count": 66,
   "id": "8c17136a-4e93-4991-b7a0-9641515fde1c",
   "metadata": {},
   "outputs": [
    {
     "data": {
      "text/html": [
       "<div>\n",
       "<style scoped>\n",
       "    .dataframe tbody tr th:only-of-type {\n",
       "        vertical-align: middle;\n",
       "    }\n",
       "\n",
       "    .dataframe tbody tr th {\n",
       "        vertical-align: top;\n",
       "    }\n",
       "\n",
       "    .dataframe thead th {\n",
       "        text-align: right;\n",
       "    }\n",
       "</style>\n",
       "<table border=\"1\" class=\"dataframe\">\n",
       "  <thead>\n",
       "    <tr style=\"text-align: right;\">\n",
       "      <th></th>\n",
       "      <th>Price</th>\n",
       "      <th>Volume</th>\n",
       "      <th>CirSupply</th>\n",
       "      <th>Velocity</th>\n",
       "      <th>Valuation</th>\n",
       "    </tr>\n",
       "  </thead>\n",
       "  <tbody>\n",
       "    <tr>\n",
       "      <th>Price</th>\n",
       "      <td>1.000000</td>\n",
       "      <td>0.142073</td>\n",
       "      <td>-0.035400</td>\n",
       "      <td>0.143072</td>\n",
       "      <td>0.263524</td>\n",
       "    </tr>\n",
       "    <tr>\n",
       "      <th>Volume</th>\n",
       "      <td>0.142073</td>\n",
       "      <td>1.000000</td>\n",
       "      <td>-0.014462</td>\n",
       "      <td>0.999483</td>\n",
       "      <td>0.991803</td>\n",
       "    </tr>\n",
       "    <tr>\n",
       "      <th>CirSupply</th>\n",
       "      <td>-0.035400</td>\n",
       "      <td>-0.014462</td>\n",
       "      <td>1.000000</td>\n",
       "      <td>-0.046607</td>\n",
       "      <td>-0.049815</td>\n",
       "    </tr>\n",
       "    <tr>\n",
       "      <th>Velocity</th>\n",
       "      <td>0.143072</td>\n",
       "      <td>0.999483</td>\n",
       "      <td>-0.046607</td>\n",
       "      <td>1.000000</td>\n",
       "      <td>0.992431</td>\n",
       "    </tr>\n",
       "    <tr>\n",
       "      <th>Valuation</th>\n",
       "      <td>0.263524</td>\n",
       "      <td>0.991803</td>\n",
       "      <td>-0.049815</td>\n",
       "      <td>0.992431</td>\n",
       "      <td>1.000000</td>\n",
       "    </tr>\n",
       "  </tbody>\n",
       "</table>\n",
       "</div>"
      ],
      "text/plain": [
       "              Price    Volume  CirSupply  Velocity  Valuation\n",
       "Price      1.000000  0.142073  -0.035400  0.143072   0.263524\n",
       "Volume     0.142073  1.000000  -0.014462  0.999483   0.991803\n",
       "CirSupply -0.035400 -0.014462   1.000000 -0.046607  -0.049815\n",
       "Velocity   0.143072  0.999483  -0.046607  1.000000   0.992431\n",
       "Valuation  0.263524  0.991803  -0.049815  0.992431   1.000000"
      ]
     },
     "execution_count": 66,
     "metadata": {},
     "output_type": "execute_result"
    }
   ],
   "source": [
    "corr_matrix = df.pct_change().apply(lambda x: np.log(1+x)).corr() \n",
    "corr_matrix"
   ]
  },
  {
   "cell_type": "code",
   "execution_count": 67,
   "id": "56df00f1-4136-4711-adee-d372ca5c570e",
   "metadata": {},
   "outputs": [],
   "source": [
    "import statsmodels.api as sm"
   ]
  },
  {
   "cell_type": "code",
   "execution_count": 68,
   "id": "66151c72-cec6-4900-82d5-2ea2b7140277",
   "metadata": {},
   "outputs": [
    {
     "data": {
      "image/png": "[encoded data removed]",
      "text/plain": [
       "<Figure size 432x288 with 2 Axes>"
      ]
     },
     "metadata": {
      "needs_background": "light"
     },
     "output_type": "display_data"
    }
   ],
   "source": [
    "sm.graphics.plot_corr(corr_matrix, xnames=list(corr_matrix.columns))\n",
    "plt.show()"
   ]
  },
  {
   "cell_type": "code",
   "execution_count": 69,
   "id": "0dbd1725-6fe1-45e4-b244-13156214a45f",
   "metadata": {},
   "outputs": [],
   "source": [
    "val = df ['Valuation']"
   ]
  },
  {
   "cell_type": "code",
   "execution_count": 70,
   "id": "7ce7a401-3e1f-4b20-832e-b6308bb312d6",
   "metadata": {},
   "outputs": [
    {
     "data": {
      "text/plain": [
       "count    1372.000000\n",
       "mean        0.021672\n",
       "std         0.057613\n",
       "min         0.000006\n",
       "25%         0.000380\n",
       "50%         0.001291\n",
       "75%         0.016089\n",
       "max         0.686570\n",
       "Name: Valuation, dtype: float64"
      ]
     },
     "execution_count": 70,
     "metadata": {},
     "output_type": "execute_result"
    }
   ],
   "source": [
    "val.describe()"
   ]
  },
  {
   "cell_type": "markdown",
   "id": "0feb121d-8d2e-46d6-a1b5-b6142988bb4d",
   "metadata": {},
   "source": [
    "# Chart Visualisation"
   ]
  },
  {
   "cell_type": "code",
   "execution_count": 71,
   "id": "f9f90bd1-7049-4ed7-ae05-243546421ebb",
   "metadata": {},
   "outputs": [],
   "source": [
    "import numpy as np\n",
    "import pandas as pd\n",
    "from pandas_datareader import data \n",
    "import matplotlib.pyplot as plt\n",
    "%matplotlib inline"
   ]
  },
  {
   "cell_type": "code",
   "execution_count": 72,
   "id": "2e4a37db-bcdf-40d4-b0be-142e8e208b10",
   "metadata": {},
   "outputs": [
    {
     "data": {
      "text/html": [
       "<div>\n",
       "<style scoped>\n",
       "    .dataframe tbody tr th:only-of-type {\n",
       "        vertical-align: middle;\n",
       "    }\n",
       "\n",
       "    .dataframe tbody tr th {\n",
       "        vertical-align: top;\n",
       "    }\n",
       "\n",
       "    .dataframe thead th {\n",
       "        text-align: right;\n",
       "    }\n",
       "</style>\n",
       "<table border=\"1\" class=\"dataframe\">\n",
       "  <thead>\n",
       "    <tr style=\"text-align: right;\">\n",
       "      <th></th>\n",
       "      <th>Price</th>\n",
       "      <th>Volume</th>\n",
       "      <th>CirSupply</th>\n",
       "      <th>Velocity</th>\n",
       "      <th>Valuation</th>\n",
       "    </tr>\n",
       "    <tr>\n",
       "      <th>Date</th>\n",
       "      <th></th>\n",
       "      <th></th>\n",
       "      <th></th>\n",
       "      <th></th>\n",
       "      <th></th>\n",
       "    </tr>\n",
       "  </thead>\n",
       "  <tbody>\n",
       "    <tr>\n",
       "      <th>2018-11-17</th>\n",
       "      <td>0.015850</td>\n",
       "      <td>367165300</td>\n",
       "      <td>1270368580</td>\n",
       "      <td>0.289023</td>\n",
       "      <td>0.001324</td>\n",
       "    </tr>\n",
       "    <tr>\n",
       "      <th>2018-11-18</th>\n",
       "      <td>0.015290</td>\n",
       "      <td>360596468</td>\n",
       "      <td>1269667757</td>\n",
       "      <td>0.284008</td>\n",
       "      <td>0.001233</td>\n",
       "    </tr>\n",
       "    <tr>\n",
       "      <th>2018-11-19</th>\n",
       "      <td>0.010750</td>\n",
       "      <td>354285581</td>\n",
       "      <td>1270484372</td>\n",
       "      <td>0.278859</td>\n",
       "      <td>0.000836</td>\n",
       "    </tr>\n",
       "    <tr>\n",
       "      <th>2018-11-20</th>\n",
       "      <td>0.008891</td>\n",
       "      <td>241417163</td>\n",
       "      <td>1270018558</td>\n",
       "      <td>0.190089</td>\n",
       "      <td>0.000321</td>\n",
       "    </tr>\n",
       "    <tr>\n",
       "      <th>2018-11-21</th>\n",
       "      <td>0.009171</td>\n",
       "      <td>262289827</td>\n",
       "      <td>1269997274</td>\n",
       "      <td>0.206528</td>\n",
       "      <td>0.000391</td>\n",
       "    </tr>\n",
       "  </tbody>\n",
       "</table>\n",
       "</div>"
      ],
      "text/plain": [
       "               Price     Volume   CirSupply  Velocity  Valuation\n",
       "Date                                                            \n",
       "2018-11-17  0.015850  367165300  1270368580  0.289023   0.001324\n",
       "2018-11-18  0.015290  360596468  1269667757  0.284008   0.001233\n",
       "2018-11-19  0.010750  354285581  1270484372  0.278859   0.000836\n",
       "2018-11-20  0.008891  241417163  1270018558  0.190089   0.000321\n",
       "2018-11-21  0.009171  262289827  1269997274  0.206528   0.000391"
      ]
     },
     "execution_count": 72,
     "metadata": {},
     "output_type": "execute_result"
    }
   ],
   "source": [
    "# Download the data\n",
    "data = pd.read_csv('ftm.csv',\n",
    "                   parse_dates=['Date'],\n",
    "                   index_col=['Date'])\n",
    "data.head()"
   ]
  },
  {
   "cell_type": "code",
   "execution_count": 73,
   "id": "a64f0aa1-e23e-4936-90db-e00d521aad30",
   "metadata": {},
   "outputs": [],
   "source": [
    "price = df ['Price']"
   ]
  },
  {
   "cell_type": "code",
   "execution_count": 74,
   "id": "65e0f878-f460-44ee-9964-148b466dc88e",
   "metadata": {},
   "outputs": [
    {
     "data": {
      "text/plain": [
       "count    1372.000000\n",
       "mean        0.419423\n",
       "std         0.722420\n",
       "min         0.002288\n",
       "25%         0.010630\n",
       "50%         0.024200\n",
       "75%         0.400125\n",
       "max         3.300000\n",
       "Name: Price, dtype: float64"
      ]
     },
     "execution_count": 74,
     "metadata": {},
     "output_type": "execute_result"
    }
   ],
   "source": [
    "price.describe()"
   ]
  },
  {
   "cell_type": "code",
   "execution_count": 75,
   "id": "cae384be-db9b-4a69-9c4a-92c8deb7e40b",
   "metadata": {},
   "outputs": [],
   "source": [
    "# Import necessary packages\n",
    "import os\n",
    "import matplotlib.pyplot as plt\n",
    "%matplotlib inline\n",
    "import matplotlib.dates as mdates\n",
    "from matplotlib.dates import DateFormatter\n",
    "import seaborn as sns\n",
    "import pandas as pd\n",
    "\n",
    "# Handle date time conversions between pandas and matplotlib\n",
    "from pandas.plotting import register_matplotlib_converters\n",
    "register_matplotlib_converters()\n",
    "\n",
    "# Use white grid plot background from seaborn\n",
    "sns.set(font_scale=1.5, style=\"whitegrid\")"
   ]
  },
  {
   "cell_type": "code",
   "execution_count": 76,
   "id": "daf8be0b-fcb7-4274-8aaf-5d1535db3a97",
   "metadata": {},
   "outputs": [
    {
     "data": {
      "image/png": "[encoded data removed]",
      "text/plain": [
       "<Figure size 432x288 with 2 Axes>"
      ]
     },
     "metadata": {},
     "output_type": "display_data"
    }
   ],
   "source": [
    "# Create figure and plot space\n",
    "plt.rc('font', size=8)\n",
    "fig, ax = plt.subplots(figsize=(6, 4))\n",
    "axb = ax.twinx()\n",
    "\n",
    "# Add x-axis and y-axis\n",
    "ax.plot(data.index.values, price, color='red', label='Price')\n",
    "\n",
    "# Set title and labels for axes\n",
    "ax.set(xlabel=\"\",\n",
    "       ylabel=\"Price\",\n",
    "       title=\"FTM\")\n",
    "\n",
    "# Plotting on the second y-axis\n",
    "axb.set_ylabel('Valuation')\n",
    "axb.plot(data.index.values, val, color='purple', linestyle='--', label='Valuation')\n",
    "\n",
    "# Handling of getting lines and labels from all axes for a single legend\n",
    "lines, labels = ax.get_legend_handles_labels()\n",
    "lines2, labels2 = axb.get_legend_handles_labels()\n",
    "axb.legend(lines + lines2, labels + labels2, loc='upper left');\n",
    "\n",
    "# Define the date format\n",
    "date_form = DateFormatter(\"%Y\")\n",
    "ax.xaxis.set_major_formatter(date_form)\n",
    "\n",
    "# Ensure a major tick for each week using (interval=1) \n",
    "ax.xaxis.set_major_locator(mdates.WeekdayLocator(interval=47))\n",
    "\n",
    "plt.show()"
   ]
  },
  {
   "cell_type": "markdown",
   "id": "d787386d-b4c0-4416-9824-b92288ac6806",
   "metadata": {},
   "source": [
    "# Linear Regression"
   ]
  },
  {
   "cell_type": "code",
   "execution_count": 77,
   "id": "9b7bee31-2b34-4c2a-9bb8-54fb1d686baa",
   "metadata": {},
   "outputs": [],
   "source": [
    "import numpy as np\n",
    "import pandas as pd\n",
    "import matplotlib.pyplot as plt\n",
    "from sklearn import datasets, linear_model\n",
    "from sklearn.metrics import mean_squared_error, r2_score"
   ]
  },
  {
   "cell_type": "code",
   "execution_count": 78,
   "id": "64342356-56fc-4484-bb5b-f22e495c818b",
   "metadata": {},
   "outputs": [
    {
     "name": "stderr",
     "output_type": "stream",
     "text": [
      "*c* argument looks like a single numeric RGB or RGBA sequence, which should be avoided as value-mapping will have precedence in case its length matches with *x* & *y*.  Please use the *color* keyword-argument or provide a 2D array with a single row if you intend to specify the same RGB or RGBA value for all points.\n"
     ]
    },
    {
     "data": {
      "text/plain": [
       "<AxesSubplot:title={'center':'Velocity vs Valuation'}, xlabel='Velocity', ylabel='Valuation'>"
      ]
     },
     "execution_count": 78,
     "metadata": {},
     "output_type": "execute_result"
    },
    {
     "data": {
      "image/png": "[encoded data removed]",
      "text/plain": [
       "<Figure size 432x288 with 1 Axes>"
      ]
     },
     "metadata": {},
     "output_type": "display_data"
    }
   ],
   "source": [
    "df.plot (kind='scatter', x='Velocity', y='Valuation', title='Velocity vs Valuation')"
   ]
  },
  {
   "cell_type": "code",
   "execution_count": 79,
   "id": "7854f7de-9a6a-4987-a375-60c21c6507e7",
   "metadata": {},
   "outputs": [
    {
     "name": "stderr",
     "output_type": "stream",
     "text": [
      "*c* argument looks like a single numeric RGB or RGBA sequence, which should be avoided as value-mapping will have precedence in case its length matches with *x* & *y*.  Please use the *color* keyword-argument or provide a 2D array with a single row if you intend to specify the same RGB or RGBA value for all points.\n"
     ]
    },
    {
     "data": {
      "text/plain": [
       "<AxesSubplot:title={'center':'Circulation supply vs Valuation'}, xlabel='CirSupply', ylabel='Valuation'>"
      ]
     },
     "execution_count": 79,
     "metadata": {},
     "output_type": "execute_result"
    },
    {
     "data": {
      "image/png": "[encoded data removed]",
      "text/plain": [
       "<Figure size 432x288 with 1 Axes>"
      ]
     },
     "metadata": {},
     "output_type": "display_data"
    }
   ],
   "source": [
    "df.plot (kind='scatter', x='CirSupply', y='Valuation', title='Circulation supply vs Valuation')"
   ]
  },
  {
   "cell_type": "code",
   "execution_count": 80,
   "id": "504e8072-a993-41fe-a5b5-cbe225d0b728",
   "metadata": {},
   "outputs": [
    {
     "name": "stderr",
     "output_type": "stream",
     "text": [
      "*c* argument looks like a single numeric RGB or RGBA sequence, which should be avoided as value-mapping will have precedence in case its length matches with *x* & *y*.  Please use the *color* keyword-argument or provide a 2D array with a single row if you intend to specify the same RGB or RGBA value for all points.\n"
     ]
    },
    {
     "data": {
      "text/plain": [
       "<AxesSubplot:title={'center':'Volume vs Valuation'}, xlabel='Volume', ylabel='Valuation'>"
      ]
     },
     "execution_count": 80,
     "metadata": {},
     "output_type": "execute_result"
    },
    {
     "data": {
      "image/png": "[encoded data removed]",
      "text/plain": [
       "<Figure size 432x288 with 1 Axes>"
      ]
     },
     "metadata": {},
     "output_type": "display_data"
    }
   ],
   "source": [
    "df.plot (kind='scatter', x='Volume', y='Valuation', title='Volume vs Valuation')"
   ]
  },
  {
   "cell_type": "code",
   "execution_count": 81,
   "id": "6fe63330-98be-4d3d-b34b-23ba7fb5e58e",
   "metadata": {},
   "outputs": [],
   "source": [
    "import sklearn.linear_model as lm"
   ]
  },
  {
   "cell_type": "code",
   "execution_count": 82,
   "id": "a9706924-5f98-4742-913d-96ca0ef31ee8",
   "metadata": {},
   "outputs": [],
   "source": [
    "lr =lm.LinearRegression()"
   ]
  },
  {
   "cell_type": "code",
   "execution_count": 83,
   "id": "3840c426-a331-4aeb-8294-3dfd3d5bcddd",
   "metadata": {},
   "outputs": [],
   "source": [
    "df.columns = df.columns.str.strip()"
   ]
  },
  {
   "cell_type": "code",
   "execution_count": 84,
   "id": "a1245882-dcc4-4a57-8797-71ebfe96529e",
   "metadata": {},
   "outputs": [],
   "source": [
    "x = df.Volume       #Independent variable\n",
    "y = df.Valuation        #Dependent variable"
   ]
  },
  {
   "cell_type": "code",
   "execution_count": 85,
   "id": "b6462eb8-f317-4a81-9516-e595141e76e9",
   "metadata": {},
   "outputs": [],
   "source": [
    "x = df.iloc[:, 1].values\n",
    "y = df.iloc[:, 4].values\n",
    "\n",
    "x = x.reshape (-1,1) #reshape to column"
   ]
  },
  {
   "cell_type": "code",
   "execution_count": 86,
   "id": "45c0620b-9a4a-4dc0-a3b3-b71ee1891f31",
   "metadata": {},
   "outputs": [
    {
     "data": {
      "text/html": [
       "<style>#sk-container-id-3 {color: black;background-color: white;}#sk-container-id-3 pre{padding: 0;}#sk-container-id-3 div.sk-toggleable {background-color: white;}#sk-container-id-3 label.sk-toggleable__label {cursor: pointer;display: block;width: 100%;margin-bottom: 0;padding: 0.3em;box-sizing: border-box;text-align: center;}#sk-container-id-3 label.sk-toggleable__label-arrow:before {content: \"▸\";float: left;margin-right: 0.25em;color: #696969;}#sk-container-id-3 label.sk-toggleable__label-arrow:hover:before {color: black;}#sk-container-id-3 div.sk-estimator:hover label.sk-toggleable__label-arrow:before {color: black;}#sk-container-id-3 div.sk-toggleable__content {max-height: 0;max-width: 0;overflow: hidden;text-align: left;background-color: #f0f8ff;}#sk-container-id-3 div.sk-toggleable__content pre {margin: 0.2em;color: black;border-radius: 0.25em;background-color: #f0f8ff;}#sk-container-id-3 input.sk-toggleable__control:checked~div.sk-toggleable__content {max-height: 200px;max-width: 100%;overflow: auto;}#sk-container-id-3 input.sk-toggleable__control:checked~label.sk-toggleable__label-arrow:before {content: \"▾\";}#sk-container-id-3 div.sk-estimator input.sk-toggleable__control:checked~label.sk-toggleable__label {background-color: #d4ebff;}#sk-container-id-3 div.sk-label input.sk-toggleable__control:checked~label.sk-toggleable__label {background-color: #d4ebff;}#sk-container-id-3 input.sk-hidden--visually {border: 0;clip: rect(1px 1px 1px 1px);clip: rect(1px, 1px, 1px, 1px);height: 1px;margin: -1px;overflow: hidden;padding: 0;position: absolute;width: 1px;}#sk-container-id-3 div.sk-estimator {font-family: monospace;background-color: #f0f8ff;border: 1px dotted black;border-radius: 0.25em;box-sizing: border-box;margin-bottom: 0.5em;}#sk-container-id-3 div.sk-estimator:hover {background-color: #d4ebff;}#sk-container-id-3 div.sk-parallel-item::after {content: \"\";width: 100%;border-bottom: 1px solid gray;flex-grow: 1;}#sk-container-id-3 div.sk-label:hover label.sk-toggleable__label {background-color: #d4ebff;}#sk-container-id-3 div.sk-serial::before {content: \"\";position: absolute;border-left: 1px solid gray;box-sizing: border-box;top: 0;bottom: 0;left: 50%;z-index: 0;}#sk-container-id-3 div.sk-serial {display: flex;flex-direction: column;align-items: center;background-color: white;padding-right: 0.2em;padding-left: 0.2em;position: relative;}#sk-container-id-3 div.sk-item {position: relative;z-index: 1;}#sk-container-id-3 div.sk-parallel {display: flex;align-items: stretch;justify-content: center;background-color: white;position: relative;}#sk-container-id-3 div.sk-item::before, #sk-container-id-3 div.sk-parallel-item::before {content: \"\";position: absolute;border-left: 1px solid gray;box-sizing: border-box;top: 0;bottom: 0;left: 50%;z-index: -1;}#sk-container-id-3 div.sk-parallel-item {display: flex;flex-direction: column;z-index: 1;position: relative;background-color: white;}#sk-container-id-3 div.sk-parallel-item:first-child::after {align-self: flex-end;width: 50%;}#sk-container-id-3 div.sk-parallel-item:last-child::after {align-self: flex-start;width: 50%;}#sk-container-id-3 div.sk-parallel-item:only-child::after {width: 0;}#sk-container-id-3 div.sk-dashed-wrapped {border: 1px dashed gray;margin: 0 0.4em 0.5em 0.4em;box-sizing: border-box;padding-bottom: 0.4em;background-color: white;}#sk-container-id-3 div.sk-label label {font-family: monospace;font-weight: bold;display: inline-block;line-height: 1.2em;}#sk-container-id-3 div.sk-label-container {text-align: center;}#sk-container-id-3 div.sk-container {/* jupyter's `normalize.less` sets `[hidden] { display: none; }` but bootstrap.min.css set `[hidden] { display: none !important; }` so we also need the `!important` here to be able to override the default hidden behavior on the sphinx rendered scikit-learn.org. See: https://github.com/scikit-learn/scikit-learn/issues/21755 */display: inline-block !important;position: relative;}#sk-container-id-3 div.sk-text-repr-fallback {display: none;}</style><div id=\"sk-container-id-3\" class=\"sk-top-container\"><div class=\"sk-text-repr-fallback\"><pre>LinearRegression()</pre><b>In a Jupyter environment, please rerun this cell to show the HTML representation or trust the notebook. <br />On GitHub, the HTML representation is unable to render, please try loading this page with nbviewer.org.</b></div><div class=\"sk-container\" hidden><div class=\"sk-item\"><div class=\"sk-estimator sk-toggleable\"><input class=\"sk-toggleable__control sk-hidden--visually\" id=\"sk-estimator-id-5\" type=\"checkbox\" checked><label for=\"sk-estimator-id-5\" class=\"sk-toggleable__label sk-toggleable__label-arrow\">LinearRegression</label><div class=\"sk-toggleable__content\"><pre>LinearRegression()</pre></div></div></div></div></div>"
      ],
      "text/plain": [
       "LinearRegression()"
      ]
     },
     "execution_count": 86,
     "metadata": {},
     "output_type": "execute_result"
    }
   ],
   "source": [
    "lr.fit (x,y)"
   ]
  },
  {
   "cell_type": "code",
   "execution_count": 87,
   "id": "868554c1-03fa-452b-aadd-281d7d279cae",
   "metadata": {},
   "outputs": [
    {
     "data": {
      "text/plain": [
       "Text(0.5, 0, 'Volume')"
      ]
     },
     "execution_count": 87,
     "metadata": {},
     "output_type": "execute_result"
    },
    {
     "data": {
      "image/png": "[encoded data removed]",
      "text/plain": [
       "<Figure size 432x288 with 1 Axes>"
      ]
     },
     "metadata": {},
     "output_type": "display_data"
    }
   ],
   "source": [
    "plt.scatter (x,y, color ='blue', alpha=0.3)\n",
    "plt.plot (x, lr.predict (x), color = 'red', linewidth=1)\n",
    "plt.title ('Volume vs Valuation')\n",
    "plt.ylabel ('Valuation')\n",
    "plt.xlabel ('Volume')"
   ]
  },
  {
   "cell_type": "code",
   "execution_count": 88,
   "id": "46aad168-0dc6-43e2-9051-319afa4ea3d3",
   "metadata": {},
   "outputs": [
    {
     "data": {
      "text/plain": [
       "array([0.01365607, 0.01316511, 0.01269343, ..., 0.03549249, 0.0285977 ,\n",
       "       0.03677548])"
      ]
     },
     "execution_count": 88,
     "metadata": {},
     "output_type": "execute_result"
    }
   ],
   "source": [
    "lr.predict (x)"
   ]
  },
  {
   "cell_type": "code",
   "execution_count": 89,
   "id": "03f237e7-34b4-4d06-969f-44a8e685fcd4",
   "metadata": {},
   "outputs": [
    {
     "data": {
      "text/plain": [
       "0.23730072245187228"
      ]
     },
     "execution_count": 89,
     "metadata": {},
     "output_type": "execute_result"
    }
   ],
   "source": [
    "R_Sq = r2_score (y, lr.predict (x))\n",
    "R_Sq"
   ]
  },
  {
   "cell_type": "code",
   "execution_count": 90,
   "id": "4b239540-35ac-488d-91f6-2d3da9141e0c",
   "metadata": {},
   "outputs": [],
   "source": [
    "# Model Statistics"
   ]
  },
  {
   "cell_type": "code",
   "execution_count": 91,
   "id": "c3afeb08-e0e1-4af6-9ec9-4370e24214f4",
   "metadata": {},
   "outputs": [
    {
     "data": {
      "text/plain": [
       "Intercept   -1.378599e-02\n",
       "Volume       7.474034e-11\n",
       "dtype: float64"
      ]
     },
     "execution_count": 91,
     "metadata": {},
     "output_type": "execute_result"
    }
   ],
   "source": [
    "import statsmodels.formula.api as smf\n",
    "model1=smf.ols(formula='Valuation~Volume',data=df).fit()\n",
    "model1.params"
   ]
  },
  {
   "cell_type": "code",
   "execution_count": 92,
   "id": "69735573-c37c-4dcb-a341-7ac104234100",
   "metadata": {},
   "outputs": [
    {
     "data": {
      "text/plain": [
       "Intercept    4.129447e-10\n",
       "Volume       1.139919e-82\n",
       "dtype: float64"
      ]
     },
     "execution_count": 92,
     "metadata": {},
     "output_type": "execute_result"
    }
   ],
   "source": [
    "model1.pvalues"
   ]
  },
  {
   "cell_type": "code",
   "execution_count": 93,
   "id": "4abdd1b3-208c-4d9b-a4b0-b6f62a9a1c13",
   "metadata": {},
   "outputs": [
    {
     "data": {
      "text/plain": [
       "0.23730072245187228"
      ]
     },
     "execution_count": 93,
     "metadata": {},
     "output_type": "execute_result"
    }
   ],
   "source": [
    "model1.rsquared"
   ]
  },
  {
   "cell_type": "code",
   "execution_count": 94,
   "id": "9a3359ee-bf60-4c0a-a593-5ca8e3f5c12f",
   "metadata": {},
   "outputs": [
    {
     "data": {
      "text/html": [
       "<table class=\"simpletable\">\n",
       "<caption>OLS Regression Results</caption>\n",
       "<tr>\n",
       "  <th>Dep. Variable:</th>        <td>Valuation</td>    <th>  R-squared:         </th> <td>   0.237</td>\n",
       "</tr>\n",
       "<tr>\n",
       "  <th>Model:</th>                   <td>OLS</td>       <th>  Adj. R-squared:    </th> <td>   0.237</td>\n",
       "</tr>\n",
       "<tr>\n",
       "  <th>Method:</th>             <td>Least Squares</td>  <th>  F-statistic:       </th> <td>   426.3</td>\n",
       "</tr>\n",
       "<tr>\n",
       "  <th>Date:</th>             <td>Sat, 03 Sep 2022</td> <th>  Prob (F-statistic):</th> <td>1.14e-82</td>\n",
       "</tr>\n",
       "<tr>\n",
       "  <th>Time:</th>                 <td>00:47:45</td>     <th>  Log-Likelihood:    </th> <td>  2155.2</td>\n",
       "</tr>\n",
       "<tr>\n",
       "  <th>No. Observations:</th>      <td>  1372</td>      <th>  AIC:               </th> <td>  -4306.</td>\n",
       "</tr>\n",
       "<tr>\n",
       "  <th>Df Residuals:</th>          <td>  1370</td>      <th>  BIC:               </th> <td>  -4296.</td>\n",
       "</tr>\n",
       "<tr>\n",
       "  <th>Df Model:</th>              <td>     1</td>      <th>                     </th>     <td> </td>   \n",
       "</tr>\n",
       "<tr>\n",
       "  <th>Covariance Type:</th>      <td>nonrobust</td>    <th>                     </th>     <td> </td>   \n",
       "</tr>\n",
       "</table>\n",
       "<table class=\"simpletable\">\n",
       "<tr>\n",
       "      <td></td>         <th>coef</th>     <th>std err</th>      <th>t</th>      <th>P>|t|</th>  <th>[0.025</th>    <th>0.975]</th>  \n",
       "</tr>\n",
       "<tr>\n",
       "  <th>Intercept</th> <td>   -0.0138</td> <td>    0.002</td> <td>   -6.295</td> <td> 0.000</td> <td>   -0.018</td> <td>   -0.009</td>\n",
       "</tr>\n",
       "<tr>\n",
       "  <th>Volume</th>    <td> 7.474e-11</td> <td> 3.62e-12</td> <td>   20.646</td> <td> 0.000</td> <td> 6.76e-11</td> <td> 8.18e-11</td>\n",
       "</tr>\n",
       "</table>\n",
       "<table class=\"simpletable\">\n",
       "<tr>\n",
       "  <th>Omnibus:</th>       <td>1301.561</td> <th>  Durbin-Watson:     </th> <td>   0.561</td> \n",
       "</tr>\n",
       "<tr>\n",
       "  <th>Prob(Omnibus):</th>  <td> 0.000</td>  <th>  Jarque-Bera (JB):  </th> <td>71076.550</td>\n",
       "</tr>\n",
       "<tr>\n",
       "  <th>Skew:</th>           <td> 4.332</td>  <th>  Prob(JB):          </th> <td>    0.00</td> \n",
       "</tr>\n",
       "<tr>\n",
       "  <th>Kurtosis:</th>       <td>37.180</td>  <th>  Cond. No.          </th> <td>9.75e+08</td> \n",
       "</tr>\n",
       "</table><br/><br/>Notes:<br/>[1] Standard Errors assume that the covariance matrix of the errors is correctly specified.<br/>[2] The condition number is large, 9.75e+08. This might indicate that there are<br/>strong multicollinearity or other numerical problems."
      ],
      "text/plain": [
       "<class 'statsmodels.iolib.summary.Summary'>\n",
       "\"\"\"\n",
       "                            OLS Regression Results                            \n",
       "==============================================================================\n",
       "Dep. Variable:              Valuation   R-squared:                       0.237\n",
       "Model:                            OLS   Adj. R-squared:                  0.237\n",
       "Method:                 Least Squares   F-statistic:                     426.3\n",
       "Date:                Sat, 03 Sep 2022   Prob (F-statistic):           1.14e-82\n",
       "Time:                        00:47:45   Log-Likelihood:                 2155.2\n",
       "No. Observations:                1372   AIC:                            -4306.\n",
       "Df Residuals:                    1370   BIC:                            -4296.\n",
       "Df Model:                           1                                         \n",
       "Covariance Type:            nonrobust                                         \n",
       "==============================================================================\n",
       "                 coef    std err          t      P>|t|      [0.025      0.975]\n",
       "------------------------------------------------------------------------------\n",
       "Intercept     -0.0138      0.002     -6.295      0.000      -0.018      -0.009\n",
       "Volume      7.474e-11   3.62e-12     20.646      0.000    6.76e-11    8.18e-11\n",
       "==============================================================================\n",
       "Omnibus:                     1301.561   Durbin-Watson:                   0.561\n",
       "Prob(Omnibus):                  0.000   Jarque-Bera (JB):            71076.550\n",
       "Skew:                           4.332   Prob(JB):                         0.00\n",
       "Kurtosis:                      37.180   Cond. No.                     9.75e+08\n",
       "==============================================================================\n",
       "\n",
       "Notes:\n",
       "[1] Standard Errors assume that the covariance matrix of the errors is correctly specified.\n",
       "[2] The condition number is large, 9.75e+08. This might indicate that there are\n",
       "strong multicollinearity or other numerical problems.\n",
       "\"\"\""
      ]
     },
     "execution_count": 94,
     "metadata": {},
     "output_type": "execute_result"
    }
   ],
   "source": [
    "model1.summary()"
   ]
  },
  {
   "cell_type": "code",
   "execution_count": 95,
   "id": "06507fc8-fafc-40c1-800a-8f614b584488",
   "metadata": {},
   "outputs": [
    {
     "data": {
      "text/plain": [
       "Date\n",
       "2018-11-17    0.013656\n",
       "2018-11-18    0.013165\n",
       "2018-11-19    0.012693\n",
       "2018-11-20    0.004258\n",
       "2018-11-21    0.005818\n",
       "                ...   \n",
       "2022-08-15    0.035365\n",
       "2022-08-16    0.033527\n",
       "2022-08-17    0.035492\n",
       "2022-08-18    0.028598\n",
       "2022-08-19    0.036775\n",
       "Length: 1372, dtype: float64"
      ]
     },
     "execution_count": 95,
     "metadata": {},
     "output_type": "execute_result"
    }
   ],
   "source": [
    "val_pred=model1.predict(pd.DataFrame(df['Volume']))\n",
    "val_pred"
   ]
  },
  {
   "cell_type": "code",
   "execution_count": 96,
   "id": "fb508a66-9668-4688-af76-f8c6bad4d134",
   "metadata": {},
   "outputs": [
    {
     "data": {
      "text/plain": [
       "(110750784.31147352, 0.021671514139941693, 5110431306.105845)"
      ]
     },
     "execution_count": 96,
     "metadata": {},
     "output_type": "execute_result"
    }
   ],
   "source": [
    "df['val_pred']=-1.301119e-01*df['Volume']+3.395391e-08\n",
    "df['RSE']=(df['Valuation']-df['val_pred'])**2\n",
    "RSEd=df.sum()['RSE']\n",
    "RSE=np.sqrt(RSEd/693)\n",
    "valmean=np.mean(df['Valuation'])\n",
    "error=RSE/valmean\n",
    "RSE,valmean,error"
   ]
  },
  {
   "cell_type": "markdown",
   "id": "937d5dbf-f5f5-40a9-b45a-5a32a2d065c1",
   "metadata": {},
   "source": [
    "# Multiple Linear Regression"
   ]
  },
  {
   "cell_type": "code",
   "execution_count": 97,
   "id": "0b771b2e-f6e5-4c06-890b-10ae9ad22bd2",
   "metadata": {},
   "outputs": [
    {
     "data": {
      "text/plain": [
       "Intercept   -8.881903e-03\n",
       "Volume       2.992273e-10\n",
       "Velocity    -4.949252e-01\n",
       "dtype: float64"
      ]
     },
     "execution_count": 97,
     "metadata": {},
     "output_type": "execute_result"
    }
   ],
   "source": [
    "import statsmodels.formula.api as smf\n",
    "model2=smf.ols(formula='Valuation~Volume+Velocity',data=df).fit()\n",
    "model2.params"
   ]
  },
  {
   "cell_type": "code",
   "execution_count": 98,
   "id": "d1dadd98-3f7f-4f27-8533-632d42cc2acc",
   "metadata": {},
   "outputs": [
    {
     "data": {
      "text/plain": [
       "Date\n",
       "2018-11-17   -0.042061\n",
       "2018-11-18   -0.041545\n",
       "2018-11-19   -0.040884\n",
       "2018-11-20   -0.030723\n",
       "2018-11-21   -0.032614\n",
       "                ...   \n",
       "2022-08-15    0.060000\n",
       "2022-08-16    0.057425\n",
       "2022-08-17    0.060184\n",
       "2022-08-18    0.050524\n",
       "2022-08-19    0.061977\n",
       "Length: 1372, dtype: float64"
      ]
     },
     "execution_count": 98,
     "metadata": {},
     "output_type": "execute_result"
    }
   ],
   "source": [
    "val_pred=model2.predict(df[['Volume','Velocity']])\n",
    "val_pred"
   ]
  },
  {
   "cell_type": "code",
   "execution_count": 99,
   "id": "94ea3f66-b3a0-4f36-961a-23a8f2a3a5a2",
   "metadata": {},
   "outputs": [
    {
     "data": {
      "text/html": [
       "<table class=\"simpletable\">\n",
       "<caption>OLS Regression Results</caption>\n",
       "<tr>\n",
       "  <th>Dep. Variable:</th>        <td>Valuation</td>    <th>  R-squared:         </th> <td>   0.429</td> \n",
       "</tr>\n",
       "<tr>\n",
       "  <th>Model:</th>                   <td>OLS</td>       <th>  Adj. R-squared:    </th> <td>   0.428</td> \n",
       "</tr>\n",
       "<tr>\n",
       "  <th>Method:</th>             <td>Least Squares</td>  <th>  F-statistic:       </th> <td>   514.7</td> \n",
       "</tr>\n",
       "<tr>\n",
       "  <th>Date:</th>             <td>Sat, 03 Sep 2022</td> <th>  Prob (F-statistic):</th> <td>2.10e-167</td>\n",
       "</tr>\n",
       "<tr>\n",
       "  <th>Time:</th>                 <td>00:47:53</td>     <th>  Log-Likelihood:    </th> <td>  2354.0</td> \n",
       "</tr>\n",
       "<tr>\n",
       "  <th>No. Observations:</th>      <td>  1372</td>      <th>  AIC:               </th> <td>  -4702.</td> \n",
       "</tr>\n",
       "<tr>\n",
       "  <th>Df Residuals:</th>          <td>  1369</td>      <th>  BIC:               </th> <td>  -4686.</td> \n",
       "</tr>\n",
       "<tr>\n",
       "  <th>Df Model:</th>              <td>     2</td>      <th>                     </th>     <td> </td>    \n",
       "</tr>\n",
       "<tr>\n",
       "  <th>Covariance Type:</th>      <td>nonrobust</td>    <th>                     </th>     <td> </td>    \n",
       "</tr>\n",
       "</table>\n",
       "<table class=\"simpletable\">\n",
       "<tr>\n",
       "      <td></td>         <th>coef</th>     <th>std err</th>      <th>t</th>      <th>P>|t|</th>  <th>[0.025</th>    <th>0.975]</th>  \n",
       "</tr>\n",
       "<tr>\n",
       "  <th>Intercept</th> <td>   -0.0089</td> <td>    0.002</td> <td>   -4.653</td> <td> 0.000</td> <td>   -0.013</td> <td>   -0.005</td>\n",
       "</tr>\n",
       "<tr>\n",
       "  <th>Volume</th>    <td> 2.992e-10</td> <td> 1.09e-11</td> <td>   27.393</td> <td> 0.000</td> <td> 2.78e-10</td> <td> 3.21e-10</td>\n",
       "</tr>\n",
       "<tr>\n",
       "  <th>Velocity</th>  <td>   -0.4949</td> <td>    0.023</td> <td>  -21.452</td> <td> 0.000</td> <td>   -0.540</td> <td>   -0.450</td>\n",
       "</tr>\n",
       "</table>\n",
       "<table class=\"simpletable\">\n",
       "<tr>\n",
       "  <th>Omnibus:</th>       <td>1352.678</td> <th>  Durbin-Watson:     </th> <td>   0.595</td> \n",
       "</tr>\n",
       "<tr>\n",
       "  <th>Prob(Omnibus):</th>  <td> 0.000</td>  <th>  Jarque-Bera (JB):  </th> <td>88294.811</td>\n",
       "</tr>\n",
       "<tr>\n",
       "  <th>Skew:</th>           <td> 4.548</td>  <th>  Prob(JB):          </th> <td>    0.00</td> \n",
       "</tr>\n",
       "<tr>\n",
       "  <th>Kurtosis:</th>       <td>41.233</td>  <th>  Cond. No.          </th> <td>1.19e+10</td> \n",
       "</tr>\n",
       "</table><br/><br/>Notes:<br/>[1] Standard Errors assume that the covariance matrix of the errors is correctly specified.<br/>[2] The condition number is large, 1.19e+10. This might indicate that there are<br/>strong multicollinearity or other numerical problems."
      ],
      "text/plain": [
       "<class 'statsmodels.iolib.summary.Summary'>\n",
       "\"\"\"\n",
       "                            OLS Regression Results                            \n",
       "==============================================================================\n",
       "Dep. Variable:              Valuation   R-squared:                       0.429\n",
       "Model:                            OLS   Adj. R-squared:                  0.428\n",
       "Method:                 Least Squares   F-statistic:                     514.7\n",
       "Date:                Sat, 03 Sep 2022   Prob (F-statistic):          2.10e-167\n",
       "Time:                        00:47:53   Log-Likelihood:                 2354.0\n",
       "No. Observations:                1372   AIC:                            -4702.\n",
       "Df Residuals:                    1369   BIC:                            -4686.\n",
       "Df Model:                           2                                         \n",
       "Covariance Type:            nonrobust                                         \n",
       "==============================================================================\n",
       "                 coef    std err          t      P>|t|      [0.025      0.975]\n",
       "------------------------------------------------------------------------------\n",
       "Intercept     -0.0089      0.002     -4.653      0.000      -0.013      -0.005\n",
       "Volume      2.992e-10   1.09e-11     27.393      0.000    2.78e-10    3.21e-10\n",
       "Velocity      -0.4949      0.023    -21.452      0.000      -0.540      -0.450\n",
       "==============================================================================\n",
       "Omnibus:                     1352.678   Durbin-Watson:                   0.595\n",
       "Prob(Omnibus):                  0.000   Jarque-Bera (JB):            88294.811\n",
       "Skew:                           4.548   Prob(JB):                         0.00\n",
       "Kurtosis:                      41.233   Cond. No.                     1.19e+10\n",
       "==============================================================================\n",
       "\n",
       "Notes:\n",
       "[1] Standard Errors assume that the covariance matrix of the errors is correctly specified.\n",
       "[2] The condition number is large, 1.19e+10. This might indicate that there are\n",
       "strong multicollinearity or other numerical problems.\n",
       "\"\"\""
      ]
     },
     "execution_count": 99,
     "metadata": {},
     "output_type": "execute_result"
    }
   ],
   "source": [
    "model2.summary()"
   ]
  },
  {
   "cell_type": "code",
   "execution_count": 100,
   "id": "aa921626-0c6f-4616-934b-3849ee7ec10b",
   "metadata": {},
   "outputs": [
    {
     "data": {
      "text/plain": [
       "(22.300326151462798, 0.021671514139941693, 1029.0156011924507)"
      ]
     },
     "execution_count": 100,
     "metadata": {},
     "output_type": "execute_result"
    }
   ],
   "source": [
    "import numpy as np\n",
    "df['val_pred']=-3.726460e-01 + 2.499669e-08*df['Volume'] + 3.684614e+00*df['Velocity']\n",
    "df['RSE']=(df['Valuation']-df['val_pred'])**2\n",
    "RSEd=df.sum()['RSE']\n",
    "RSE=np.sqrt(RSEd/692)\n",
    "valmean=np.mean(df['Valuation'])\n",
    "error=RSE/valmean\n",
    "RSE,valmean,error"
   ]
  },
  {
   "cell_type": "code",
   "execution_count": 101,
   "id": "701be6b0-975e-42e4-887c-ac9e313b22a9",
   "metadata": {},
   "outputs": [
    {
     "data": {
      "text/plain": [
       "Intercept    4.851232e-02\n",
       "Volume       3.878029e-10\n",
       "Velocity    -6.763430e-01\n",
       "CirSupply   -2.764768e-11\n",
       "dtype: float64"
      ]
     },
     "execution_count": 101,
     "metadata": {},
     "output_type": "execute_result"
    }
   ],
   "source": [
    "import statsmodels.formula.api as smf\n",
    "model3=smf.ols(formula='Valuation~Volume+Velocity+CirSupply',data=df).fit()\n",
    "model3.params"
   ]
  },
  {
   "cell_type": "code",
   "execution_count": 102,
   "id": "2851f958-43ee-42ab-9e81-6f396fbebefb",
   "metadata": {},
   "outputs": [
    {
     "data": {
      "text/html": [
       "<table class=\"simpletable\">\n",
       "<caption>OLS Regression Results</caption>\n",
       "<tr>\n",
       "  <th>Dep. Variable:</th>        <td>Valuation</td>    <th>  R-squared:         </th> <td>   0.447</td> \n",
       "</tr>\n",
       "<tr>\n",
       "  <th>Model:</th>                   <td>OLS</td>       <th>  Adj. R-squared:    </th> <td>   0.446</td> \n",
       "</tr>\n",
       "<tr>\n",
       "  <th>Method:</th>             <td>Least Squares</td>  <th>  F-statistic:       </th> <td>   368.4</td> \n",
       "</tr>\n",
       "<tr>\n",
       "  <th>Date:</th>             <td>Sat, 03 Sep 2022</td> <th>  Prob (F-statistic):</th> <td>2.42e-175</td>\n",
       "</tr>\n",
       "<tr>\n",
       "  <th>Time:</th>                 <td>00:47:57</td>     <th>  Log-Likelihood:    </th> <td>  2375.7</td> \n",
       "</tr>\n",
       "<tr>\n",
       "  <th>No. Observations:</th>      <td>  1372</td>      <th>  AIC:               </th> <td>  -4743.</td> \n",
       "</tr>\n",
       "<tr>\n",
       "  <th>Df Residuals:</th>          <td>  1368</td>      <th>  BIC:               </th> <td>  -4722.</td> \n",
       "</tr>\n",
       "<tr>\n",
       "  <th>Df Model:</th>              <td>     3</td>      <th>                     </th>     <td> </td>    \n",
       "</tr>\n",
       "<tr>\n",
       "  <th>Covariance Type:</th>      <td>nonrobust</td>    <th>                     </th>     <td> </td>    \n",
       "</tr>\n",
       "</table>\n",
       "<table class=\"simpletable\">\n",
       "<tr>\n",
       "      <td></td>         <th>coef</th>     <th>std err</th>      <th>t</th>      <th>P>|t|</th>  <th>[0.025</th>    <th>0.975]</th>  \n",
       "</tr>\n",
       "<tr>\n",
       "  <th>Intercept</th> <td>    0.0485</td> <td>    0.009</td> <td>    5.465</td> <td> 0.000</td> <td>    0.031</td> <td>    0.066</td>\n",
       "</tr>\n",
       "<tr>\n",
       "  <th>Volume</th>    <td> 3.878e-10</td> <td> 1.72e-11</td> <td>   22.581</td> <td> 0.000</td> <td> 3.54e-10</td> <td> 4.21e-10</td>\n",
       "</tr>\n",
       "<tr>\n",
       "  <th>Velocity</th>  <td>   -0.6763</td> <td>    0.036</td> <td>  -18.993</td> <td> 0.000</td> <td>   -0.746</td> <td>   -0.606</td>\n",
       "</tr>\n",
       "<tr>\n",
       "  <th>CirSupply</th> <td>-2.765e-11</td> <td> 4.18e-12</td> <td>   -6.616</td> <td> 0.000</td> <td>-3.58e-11</td> <td>-1.94e-11</td>\n",
       "</tr>\n",
       "</table>\n",
       "<table class=\"simpletable\">\n",
       "<tr>\n",
       "  <th>Omnibus:</th>       <td>1310.801</td> <th>  Durbin-Watson:     </th> <td>   0.573</td> \n",
       "</tr>\n",
       "<tr>\n",
       "  <th>Prob(Omnibus):</th>  <td> 0.000</td>  <th>  Jarque-Bera (JB):  </th> <td>82617.502</td>\n",
       "</tr>\n",
       "<tr>\n",
       "  <th>Skew:</th>           <td> 4.322</td>  <th>  Prob(JB):          </th> <td>    0.00</td> \n",
       "</tr>\n",
       "<tr>\n",
       "  <th>Kurtosis:</th>       <td>40.020</td>  <th>  Cond. No.          </th> <td>6.95e+10</td> \n",
       "</tr>\n",
       "</table><br/><br/>Notes:<br/>[1] Standard Errors assume that the covariance matrix of the errors is correctly specified.<br/>[2] The condition number is large, 6.95e+10. This might indicate that there are<br/>strong multicollinearity or other numerical problems."
      ],
      "text/plain": [
       "<class 'statsmodels.iolib.summary.Summary'>\n",
       "\"\"\"\n",
       "                            OLS Regression Results                            \n",
       "==============================================================================\n",
       "Dep. Variable:              Valuation   R-squared:                       0.447\n",
       "Model:                            OLS   Adj. R-squared:                  0.446\n",
       "Method:                 Least Squares   F-statistic:                     368.4\n",
       "Date:                Sat, 03 Sep 2022   Prob (F-statistic):          2.42e-175\n",
       "Time:                        00:47:57   Log-Likelihood:                 2375.7\n",
       "No. Observations:                1372   AIC:                            -4743.\n",
       "Df Residuals:                    1368   BIC:                            -4722.\n",
       "Df Model:                           3                                         \n",
       "Covariance Type:            nonrobust                                         \n",
       "==============================================================================\n",
       "                 coef    std err          t      P>|t|      [0.025      0.975]\n",
       "------------------------------------------------------------------------------\n",
       "Intercept      0.0485      0.009      5.465      0.000       0.031       0.066\n",
       "Volume      3.878e-10   1.72e-11     22.581      0.000    3.54e-10    4.21e-10\n",
       "Velocity      -0.6763      0.036    -18.993      0.000      -0.746      -0.606\n",
       "CirSupply  -2.765e-11   4.18e-12     -6.616      0.000   -3.58e-11   -1.94e-11\n",
       "==============================================================================\n",
       "Omnibus:                     1310.801   Durbin-Watson:                   0.573\n",
       "Prob(Omnibus):                  0.000   Jarque-Bera (JB):            82617.502\n",
       "Skew:                           4.322   Prob(JB):                         0.00\n",
       "Kurtosis:                      40.020   Cond. No.                     6.95e+10\n",
       "==============================================================================\n",
       "\n",
       "Notes:\n",
       "[1] Standard Errors assume that the covariance matrix of the errors is correctly specified.\n",
       "[2] The condition number is large, 6.95e+10. This might indicate that there are\n",
       "strong multicollinearity or other numerical problems.\n",
       "\"\"\""
      ]
     },
     "execution_count": 102,
     "metadata": {},
     "output_type": "execute_result"
    }
   ],
   "source": [
    "model3.summary()"
   ]
  },
  {
   "cell_type": "code",
   "execution_count": 103,
   "id": "764a3f12-269d-437e-a271-f64dfd1ed80c",
   "metadata": {},
   "outputs": [
    {
     "data": {
      "text/plain": [
       "Date\n",
       "2018-11-17   -0.039701\n",
       "2018-11-18   -0.038838\n",
       "2018-11-19   -0.037825\n",
       "2018-11-20   -0.021544\n",
       "2018-11-21   -0.024567\n",
       "                ...   \n",
       "2022-08-15    0.058404\n",
       "2022-08-16    0.055404\n",
       "2022-08-17    0.058617\n",
       "2022-08-18    0.047361\n",
       "2022-08-19    0.060707\n",
       "Length: 1372, dtype: float64"
      ]
     },
     "execution_count": 103,
     "metadata": {},
     "output_type": "execute_result"
    }
   ],
   "source": [
    "val_pred=model3.predict(df[['Volume','Velocity','CirSupply']])\n",
    "val_pred"
   ]
  },
  {
   "cell_type": "code",
   "execution_count": 104,
   "id": "0b3ca207-b72b-48aa-a2c5-20f387944417",
   "metadata": {},
   "outputs": [
    {
     "data": {
      "text/plain": [
       "(22.036075512552987, 0.021671514139941693, 1016.8221458942451)"
      ]
     },
     "execution_count": 104,
     "metadata": {},
     "output_type": "execute_result"
    }
   ],
   "source": [
    "import numpy as np\n",
    "df['val_pred']=-0.3919 + 2.436e-08*df['Volume'] + 3.7717*df['Velocity'] + 1.105e-10*df['CirSupply']\n",
    "df['RSE']=(df['Valuation']-df['val_pred'])**2\n",
    "RSEd=df.sum()['RSE']\n",
    "RSE=np.sqrt(RSEd/692)\n",
    "valmean=np.mean(df['Valuation'])\n",
    "error=RSE/valmean\n",
    "RSE,valmean,error"
   ]
  },
  {
   "cell_type": "code",
   "execution_count": 105,
   "id": "a2c8e885-9ec0-4985-a08b-fcb0a930c4f9",
   "metadata": {},
   "outputs": [
    {
     "data": {
      "text/plain": [
       "30.988829757402065"
      ]
     },
     "execution_count": 105,
     "metadata": {},
     "output_type": "execute_result"
    }
   ],
   "source": [
    "model4=smf.ols(formula='Volume~Velocity+CirSupply',data=df).fit()\n",
    "rsquared=model4.rsquared \n",
    "VIF=1/(1-rsquared)\n",
    "VIF"
   ]
  },
  {
   "cell_type": "markdown",
   "id": "1c4fbcd7-5dcc-4739-96db-4464ece7aef6",
   "metadata": {},
   "source": [
    "# Polynomial Regression"
   ]
  },
  {
   "cell_type": "code",
   "execution_count": 106,
   "id": "dbf2208f-0701-4c07-a2ce-23aaedabe01a",
   "metadata": {},
   "outputs": [],
   "source": [
    "from sklearn.preprocessing import PolynomialFeatures\n",
    "from sklearn.pipeline import make_pipeline"
   ]
  },
  {
   "cell_type": "code",
   "execution_count": 107,
   "id": "d6b8dcb3-1fad-4ede-81bf-3b66648d1a8c",
   "metadata": {},
   "outputs": [],
   "source": [
    "x=df.Volume\n",
    "y=df.Valuation"
   ]
  },
  {
   "cell_type": "code",
   "execution_count": 108,
   "id": "216504b0-66d2-43ea-99f8-7859c21b18a7",
   "metadata": {},
   "outputs": [],
   "source": [
    "degree=2\n",
    "model5=make_pipeline (PolynomialFeatures (degree), lr)"
   ]
  },
  {
   "cell_type": "code",
   "execution_count": 109,
   "id": "41a27812-c286-4178-aae3-5fb89b9c784f",
   "metadata": {},
   "outputs": [],
   "source": [
    "x = df.iloc[:, 1].values\n",
    "y = df.iloc[:, 4].values\n",
    "\n",
    "x = x.reshape (-1, 1) #reshape to column"
   ]
  },
  {
   "cell_type": "code",
   "execution_count": 110,
   "id": "4f95b03e-f5c5-4f26-b1b4-378ffb909e1c",
   "metadata": {},
   "outputs": [
    {
     "data": {
      "text/html": [
       "<style>#sk-container-id-4 {color: black;background-color: white;}#sk-container-id-4 pre{padding: 0;}#sk-container-id-4 div.sk-toggleable {background-color: white;}#sk-container-id-4 label.sk-toggleable__label {cursor: pointer;display: block;width: 100%;margin-bottom: 0;padding: 0.3em;box-sizing: border-box;text-align: center;}#sk-container-id-4 label.sk-toggleable__label-arrow:before {content: \"▸\";float: left;margin-right: 0.25em;color: #696969;}#sk-container-id-4 label.sk-toggleable__label-arrow:hover:before {color: black;}#sk-container-id-4 div.sk-estimator:hover label.sk-toggleable__label-arrow:before {color: black;}#sk-container-id-4 div.sk-toggleable__content {max-height: 0;max-width: 0;overflow: hidden;text-align: left;background-color: #f0f8ff;}#sk-container-id-4 div.sk-toggleable__content pre {margin: 0.2em;color: black;border-radius: 0.25em;background-color: #f0f8ff;}#sk-container-id-4 input.sk-toggleable__control:checked~div.sk-toggleable__content {max-height: 200px;max-width: 100%;overflow: auto;}#sk-container-id-4 input.sk-toggleable__control:checked~label.sk-toggleable__label-arrow:before {content: \"▾\";}#sk-container-id-4 div.sk-estimator input.sk-toggleable__control:checked~label.sk-toggleable__label {background-color: #d4ebff;}#sk-container-id-4 div.sk-label input.sk-toggleable__control:checked~label.sk-toggleable__label {background-color: #d4ebff;}#sk-container-id-4 input.sk-hidden--visually {border: 0;clip: rect(1px 1px 1px 1px);clip: rect(1px, 1px, 1px, 1px);height: 1px;margin: -1px;overflow: hidden;padding: 0;position: absolute;width: 1px;}#sk-container-id-4 div.sk-estimator {font-family: monospace;background-color: #f0f8ff;border: 1px dotted black;border-radius: 0.25em;box-sizing: border-box;margin-bottom: 0.5em;}#sk-container-id-4 div.sk-estimator:hover {background-color: #d4ebff;}#sk-container-id-4 div.sk-parallel-item::after {content: \"\";width: 100%;border-bottom: 1px solid gray;flex-grow: 1;}#sk-container-id-4 div.sk-label:hover label.sk-toggleable__label {background-color: #d4ebff;}#sk-container-id-4 div.sk-serial::before {content: \"\";position: absolute;border-left: 1px solid gray;box-sizing: border-box;top: 0;bottom: 0;left: 50%;z-index: 0;}#sk-container-id-4 div.sk-serial {display: flex;flex-direction: column;align-items: center;background-color: white;padding-right: 0.2em;padding-left: 0.2em;position: relative;}#sk-container-id-4 div.sk-item {position: relative;z-index: 1;}#sk-container-id-4 div.sk-parallel {display: flex;align-items: stretch;justify-content: center;background-color: white;position: relative;}#sk-container-id-4 div.sk-item::before, #sk-container-id-4 div.sk-parallel-item::before {content: \"\";position: absolute;border-left: 1px solid gray;box-sizing: border-box;top: 0;bottom: 0;left: 50%;z-index: -1;}#sk-container-id-4 div.sk-parallel-item {display: flex;flex-direction: column;z-index: 1;position: relative;background-color: white;}#sk-container-id-4 div.sk-parallel-item:first-child::after {align-self: flex-end;width: 50%;}#sk-container-id-4 div.sk-parallel-item:last-child::after {align-self: flex-start;width: 50%;}#sk-container-id-4 div.sk-parallel-item:only-child::after {width: 0;}#sk-container-id-4 div.sk-dashed-wrapped {border: 1px dashed gray;margin: 0 0.4em 0.5em 0.4em;box-sizing: border-box;padding-bottom: 0.4em;background-color: white;}#sk-container-id-4 div.sk-label label {font-family: monospace;font-weight: bold;display: inline-block;line-height: 1.2em;}#sk-container-id-4 div.sk-label-container {text-align: center;}#sk-container-id-4 div.sk-container {/* jupyter's `normalize.less` sets `[hidden] { display: none; }` but bootstrap.min.css set `[hidden] { display: none !important; }` so we also need the `!important` here to be able to override the default hidden behavior on the sphinx rendered scikit-learn.org. See: https://github.com/scikit-learn/scikit-learn/issues/21755 */display: inline-block !important;position: relative;}#sk-container-id-4 div.sk-text-repr-fallback {display: none;}</style><div id=\"sk-container-id-4\" class=\"sk-top-container\"><div class=\"sk-text-repr-fallback\"><pre>Pipeline(steps=[(&#x27;polynomialfeatures&#x27;, PolynomialFeatures()),\n",
       "                (&#x27;linearregression&#x27;, LinearRegression())])</pre><b>In a Jupyter environment, please rerun this cell to show the HTML representation or trust the notebook. <br />On GitHub, the HTML representation is unable to render, please try loading this page with nbviewer.org.</b></div><div class=\"sk-container\" hidden><div class=\"sk-item sk-dashed-wrapped\"><div class=\"sk-label-container\"><div class=\"sk-label sk-toggleable\"><input class=\"sk-toggleable__control sk-hidden--visually\" id=\"sk-estimator-id-6\" type=\"checkbox\" ><label for=\"sk-estimator-id-6\" class=\"sk-toggleable__label sk-toggleable__label-arrow\">Pipeline</label><div class=\"sk-toggleable__content\"><pre>Pipeline(steps=[(&#x27;polynomialfeatures&#x27;, PolynomialFeatures()),\n",
       "                (&#x27;linearregression&#x27;, LinearRegression())])</pre></div></div></div><div class=\"sk-serial\"><div class=\"sk-item\"><div class=\"sk-estimator sk-toggleable\"><input class=\"sk-toggleable__control sk-hidden--visually\" id=\"sk-estimator-id-7\" type=\"checkbox\" ><label for=\"sk-estimator-id-7\" class=\"sk-toggleable__label sk-toggleable__label-arrow\">PolynomialFeatures</label><div class=\"sk-toggleable__content\"><pre>PolynomialFeatures()</pre></div></div></div><div class=\"sk-item\"><div class=\"sk-estimator sk-toggleable\"><input class=\"sk-toggleable__control sk-hidden--visually\" id=\"sk-estimator-id-8\" type=\"checkbox\" ><label for=\"sk-estimator-id-8\" class=\"sk-toggleable__label sk-toggleable__label-arrow\">LinearRegression</label><div class=\"sk-toggleable__content\"><pre>LinearRegression()</pre></div></div></div></div></div></div></div>"
      ],
      "text/plain": [
       "Pipeline(steps=[('polynomialfeatures', PolynomialFeatures()),\n",
       "                ('linearregression', LinearRegression())])"
      ]
     },
     "execution_count": 110,
     "metadata": {},
     "output_type": "execute_result"
    }
   ],
   "source": [
    "model5.fit (x,y)"
   ]
  },
  {
   "cell_type": "code",
   "execution_count": 111,
   "id": "583dfe37-5611-4e84-a05b-24482bfcf662",
   "metadata": {},
   "outputs": [
    {
     "data": {
      "text/plain": [
       "Text(0.5, 8.959999999999994, 'Volume')"
      ]
     },
     "execution_count": 111,
     "metadata": {},
     "output_type": "execute_result"
    },
    {
     "data": {
      "image/png": "[encoded data removed]",
      "text/plain": [
       "<Figure size 288x288 with 1 Axes>"
      ]
     },
     "metadata": {},
     "output_type": "display_data"
    }
   ],
   "source": [
    "import seaborn as sns\n",
    "sns.set_theme(style=\"ticks\")\n",
    "sns.relplot(x=\"Volume\", y=\"Valuation\", alpha=.7, palette=\"muted\",\n",
    "            height=4, data=df)\n",
    "plt.plot (x, model5.predict (x), color='black', linewidth=.5)\n",
    "plt.title ('FTM')\n",
    "plt.ylabel ('Valuation')\n",
    "plt.xlabel ('Volume')"
   ]
  },
  {
   "cell_type": "code",
   "execution_count": 112,
   "id": "e62c3a69-273d-4082-ac09-398e912141fd",
   "metadata": {},
   "outputs": [
    {
     "data": {
      "text/plain": [
       "Text(0.5, 8.959999999999994, 'Circulation Supply')"
      ]
     },
     "execution_count": 112,
     "metadata": {},
     "output_type": "execute_result"
    },
    {
     "data": {
      "image/png": "[encoded data removed]",
      "text/plain": [
       "<Figure size 288x288 with 1 Axes>"
      ]
     },
     "metadata": {},
     "output_type": "display_data"
    }
   ],
   "source": [
    "import seaborn as sns\n",
    "sns.set_theme(style=\"ticks\")\n",
    "sns.relplot(x=\"CirSupply\", y=\"Valuation\", alpha=.7, palette=\"muted\",\n",
    "            height=4, data=df)\n",
    "plt.title ('FTM')\n",
    "plt.ylabel ('Valuation')\n",
    "plt.xlabel ('Circulation Supply')"
   ]
  },
  {
   "cell_type": "code",
   "execution_count": null,
   "id": "cb4d5ecf-e722-4f97-ae09-070f57e8a56b",
   "metadata": {},
   "outputs": [],
   "source": []
  }
 ],
 "metadata": {
  "kernelspec": {
   "display_name": "Python 3 (ipykernel)",
   "language": "python",
   "name": "python3"
  },
  "language_info": {
   "codemirror_mode": {
    "name": "ipython",
    "version": 3
   },
   "file_extension": ".py",
   "mimetype": "text/x-python",
   "name": "python",
   "nbconvert_exporter": "python",
   "pygments_lexer": "ipython3",
   "version": "3.9.7"
  }
 },
 "nbformat": 4,
 "nbformat_minor": 5
}
