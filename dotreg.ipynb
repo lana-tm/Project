{
 "cells": [
  {
   "cell_type": "markdown",
   "id": "43ead17a-6203-4f92-902f-8a0da96ec364",
   "metadata": {},
   "source": [
    "# DOT Model"
   ]
  },
  {
   "cell_type": "code",
   "execution_count": 53,
   "id": "b97abfa6-2565-4de7-bd47-ac5ee9057ef7",
   "metadata": {},
   "outputs": [],
   "source": [
    "# Importing Python Packages"
   ]
  },
  {
   "cell_type": "code",
   "execution_count": 54,
   "id": "0af2cbc9-0ff6-4805-996e-a55fce82bc32",
   "metadata": {},
   "outputs": [],
   "source": [
    "import numpy as np\n",
    "import pandas as pd\n",
    "from pandas_datareader import data \n",
    "import matplotlib.pyplot as plt\n",
    "%matplotlib inline"
   ]
  },
  {
   "cell_type": "code",
   "execution_count": 55,
   "id": "5466dcf1-32a3-4f32-9a65-2956a2c002d3",
   "metadata": {},
   "outputs": [
    {
     "data": {
      "text/plain": [
       "Index(['Price', 'Volume', 'CirSupply', 'Velocity', 'Valuation'], dtype='object')"
      ]
     },
     "execution_count": 55,
     "metadata": {},
     "output_type": "execute_result"
    }
   ],
   "source": [
    "# Downloading data\n",
    "\n",
    "df = pd.read_csv('dot.csv', index_col = 'Date')\n",
    "df.index = pd.to_datetime (df.index)\n",
    "df.columns"
   ]
  },
  {
   "cell_type": "markdown",
   "id": "9258bdc7-0c5f-4f86-9d19-d716f648815e",
   "metadata": {},
   "source": [
    "# Correlation Matrix"
   ]
  },
  {
   "cell_type": "code",
   "execution_count": 56,
   "id": "265ac423-bf64-4a4e-9ccb-5385f637faee",
   "metadata": {},
   "outputs": [
    {
     "data": {
      "text/html": [
       "<div>\n",
       "<style scoped>\n",
       "    .dataframe tbody tr th:only-of-type {\n",
       "        vertical-align: middle;\n",
       "    }\n",
       "\n",
       "    .dataframe tbody tr th {\n",
       "        vertical-align: top;\n",
       "    }\n",
       "\n",
       "    .dataframe thead th {\n",
       "        text-align: right;\n",
       "    }\n",
       "</style>\n",
       "<table border=\"1\" class=\"dataframe\">\n",
       "  <thead>\n",
       "    <tr style=\"text-align: right;\">\n",
       "      <th></th>\n",
       "      <th>Price</th>\n",
       "      <th>Volume</th>\n",
       "      <th>CirSupply</th>\n",
       "      <th>Velocity</th>\n",
       "      <th>Valuation</th>\n",
       "    </tr>\n",
       "  </thead>\n",
       "  <tbody>\n",
       "    <tr>\n",
       "      <th>Price</th>\n",
       "      <td>0.004667</td>\n",
       "      <td>-0.004728</td>\n",
       "      <td>-0.000009</td>\n",
       "      <td>-0.004875</td>\n",
       "      <td>-0.004769</td>\n",
       "    </tr>\n",
       "    <tr>\n",
       "      <th>Volume</th>\n",
       "      <td>-0.004728</td>\n",
       "      <td>0.113256</td>\n",
       "      <td>-0.000005</td>\n",
       "      <td>0.112779</td>\n",
       "      <td>0.223195</td>\n",
       "    </tr>\n",
       "    <tr>\n",
       "      <th>CirSupply</th>\n",
       "      <td>-0.000009</td>\n",
       "      <td>-0.000005</td>\n",
       "      <td>0.000026</td>\n",
       "      <td>-0.000029</td>\n",
       "      <td>-0.000057</td>\n",
       "    </tr>\n",
       "    <tr>\n",
       "      <th>Velocity</th>\n",
       "      <td>-0.004875</td>\n",
       "      <td>0.112779</td>\n",
       "      <td>-0.000029</td>\n",
       "      <td>0.117636</td>\n",
       "      <td>0.221930</td>\n",
       "    </tr>\n",
       "    <tr>\n",
       "      <th>Valuation</th>\n",
       "      <td>-0.004769</td>\n",
       "      <td>0.223195</td>\n",
       "      <td>-0.000057</td>\n",
       "      <td>0.221930</td>\n",
       "      <td>0.453625</td>\n",
       "    </tr>\n",
       "  </tbody>\n",
       "</table>\n",
       "</div>"
      ],
      "text/plain": [
       "              Price    Volume  CirSupply  Velocity  Valuation\n",
       "Price      0.004667 -0.004728  -0.000009 -0.004875  -0.004769\n",
       "Volume    -0.004728  0.113256  -0.000005  0.112779   0.223195\n",
       "CirSupply -0.000009 -0.000005   0.000026 -0.000029  -0.000057\n",
       "Velocity  -0.004875  0.112779  -0.000029  0.117636   0.221930\n",
       "Valuation -0.004769  0.223195  -0.000057  0.221930   0.453625"
      ]
     },
     "execution_count": 56,
     "metadata": {},
     "output_type": "execute_result"
    }
   ],
   "source": [
    "cov_matrix = df.pct_change().apply(lambda x: np.log(1+x)).cov() \n",
    "cov_matrix"
   ]
  },
  {
   "cell_type": "code",
   "execution_count": 57,
   "id": "8c17136a-4e93-4991-b7a0-9641515fde1c",
   "metadata": {},
   "outputs": [
    {
     "data": {
      "text/html": [
       "<div>\n",
       "<style scoped>\n",
       "    .dataframe tbody tr th:only-of-type {\n",
       "        vertical-align: middle;\n",
       "    }\n",
       "\n",
       "    .dataframe tbody tr th {\n",
       "        vertical-align: top;\n",
       "    }\n",
       "\n",
       "    .dataframe thead th {\n",
       "        text-align: right;\n",
       "    }\n",
       "</style>\n",
       "<table border=\"1\" class=\"dataframe\">\n",
       "  <thead>\n",
       "    <tr style=\"text-align: right;\">\n",
       "      <th></th>\n",
       "      <th>Price</th>\n",
       "      <th>Volume</th>\n",
       "      <th>CirSupply</th>\n",
       "      <th>Velocity</th>\n",
       "      <th>Valuation</th>\n",
       "    </tr>\n",
       "  </thead>\n",
       "  <tbody>\n",
       "    <tr>\n",
       "      <th>Price</th>\n",
       "      <td>1.000000</td>\n",
       "      <td>-0.205633</td>\n",
       "      <td>-0.026757</td>\n",
       "      <td>-0.208075</td>\n",
       "      <td>-0.103637</td>\n",
       "    </tr>\n",
       "    <tr>\n",
       "      <th>Volume</th>\n",
       "      <td>-0.205633</td>\n",
       "      <td>1.000000</td>\n",
       "      <td>-0.002672</td>\n",
       "      <td>0.977072</td>\n",
       "      <td>0.984704</td>\n",
       "    </tr>\n",
       "    <tr>\n",
       "      <th>CirSupply</th>\n",
       "      <td>-0.026757</td>\n",
       "      <td>-0.002672</td>\n",
       "      <td>1.000000</td>\n",
       "      <td>-0.016308</td>\n",
       "      <td>-0.016545</td>\n",
       "    </tr>\n",
       "    <tr>\n",
       "      <th>Velocity</th>\n",
       "      <td>-0.208075</td>\n",
       "      <td>0.977072</td>\n",
       "      <td>-0.016308</td>\n",
       "      <td>1.000000</td>\n",
       "      <td>0.960725</td>\n",
       "    </tr>\n",
       "    <tr>\n",
       "      <th>Valuation</th>\n",
       "      <td>-0.103637</td>\n",
       "      <td>0.984704</td>\n",
       "      <td>-0.016545</td>\n",
       "      <td>0.960725</td>\n",
       "      <td>1.000000</td>\n",
       "    </tr>\n",
       "  </tbody>\n",
       "</table>\n",
       "</div>"
      ],
      "text/plain": [
       "              Price    Volume  CirSupply  Velocity  Valuation\n",
       "Price      1.000000 -0.205633  -0.026757 -0.208075  -0.103637\n",
       "Volume    -0.205633  1.000000  -0.002672  0.977072   0.984704\n",
       "CirSupply -0.026757 -0.002672   1.000000 -0.016308  -0.016545\n",
       "Velocity  -0.208075  0.977072  -0.016308  1.000000   0.960725\n",
       "Valuation -0.103637  0.984704  -0.016545  0.960725   1.000000"
      ]
     },
     "execution_count": 57,
     "metadata": {},
     "output_type": "execute_result"
    }
   ],
   "source": [
    "corr_matrix = df.pct_change().apply(lambda x: np.log(1+x)).corr() \n",
    "corr_matrix"
   ]
  },
  {
   "cell_type": "code",
   "execution_count": 58,
   "id": "56df00f1-4136-4711-adee-d372ca5c570e",
   "metadata": {},
   "outputs": [],
   "source": [
    "import statsmodels.api as sm"
   ]
  },
  {
   "cell_type": "code",
   "execution_count": 59,
   "id": "66151c72-cec6-4900-82d5-2ea2b7140277",
   "metadata": {},
   "outputs": [
    {
     "data": {
      "image/png": "[encoded data removed]",
      "text/plain": [
       "<Figure size 432x288 with 2 Axes>"
      ]
     },
     "metadata": {
      "needs_background": "light"
     },
     "output_type": "display_data"
    }
   ],
   "source": [
    "sm.graphics.plot_corr(corr_matrix, xnames=list(corr_matrix.columns))\n",
    "plt.show()"
   ]
  },
  {
   "cell_type": "code",
   "execution_count": 60,
   "id": "0dbd1725-6fe1-45e4-b244-13156214a45f",
   "metadata": {},
   "outputs": [],
   "source": [
    "val = df ['Valuation']"
   ]
  },
  {
   "cell_type": "code",
   "execution_count": 61,
   "id": "7ce7a401-3e1f-4b20-832e-b6308bb312d6",
   "metadata": {},
   "outputs": [
    {
     "data": {
      "text/plain": [
       "count    717.000000\n",
       "mean       0.222385\n",
       "std        0.429467\n",
       "min        0.010000\n",
       "25%        0.040000\n",
       "50%        0.090000\n",
       "75%        0.210000\n",
       "max        5.390000\n",
       "Name: Valuation, dtype: float64"
      ]
     },
     "execution_count": 61,
     "metadata": {},
     "output_type": "execute_result"
    }
   ],
   "source": [
    "val.describe()"
   ]
  },
  {
   "cell_type": "markdown",
   "id": "0feb121d-8d2e-46d6-a1b5-b6142988bb4d",
   "metadata": {},
   "source": [
    "# Chart Visualisation"
   ]
  },
  {
   "cell_type": "code",
   "execution_count": 62,
   "id": "f9f90bd1-7049-4ed7-ae05-243546421ebb",
   "metadata": {},
   "outputs": [],
   "source": [
    "import numpy as np\n",
    "import pandas as pd\n",
    "from pandas_datareader import data \n",
    "import matplotlib.pyplot as plt\n",
    "%matplotlib inline"
   ]
  },
  {
   "cell_type": "code",
   "execution_count": 63,
   "id": "2e4a37db-bcdf-40d4-b0be-142e8e208b10",
   "metadata": {},
   "outputs": [
    {
     "data": {
      "text/html": [
       "<div>\n",
       "<style scoped>\n",
       "    .dataframe tbody tr th:only-of-type {\n",
       "        vertical-align: middle;\n",
       "    }\n",
       "\n",
       "    .dataframe tbody tr th {\n",
       "        vertical-align: top;\n",
       "    }\n",
       "\n",
       "    .dataframe thead th {\n",
       "        text-align: right;\n",
       "    }\n",
       "</style>\n",
       "<table border=\"1\" class=\"dataframe\">\n",
       "  <thead>\n",
       "    <tr style=\"text-align: right;\">\n",
       "      <th></th>\n",
       "      <th>Price</th>\n",
       "      <th>Volume</th>\n",
       "      <th>CirSupply</th>\n",
       "      <th>Velocity</th>\n",
       "      <th>Valuation</th>\n",
       "    </tr>\n",
       "    <tr>\n",
       "      <th>Date</th>\n",
       "      <th></th>\n",
       "      <th></th>\n",
       "      <th></th>\n",
       "      <th></th>\n",
       "      <th></th>\n",
       "    </tr>\n",
       "  </thead>\n",
       "  <tbody>\n",
       "    <tr>\n",
       "      <th>2020-09-02</th>\n",
       "      <td>6.14</td>\n",
       "      <td>95139255</td>\n",
       "      <td>852573444</td>\n",
       "      <td>0.11</td>\n",
       "      <td>0.08</td>\n",
       "    </tr>\n",
       "    <tr>\n",
       "      <th>2020-09-03</th>\n",
       "      <td>5.75</td>\n",
       "      <td>132811036</td>\n",
       "      <td>852331522</td>\n",
       "      <td>0.16</td>\n",
       "      <td>0.14</td>\n",
       "    </tr>\n",
       "    <tr>\n",
       "      <th>2020-09-04</th>\n",
       "      <td>5.15</td>\n",
       "      <td>164230639</td>\n",
       "      <td>851991728</td>\n",
       "      <td>0.19</td>\n",
       "      <td>0.19</td>\n",
       "    </tr>\n",
       "    <tr>\n",
       "      <th>2020-09-05</th>\n",
       "      <td>4.12</td>\n",
       "      <td>195582618</td>\n",
       "      <td>853126305</td>\n",
       "      <td>0.23</td>\n",
       "      <td>0.22</td>\n",
       "    </tr>\n",
       "    <tr>\n",
       "      <th>2020-09-06</th>\n",
       "      <td>4.80</td>\n",
       "      <td>192533434</td>\n",
       "      <td>852553193</td>\n",
       "      <td>0.23</td>\n",
       "      <td>0.24</td>\n",
       "    </tr>\n",
       "  </tbody>\n",
       "</table>\n",
       "</div>"
      ],
      "text/plain": [
       "            Price     Volume  CirSupply  Velocity  Valuation\n",
       "Date                                                        \n",
       "2020-09-02   6.14   95139255  852573444      0.11       0.08\n",
       "2020-09-03   5.75  132811036  852331522      0.16       0.14\n",
       "2020-09-04   5.15  164230639  851991728      0.19       0.19\n",
       "2020-09-05   4.12  195582618  853126305      0.23       0.22\n",
       "2020-09-06   4.80  192533434  852553193      0.23       0.24"
      ]
     },
     "execution_count": 63,
     "metadata": {},
     "output_type": "execute_result"
    }
   ],
   "source": [
    "# Download the data\n",
    "data = pd.read_csv('dot.csv',\n",
    "                   parse_dates=['Date'],\n",
    "                   index_col=['Date'])\n",
    "data.head()"
   ]
  },
  {
   "cell_type": "code",
   "execution_count": 64,
   "id": "a64f0aa1-e23e-4936-90db-e00d521aad30",
   "metadata": {},
   "outputs": [],
   "source": [
    "price = df ['Price']"
   ]
  },
  {
   "cell_type": "code",
   "execution_count": 65,
   "id": "65e0f878-f460-44ee-9964-148b466dc88e",
   "metadata": {},
   "outputs": [
    {
     "data": {
      "text/plain": [
       "count    717.000000\n",
       "mean      20.346778\n",
       "std       12.594825\n",
       "min        3.760000\n",
       "25%        8.510000\n",
       "50%       18.630000\n",
       "75%       29.840000\n",
       "max       53.880000\n",
       "Name: Price, dtype: float64"
      ]
     },
     "execution_count": 65,
     "metadata": {},
     "output_type": "execute_result"
    }
   ],
   "source": [
    "price.describe()"
   ]
  },
  {
   "cell_type": "code",
   "execution_count": 66,
   "id": "cae384be-db9b-4a69-9c4a-92c8deb7e40b",
   "metadata": {},
   "outputs": [],
   "source": [
    "# Import necessary packages\n",
    "import os\n",
    "import matplotlib.pyplot as plt\n",
    "%matplotlib inline\n",
    "import matplotlib.dates as mdates\n",
    "from matplotlib.dates import DateFormatter\n",
    "import seaborn as sns\n",
    "import pandas as pd\n",
    "\n",
    "# Handle date time conversions between pandas and matplotlib\n",
    "from pandas.plotting import register_matplotlib_converters\n",
    "register_matplotlib_converters()\n",
    "\n",
    "# Use white grid plot background from seaborn\n",
    "sns.set(font_scale=1.5, style=\"whitegrid\")"
   ]
  },
  {
   "cell_type": "code",
   "execution_count": 67,
   "id": "daf8be0b-fcb7-4274-8aaf-5d1535db3a97",
   "metadata": {},
   "outputs": [
    {
     "data": {
      "image/png": "[encoded data removed]",
      "text/plain": [
       "<Figure size 432x288 with 2 Axes>"
      ]
     },
     "metadata": {},
     "output_type": "display_data"
    }
   ],
   "source": [
    "# Create figure and plot space\n",
    "plt.rc('font', size=8)\n",
    "fig, ax = plt.subplots(figsize=(6, 4))\n",
    "axb = ax.twinx()\n",
    "\n",
    "# Add x-axis and y-axis\n",
    "ax.plot(data.index.values, price, color='red', label='Price')\n",
    "\n",
    "# Set title and labels for axes\n",
    "ax.set(xlabel=\"\",\n",
    "       ylabel=\"Price\",\n",
    "       title=\"DOT\")\n",
    "\n",
    "# Plotting on the second y-axis\n",
    "axb.set_ylabel('Valuation')\n",
    "axb.plot(data.index.values, val, color='purple', linestyle='--', label='Valuation')\n",
    "\n",
    "# Handling of getting lines and labels from all axes for a single legend\n",
    "lines, labels = ax.get_legend_handles_labels()\n",
    "lines2, labels2 = axb.get_legend_handles_labels()\n",
    "axb.legend(lines + lines2, labels + labels2, loc='upper left');\n",
    "\n",
    "# Define the date format\n",
    "date_form = DateFormatter(\"%Y\")\n",
    "ax.xaxis.set_major_formatter(date_form)\n",
    "\n",
    "# Ensure a major tick for each week using (interval=1) \n",
    "ax.xaxis.set_major_locator(mdates.WeekdayLocator(interval=47))\n",
    "\n",
    "plt.show()"
   ]
  },
  {
   "cell_type": "markdown",
   "id": "d787386d-b4c0-4416-9824-b92288ac6806",
   "metadata": {},
   "source": [
    "# Linear Regression"
   ]
  },
  {
   "cell_type": "code",
   "execution_count": 68,
   "id": "9b7bee31-2b34-4c2a-9bb8-54fb1d686baa",
   "metadata": {},
   "outputs": [],
   "source": [
    "import numpy as np\n",
    "import pandas as pd\n",
    "import matplotlib.pyplot as plt\n",
    "from sklearn import datasets, linear_model\n",
    "from sklearn.metrics import mean_squared_error, r2_score"
   ]
  },
  {
   "cell_type": "code",
   "execution_count": 69,
   "id": "64342356-56fc-4484-bb5b-f22e495c818b",
   "metadata": {},
   "outputs": [
    {
     "name": "stderr",
     "output_type": "stream",
     "text": [
      "*c* argument looks like a single numeric RGB or RGBA sequence, which should be avoided as value-mapping will have precedence in case its length matches with *x* & *y*.  Please use the *color* keyword-argument or provide a 2D array with a single row if you intend to specify the same RGB or RGBA value for all points.\n"
     ]
    },
    {
     "data": {
      "text/plain": [
       "<AxesSubplot:title={'center':'Velocity vs Valuation'}, xlabel='Velocity', ylabel='Valuation'>"
      ]
     },
     "execution_count": 69,
     "metadata": {},
     "output_type": "execute_result"
    },
    {
     "data": {
      "image/png": "[encoded data removed]",
      "text/plain": [
       "<Figure size 432x288 with 1 Axes>"
      ]
     },
     "metadata": {},
     "output_type": "display_data"
    }
   ],
   "source": [
    "df.plot (kind='scatter', x='Velocity', y='Valuation', title='Velocity vs Valuation')"
   ]
  },
  {
   "cell_type": "code",
   "execution_count": 70,
   "id": "7854f7de-9a6a-4987-a375-60c21c6507e7",
   "metadata": {},
   "outputs": [
    {
     "name": "stderr",
     "output_type": "stream",
     "text": [
      "*c* argument looks like a single numeric RGB or RGBA sequence, which should be avoided as value-mapping will have precedence in case its length matches with *x* & *y*.  Please use the *color* keyword-argument or provide a 2D array with a single row if you intend to specify the same RGB or RGBA value for all points.\n"
     ]
    },
    {
     "data": {
      "text/plain": [
       "<AxesSubplot:title={'center':'Circulation supply vs Valuation'}, xlabel='CirSupply', ylabel='Valuation'>"
      ]
     },
     "execution_count": 70,
     "metadata": {},
     "output_type": "execute_result"
    },
    {
     "data": {
      "image/png": "[encoded data removed]",
      "text/plain": [
       "<Figure size 432x288 with 1 Axes>"
      ]
     },
     "metadata": {},
     "output_type": "display_data"
    }
   ],
   "source": [
    "df.plot (kind='scatter', x='CirSupply', y='Valuation', title='Circulation supply vs Valuation')"
   ]
  },
  {
   "cell_type": "code",
   "execution_count": 71,
   "id": "504e8072-a993-41fe-a5b5-cbe225d0b728",
   "metadata": {},
   "outputs": [
    {
     "name": "stderr",
     "output_type": "stream",
     "text": [
      "*c* argument looks like a single numeric RGB or RGBA sequence, which should be avoided as value-mapping will have precedence in case its length matches with *x* & *y*.  Please use the *color* keyword-argument or provide a 2D array with a single row if you intend to specify the same RGB or RGBA value for all points.\n"
     ]
    },
    {
     "data": {
      "text/plain": [
       "<AxesSubplot:title={'center':'Volume vs Valuation'}, xlabel='Volume', ylabel='Valuation'>"
      ]
     },
     "execution_count": 71,
     "metadata": {},
     "output_type": "execute_result"
    },
    {
     "data": {
      "image/png": "[encoded data removed]",
      "text/plain": [
       "<Figure size 432x288 with 1 Axes>"
      ]
     },
     "metadata": {},
     "output_type": "display_data"
    }
   ],
   "source": [
    "df.plot (kind='scatter', x='Volume', y='Valuation', title='Volume vs Valuation')"
   ]
  },
  {
   "cell_type": "code",
   "execution_count": 72,
   "id": "6fe63330-98be-4d3d-b34b-23ba7fb5e58e",
   "metadata": {},
   "outputs": [],
   "source": [
    "import sklearn.linear_model as lm"
   ]
  },
  {
   "cell_type": "code",
   "execution_count": 73,
   "id": "a9706924-5f98-4742-913d-96ca0ef31ee8",
   "metadata": {},
   "outputs": [],
   "source": [
    "lr =lm.LinearRegression()"
   ]
  },
  {
   "cell_type": "code",
   "execution_count": 74,
   "id": "3840c426-a331-4aeb-8294-3dfd3d5bcddd",
   "metadata": {},
   "outputs": [],
   "source": [
    "df.columns = df.columns.str.strip()"
   ]
  },
  {
   "cell_type": "code",
   "execution_count": 75,
   "id": "a1245882-dcc4-4a57-8797-71ebfe96529e",
   "metadata": {},
   "outputs": [],
   "source": [
    "x = df.Volume       #Independent variable\n",
    "y = df.Valuation        #Dependent variable"
   ]
  },
  {
   "cell_type": "code",
   "execution_count": 76,
   "id": "b6462eb8-f317-4a81-9516-e595141e76e9",
   "metadata": {},
   "outputs": [],
   "source": [
    "x = df.iloc[:, 1].values\n",
    "y = df.iloc[:, 4].values\n",
    "\n",
    "x = x.reshape (-1,1) #reshape to column"
   ]
  },
  {
   "cell_type": "code",
   "execution_count": 77,
   "id": "45c0620b-9a4a-4dc0-a3b3-b71ee1891f31",
   "metadata": {},
   "outputs": [
    {
     "data": {
      "text/html": [
       "<style>#sk-container-id-1 {color: black;background-color: white;}#sk-container-id-1 pre{padding: 0;}#sk-container-id-1 div.sk-toggleable {background-color: white;}#sk-container-id-1 label.sk-toggleable__label {cursor: pointer;display: block;width: 100%;margin-bottom: 0;padding: 0.3em;box-sizing: border-box;text-align: center;}#sk-container-id-1 label.sk-toggleable__label-arrow:before {content: \"▸\";float: left;margin-right: 0.25em;color: #696969;}#sk-container-id-1 label.sk-toggleable__label-arrow:hover:before {color: black;}#sk-container-id-1 div.sk-estimator:hover label.sk-toggleable__label-arrow:before {color: black;}#sk-container-id-1 div.sk-toggleable__content {max-height: 0;max-width: 0;overflow: hidden;text-align: left;background-color: #f0f8ff;}#sk-container-id-1 div.sk-toggleable__content pre {margin: 0.2em;color: black;border-radius: 0.25em;background-color: #f0f8ff;}#sk-container-id-1 input.sk-toggleable__control:checked~div.sk-toggleable__content {max-height: 200px;max-width: 100%;overflow: auto;}#sk-container-id-1 input.sk-toggleable__control:checked~label.sk-toggleable__label-arrow:before {content: \"▾\";}#sk-container-id-1 div.sk-estimator input.sk-toggleable__control:checked~label.sk-toggleable__label {background-color: #d4ebff;}#sk-container-id-1 div.sk-label input.sk-toggleable__control:checked~label.sk-toggleable__label {background-color: #d4ebff;}#sk-container-id-1 input.sk-hidden--visually {border: 0;clip: rect(1px 1px 1px 1px);clip: rect(1px, 1px, 1px, 1px);height: 1px;margin: -1px;overflow: hidden;padding: 0;position: absolute;width: 1px;}#sk-container-id-1 div.sk-estimator {font-family: monospace;background-color: #f0f8ff;border: 1px dotted black;border-radius: 0.25em;box-sizing: border-box;margin-bottom: 0.5em;}#sk-container-id-1 div.sk-estimator:hover {background-color: #d4ebff;}#sk-container-id-1 div.sk-parallel-item::after {content: \"\";width: 100%;border-bottom: 1px solid gray;flex-grow: 1;}#sk-container-id-1 div.sk-label:hover label.sk-toggleable__label {background-color: #d4ebff;}#sk-container-id-1 div.sk-serial::before {content: \"\";position: absolute;border-left: 1px solid gray;box-sizing: border-box;top: 0;bottom: 0;left: 50%;z-index: 0;}#sk-container-id-1 div.sk-serial {display: flex;flex-direction: column;align-items: center;background-color: white;padding-right: 0.2em;padding-left: 0.2em;position: relative;}#sk-container-id-1 div.sk-item {position: relative;z-index: 1;}#sk-container-id-1 div.sk-parallel {display: flex;align-items: stretch;justify-content: center;background-color: white;position: relative;}#sk-container-id-1 div.sk-item::before, #sk-container-id-1 div.sk-parallel-item::before {content: \"\";position: absolute;border-left: 1px solid gray;box-sizing: border-box;top: 0;bottom: 0;left: 50%;z-index: -1;}#sk-container-id-1 div.sk-parallel-item {display: flex;flex-direction: column;z-index: 1;position: relative;background-color: white;}#sk-container-id-1 div.sk-parallel-item:first-child::after {align-self: flex-end;width: 50%;}#sk-container-id-1 div.sk-parallel-item:last-child::after {align-self: flex-start;width: 50%;}#sk-container-id-1 div.sk-parallel-item:only-child::after {width: 0;}#sk-container-id-1 div.sk-dashed-wrapped {border: 1px dashed gray;margin: 0 0.4em 0.5em 0.4em;box-sizing: border-box;padding-bottom: 0.4em;background-color: white;}#sk-container-id-1 div.sk-label label {font-family: monospace;font-weight: bold;display: inline-block;line-height: 1.2em;}#sk-container-id-1 div.sk-label-container {text-align: center;}#sk-container-id-1 div.sk-container {/* jupyter's `normalize.less` sets `[hidden] { display: none; }` but bootstrap.min.css set `[hidden] { display: none !important; }` so we also need the `!important` here to be able to override the default hidden behavior on the sphinx rendered scikit-learn.org. See: https://github.com/scikit-learn/scikit-learn/issues/21755 */display: inline-block !important;position: relative;}#sk-container-id-1 div.sk-text-repr-fallback {display: none;}</style><div id=\"sk-container-id-1\" class=\"sk-top-container\"><div class=\"sk-text-repr-fallback\"><pre>LinearRegression()</pre><b>In a Jupyter environment, please rerun this cell to show the HTML representation or trust the notebook. <br />On GitHub, the HTML representation is unable to render, please try loading this page with nbviewer.org.</b></div><div class=\"sk-container\" hidden><div class=\"sk-item\"><div class=\"sk-estimator sk-toggleable\"><input class=\"sk-toggleable__control sk-hidden--visually\" id=\"sk-estimator-id-1\" type=\"checkbox\" checked><label for=\"sk-estimator-id-1\" class=\"sk-toggleable__label sk-toggleable__label-arrow\">LinearRegression</label><div class=\"sk-toggleable__content\"><pre>LinearRegression()</pre></div></div></div></div></div>"
      ],
      "text/plain": [
       "LinearRegression()"
      ]
     },
     "execution_count": 77,
     "metadata": {},
     "output_type": "execute_result"
    }
   ],
   "source": [
    "lr.fit (x,y)"
   ]
  },
  {
   "cell_type": "code",
   "execution_count": 78,
   "id": "868554c1-03fa-452b-aadd-281d7d279cae",
   "metadata": {},
   "outputs": [
    {
     "data": {
      "text/plain": [
       "Text(0.5, 0, 'Volume')"
      ]
     },
     "execution_count": 78,
     "metadata": {},
     "output_type": "execute_result"
    },
    {
     "data": {
      "image/png": "[encoded data removed]",
      "text/plain": [
       "<Figure size 432x288 with 1 Axes>"
      ]
     },
     "metadata": {},
     "output_type": "display_data"
    }
   ],
   "source": [
    "plt.scatter (x,y, color ='blue', alpha=0.3)\n",
    "plt.plot (x, lr.predict (x), color = 'red', linewidth=1)\n",
    "plt.title ('Volume vs Valuation')\n",
    "plt.ylabel ('Valuation')\n",
    "plt.xlabel ('Volume')"
   ]
  },
  {
   "cell_type": "code",
   "execution_count": 79,
   "id": "46aad168-0dc6-43e2-9051-319afa4ea3d3",
   "metadata": {},
   "outputs": [
    {
     "data": {
      "text/plain": [
       "array([ 2.50299978e-01,  4.56676901e-01,  6.28802583e-01,  8.00557801e-01,\n",
       "        7.83853489e-01,  5.35178199e-01,  3.95526825e-01,  3.50317964e-01,\n",
       "        4.86942813e-01,  4.75410087e-01,  5.32453166e-01,  8.65561158e-01,\n",
       "        7.61536717e-01,  6.93562545e-01,  5.83583916e-01,  5.25555035e-01,\n",
       "        4.42214469e-01,  4.01682467e-01,  6.65814241e-01,  1.19810716e+00,\n",
       "        6.13399759e-01,  4.86357934e-01,  2.76395032e-01,  2.56095082e-01,\n",
       "        1.44373053e-01,  1.31216119e-01,  4.05802141e-01,  3.48713532e-01,\n",
       "        2.05706526e-01,  2.90995013e-01,  4.66961765e-01,  2.16310347e-01,\n",
       "        1.05297767e-01,  1.65608476e-01,  6.94022650e-01,  6.21895380e-01,\n",
       "        5.49804969e-01,  3.61168927e-01,  3.63341354e-01,  2.28188429e-01,\n",
       "        3.49983224e-01,  2.71334177e-01,  4.07623080e-01,  3.31207822e-01,\n",
       "        3.50199639e-01,  1.39896038e-02,  1.82260762e-03,  7.23284732e-02,\n",
       "        4.33423655e-01,  3.35176268e-01,  2.00346967e-01,  3.21597401e-01,\n",
       "        1.18996186e-01,  1.57146551e-01,  5.66468090e-01,  6.89441299e-01,\n",
       "        5.43912718e-01,  6.57835140e-01,  5.14782006e-01,  1.46758772e-01,\n",
       "        1.21336216e-01,  4.13510658e-01,  2.91162748e-01,  8.46852739e-01,\n",
       "        2.13960889e-01,  2.83149582e-01,  6.65588854e-01,  2.22902822e-01,\n",
       "        2.28950415e-01,  1.99244209e-01,  2.25970494e-01,  1.86240328e-01,\n",
       "        1.42407701e-01,  1.35192361e-01,  1.36142833e-01,  2.72868816e-01,\n",
       "        4.93196417e-01,  5.15084501e-01,  3.63945878e-01,  8.05668629e-01,\n",
       "        7.03521456e-01,  7.77412269e-01,  6.54157701e-01,  7.93626834e-01,\n",
       "        7.72261264e-01,  1.36501800e+00,  7.20102524e-01,  1.93170950e-01,\n",
       "        2.05983064e-01,  3.90743977e-01,  5.66142965e-01,  3.38350383e-01,\n",
       "        8.81686954e-02,  1.89738128e-01,  1.60768599e-01,  4.80827307e-02,\n",
       "       -7.91981264e-03,  1.90648866e-01,  2.67459295e-01,  7.04899921e-02,\n",
       "        1.63140293e-01,  5.59274331e-02,  4.38527625e-02, -4.23933958e-02,\n",
       "        9.85273082e-02,  2.48803128e-01,  6.15421603e-01,  3.48751119e-01,\n",
       "        2.60153728e-01,  2.77367182e-01,  4.74522670e-01,  4.70807376e-01,\n",
       "        5.03086872e-01,  4.19504022e-01,  2.68059601e-01,  2.41958992e-01,\n",
       "        5.64890337e-01,  1.18107798e+00,  1.70913980e+00,  1.28494714e+00,\n",
       "        1.35152957e+00,  1.56917934e+00,  1.54284313e+00,  1.38563116e+00,\n",
       "        1.40281980e+00,  9.04244752e-01,  1.02137069e+00,  1.16194665e+00,\n",
       "        1.11203099e+00,  5.57460232e-01,  6.72923976e-01,  1.88008467e+00,\n",
       "        1.00170100e+00,  1.18650024e+00,  1.76558209e+00,  2.28354637e+00,\n",
       "        2.41613778e+00,  1.69445975e+00,  1.01926158e+00,  8.64812741e-01,\n",
       "        1.14048665e+00,  1.39380040e+00,  6.84160830e-01,  5.66252092e-01,\n",
       "        5.81413357e-01,  7.93475244e-01,  5.57323981e-01,  7.79928546e-01,\n",
       "        6.86652608e-01,  9.18989146e-01,  3.92304249e-01,  5.92465324e-01,\n",
       "        4.74583830e-01,  5.72865264e-01,  9.67279671e-01,  1.08027444e+00,\n",
       "        6.16917763e-01,  4.33445179e-01,  5.70195031e-01,  8.55837106e-01,\n",
       "        5.45371110e-01,  7.05173774e-01,  6.10736127e-01,  6.00292091e-01,\n",
       "        6.96426529e-01,  4.46867355e-01,  7.95553274e-01,  6.87210331e-01,\n",
       "        4.64198521e-01,  7.92535735e-02,  2.75001005e-01,  5.74669698e-01,\n",
       "        2.42601535e-01,  5.67850920e-01,  9.27317812e-01,  4.98673359e-01,\n",
       "        3.40783171e-01,  6.28572500e-01,  4.67281275e-01,  4.73602055e-01,\n",
       "        2.38974491e-01,  2.97820014e-01,  1.26018987e-01,  1.73854972e-01,\n",
       "        2.22333343e-01, -2.49324365e-03, -2.06368346e-02,  2.02833915e-02,\n",
       "        1.62423393e-01,  1.87493596e-01,  1.09892392e-01,  6.38101494e-02,\n",
       "        4.09474886e-02, -2.52622256e-02,  1.92357293e-01,  1.18545740e-01,\n",
       "        4.91593515e-02, -1.80378244e-02,  8.57107567e-02,  4.20381996e-02,\n",
       "        1.65266161e-02,  2.65803895e-02,  3.96515570e-03,  2.20278042e-01,\n",
       "        3.56567038e-01,  1.55133900e-02, -1.61857901e-02, -7.77283906e-02,\n",
       "       -9.52757558e-03, -6.48895644e-02,  2.51033888e-01,  1.38003742e-01,\n",
       "        1.04995503e-01,  4.18600022e-01,  1.11982683e-01,  8.05229151e-02,\n",
       "        1.20830937e-01,  2.55547204e-01, -2.39817795e-02, -9.40994809e-02,\n",
       "       -5.41359067e-02, -6.79883205e-02, -2.90542209e-02,  5.52367358e-02,\n",
       "        1.08732595e-01,  1.44528480e-02,  8.48567352e-02,  3.20620995e-01,\n",
       "        6.00735454e-01,  1.71748466e-01,  2.48155364e-01,  1.83849942e-01,\n",
       "        3.05382645e-01,  4.73620889e-01,  1.08014802e-01,  2.74407548e-02,\n",
       "        8.98541240e-02,  2.03279629e-02,  2.85198135e-02,  7.39259824e-03,\n",
       "        6.05650572e-02, -3.41221208e-02, -5.81235262e-02,  2.14788654e-03,\n",
       "        1.42203782e-01,  1.75542576e-01,  2.68439104e-01,  1.42921767e-01,\n",
       "       -2.96219087e-02,  4.09347735e-02,  2.06978678e-01,  4.99448944e-02,\n",
       "        3.24538969e-01,  6.91558230e-01,  3.72720186e-01,  5.45376900e-01,\n",
       "        2.77650924e-01,  4.05503196e-01,  2.56580541e-01,  1.91563784e+00,\n",
       "        9.87307865e-01,  1.17191252e+00,  8.19033656e-01,  1.55302634e+00,\n",
       "        7.70920217e-01,  5.46889001e-01,  4.20988190e-01,  3.62043142e-01,\n",
       "        8.85933881e-01,  3.88996902e-01,  2.50322231e-01,  3.49013846e-01,\n",
       "        2.64732920e-01,  3.54328932e-01,  2.97628663e-01,  3.42667396e-01,\n",
       "        2.12755216e-01, -2.05157299e-03,  2.00470037e-01,  3.97551196e-01,\n",
       "        2.53768896e-01,  2.39825707e-01,  1.25108791e-01,  1.12818960e-01,\n",
       "        3.50458478e-02,  3.31830431e-02,  4.26352848e-01,  1.33308563e-01,\n",
       "        2.99108663e-02,  8.91159793e-02, -2.48743118e-03,  7.61643058e-02,\n",
       "        5.72155048e-01,  8.60717934e-01,  4.28632184e-01,  1.21238237e-01,\n",
       "        2.11399953e-01,  1.58065644e-01,  8.73816460e-02,  1.15155730e-01,\n",
       "        1.81791381e-01,  1.32727952e-01,  4.59107861e-02, -1.91611680e-03,\n",
       "       -2.03311734e-02, -1.35556523e-02,  3.27940298e-02,  6.90567839e-02,\n",
       "        1.91877860e-01,  1.27920961e-01,  1.66072839e-02, -3.29647774e-02,\n",
       "       -7.87246833e-02, -2.47474472e-02, -3.65525092e-02,  7.01340896e-02,\n",
       "        5.01999143e-02,  9.76648994e-02,  1.08728289e-01,  2.07808311e-02,\n",
       "        1.46442581e-01,  1.98301253e-01,  2.76751258e-01,  1.63836567e-01,\n",
       "        1.19562839e-01,  8.07968296e-02,  3.97147420e-02,  4.33403089e-01,\n",
       "        1.57826933e-01,  1.46916919e-01,  1.10949226e-01,  1.22520326e-01,\n",
       "        1.40338003e-01,  5.51978245e-01,  2.34740617e-01,  1.47320937e-01,\n",
       "        1.85680167e-01,  1.98963546e-01,  1.89605608e-01,  1.77184934e-01,\n",
       "        9.64968952e-02,  9.81156421e-02,  1.10955832e-01,  2.04852866e-01,\n",
       "        1.63713448e-01,  8.22227079e-02,  1.16951837e-01,  3.70880337e-02,\n",
       "        3.24817502e-01,  4.87466838e-01,  2.77421127e-01,  1.98896891e-01,\n",
       "        1.93731193e-01,  1.31483608e-01,  7.52022250e-02,  6.87186146e-02,\n",
       "        1.70100673e-01,  1.19078180e-01,  1.14209438e-01,  8.71131550e-02,\n",
       "       -4.22216021e-02, -5.70001153e-02,  1.17749580e-01,  6.75009852e-01,\n",
       "        3.25967581e-01,  1.01026926e-01,  1.20035703e-01, -1.59843972e-02,\n",
       "        4.81402214e-03,  7.80767603e-02,  8.22531960e-01,  3.63879136e-01,\n",
       "        2.81309348e-01,  4.29442669e-01,  1.23285983e-01,  3.66274923e-01,\n",
       "        8.56692525e-01,  2.80391882e-01,  5.28378257e-02,  1.03576051e-01,\n",
       "        1.21578926e-01,  1.24507687e-02, -3.52481723e-02,  5.01456445e-01,\n",
       "        4.21191067e-01,  2.32722371e-01,  9.48779730e-02,  4.12085361e-01,\n",
       "        1.02977295e-01,  2.24963447e-01,  5.90165200e-02,  4.23134563e-02,\n",
       "        3.79027813e-02, -3.32512043e-02,  7.15413416e-02, -2.39907420e-02,\n",
       "       -4.99958482e-02, -4.24136709e-02, -5.15141671e-02,  6.49016328e-02,\n",
       "        1.68456792e-01, -1.79185566e-02,  1.95025654e-02,  2.98566093e-02,\n",
       "       -9.07105328e-03,  2.62915741e-02,  3.84457301e-01,  1.44976076e-01,\n",
       "        1.74608418e-01,  1.10556401e-02, -3.72731563e-02, -3.54274712e-02,\n",
       "       -7.54611457e-02, -4.07317139e-03,  3.79995608e-02,  4.88232256e-02,\n",
       "       -1.18092861e-01, -1.04612214e-01, -1.03466211e-01, -5.55851060e-02,\n",
       "        1.13277526e-01, -1.61922764e-02, -7.03459791e-02, -1.42425138e-01,\n",
       "       -1.10650396e-01,  2.04694105e-01,  1.27554288e-01,  6.66263572e-02,\n",
       "        7.20343290e-03, -7.69812231e-02, -8.84663804e-02, -1.16951897e-01,\n",
       "       -9.31489155e-02, -6.70684171e-02,  1.04257906e-01, -5.20607415e-02,\n",
       "       -2.99067250e-02, -1.32180178e-01, -1.59506916e-01, -1.21710756e-01,\n",
       "        1.29560389e-01, -2.05202018e-02,  3.55169534e-02, -6.03760674e-02,\n",
       "       -1.31195740e-01, -1.14382273e-01, -7.38425960e-02, -1.10883821e-01,\n",
       "       -1.10631430e-01, -9.93951791e-02,  8.10512304e-02, -1.11513106e-01,\n",
       "       -3.79004150e-02, -8.25800460e-02, -4.68194373e-02, -8.50159345e-02,\n",
       "       -1.17647755e-01, -5.42330860e-02,  2.61485538e-01,  1.37653938e-02,\n",
       "        1.15843749e-01,  4.77925511e-02, -2.21272087e-02, -2.83547475e-02,\n",
       "        1.02896328e-02, -3.89256056e-02, -1.04932278e-01,  1.75895538e-03,\n",
       "       -1.82361111e-02,  4.79702668e-02,  4.16164426e-02, -1.89200756e-02,\n",
       "       -8.20068361e-02, -1.06331033e-01, -6.02885024e-02, -7.66316699e-02,\n",
       "       -2.64244486e-03,  5.15893525e-03, -6.28799251e-02, -1.33888062e-01,\n",
       "        1.37070501e-02,  3.47027919e-02,  1.95067633e-01,  9.22925929e-02,\n",
       "       -2.48385292e-02, -3.11622722e-02, -1.23442284e-01, -4.64863683e-02,\n",
       "        2.98241450e-02,  2.02116275e-03,  8.10676653e-02,  2.49166932e-02,\n",
       "        3.36522656e-01,  8.16151546e-02,  2.45856402e-02,  1.19284536e-01,\n",
       "        6.29093816e-02,  1.32079505e-02,  2.44142793e-02,  8.51947785e-02,\n",
       "       -4.20144570e-02, -1.73633758e-02,  3.86557448e-02,  2.27445240e-02,\n",
       "       -4.83200214e-03, -5.69979404e-02,  3.30860334e-01,  5.08476249e-01,\n",
       "        1.86090376e-01,  4.15976738e-01,  1.80232266e-01,  2.63332588e-01,\n",
       "        7.19130326e-02,  2.62169378e-02, -4.64552735e-02, -4.23717730e-02,\n",
       "        4.38288169e-02,  2.76702075e-02,  6.51603779e-02, -6.77892598e-03,\n",
       "        2.70199510e-02,  5.34469238e-02, -6.30457091e-02,  6.13661365e-02,\n",
       "        9.39525694e-02, -3.28577316e-02,  1.26586718e-01,  1.28915610e-01,\n",
       "        1.52188991e-02, -5.53066007e-02, -2.65933021e-02, -2.83710728e-02,\n",
       "       -2.45771765e-02,  5.62869458e-02,  1.10521121e-02, -8.99541579e-02,\n",
       "        1.50703936e-02,  1.79449484e-01,  9.85998024e-02,  1.67265834e-01,\n",
       "        4.91062744e-01,  1.19249426e-01,  1.60439775e-01,  1.53822599e-01,\n",
       "        2.47215136e-01,  2.10668004e-01,  8.43177044e-02,  4.44905833e-02,\n",
       "        7.15049767e-02, -3.11131210e-02, -3.29088386e-02,  4.41257731e-02,\n",
       "        1.16366730e-02, -8.01182600e-03, -2.89064660e-02,  1.11214561e-01,\n",
       "        2.93055701e-02, -4.60595274e-02, -4.55771311e-02, -6.40154595e-02,\n",
       "        7.46272840e-02, -3.57923801e-02, -5.40740951e-02, -3.49109507e-02,\n",
       "       -6.85879577e-02, -5.90979989e-02,  5.56056274e-02,  7.39403284e-02,\n",
       "        4.62485719e-02, -3.42167638e-02, -1.24295988e-01, -8.39518809e-02,\n",
       "        4.47299298e-02,  1.35961914e-02,  8.19264374e-04,  3.51766201e-02,\n",
       "        9.18616832e-03,  6.66336817e-02, -2.94546001e-03, -2.88902268e-03,\n",
       "       -3.08358757e-02,  4.48533721e-02, -5.12222400e-02, -5.15961278e-02,\n",
       "       -1.32000556e-01, -1.00557179e-01,  4.71870961e-02, -3.26845958e-02,\n",
       "       -7.29374401e-02, -7.78470120e-02, -1.19519572e-01, -1.46146557e-01,\n",
       "       -1.25126995e-01, -5.59658526e-02, -1.06984330e-01, -3.24820908e-02,\n",
       "       -3.83047511e-02, -8.25824345e-02, -8.78754154e-02, -9.69397111e-02,\n",
       "       -2.92112835e-02, -1.16817157e-02, -7.16712595e-02, -7.45609203e-02,\n",
       "       -7.63371899e-02, -1.08325041e-02, -1.87232845e-02, -2.04816620e-02,\n",
       "       -8.77605412e-02, -1.99282781e-02,  8.74633766e-02,  6.14553121e-02,\n",
       "       -3.47602868e-02,  4.27516647e-02,  5.07123560e-01,  5.83421808e-01,\n",
       "        1.17874201e+00,  8.04763720e-01,  7.00877442e-01,  4.11979975e-01,\n",
       "        1.80515181e-01,  1.93705418e-01,  1.08319367e-01,  2.34858531e-01,\n",
       "        1.95035415e-01,  9.14100350e-02, -3.86116942e-02, -1.37635698e-02,\n",
       "        2.08626788e-01,  8.53765263e-02,  4.86432364e-02,  2.49282840e-01,\n",
       "        4.81592825e-01,  6.48951136e-02,  4.48751976e-02,  1.15385243e-01,\n",
       "        8.12543051e-02,  1.33708955e-01,  9.19922856e-03, -2.86802236e-02,\n",
       "       -1.07611216e-01, -1.32415525e-01, -3.20475145e-02, -6.01016857e-03,\n",
       "       -6.30782118e-02, -4.67451244e-02,  2.28118632e-02,  3.88464550e-02,\n",
       "        1.26714001e-01,  5.25879136e-01,  3.42839754e-01,  4.03649195e-01,\n",
       "        2.35284052e-01,  5.00809203e-02,  1.74027035e-01,  8.30877572e-02,\n",
       "        7.30082468e-02,  3.35105298e-02,  2.25119378e-02,  2.02814248e-02,\n",
       "        4.87129750e-02, -3.12309316e-02, -6.71471337e-04, -1.36638211e-02,\n",
       "        6.98129577e-02,  1.68354233e-01,  1.59718926e-01,  2.36881844e-01,\n",
       "        1.25124652e-02, -4.48604010e-02,  4.59148181e-02,  2.22993657e-01,\n",
       "        1.07007624e-01,  1.00700880e-01,  1.42117773e-01,  2.91151393e-02,\n",
       "        6.33708508e-02,  9.59835482e-03,  3.24001643e-03,  5.96298858e-02,\n",
       "        3.68484258e-03,  9.43338709e-03,  4.64650700e-03, -2.45630151e-02,\n",
       "        1.61962280e-01,  3.15818261e-01,  2.48425121e-01,  6.33030405e-02,\n",
       "        9.96568219e-02,  1.10872498e-02,  8.89992769e-03,  8.26455441e-02,\n",
       "        5.71496395e-02,  1.60524081e-01,  3.48232681e-01,  2.88900269e-01,\n",
       "        2.80557612e-01,  3.50288798e-01,  1.65803673e-01,  1.57172376e-01,\n",
       "        7.49048032e-02,  2.47850679e-03,  5.12032685e-02, -2.12932323e-02,\n",
       "       -5.34501179e-02,  1.52439046e-01,  1.42284746e-01,  2.05653896e-01,\n",
       "        1.33217618e-01,  4.39393852e-02, -5.87279130e-02,  6.73849031e-02,\n",
       "        4.99817633e-02, -3.14821496e-02,  3.48955181e-02, -3.46836126e-02,\n",
       "        1.24694166e-01])"
      ]
     },
     "execution_count": 79,
     "metadata": {},
     "output_type": "execute_result"
    }
   ],
   "source": [
    "lr.predict (x)"
   ]
  },
  {
   "cell_type": "code",
   "execution_count": 80,
   "id": "03f237e7-34b4-4d06-969f-44a8e685fcd4",
   "metadata": {},
   "outputs": [
    {
     "data": {
      "text/plain": [
       "0.645434902299382"
      ]
     },
     "execution_count": 80,
     "metadata": {},
     "output_type": "execute_result"
    }
   ],
   "source": [
    "R_Sq = r2_score (y, lr.predict (x))\n",
    "R_Sq"
   ]
  },
  {
   "cell_type": "code",
   "execution_count": 81,
   "id": "4b239540-35ac-488d-91f6-2d3da9141e0c",
   "metadata": {},
   "outputs": [],
   "source": [
    "# Model Statistics"
   ]
  },
  {
   "cell_type": "code",
   "execution_count": 82,
   "id": "c3afeb08-e0e1-4af6-9ec9-4370e24214f4",
   "metadata": {},
   "outputs": [
    {
     "data": {
      "text/plain": [
       "Intercept   -2.709004e-01\n",
       "Volume       5.478290e-09\n",
       "dtype: float64"
      ]
     },
     "execution_count": 82,
     "metadata": {},
     "output_type": "execute_result"
    }
   ],
   "source": [
    "import statsmodels.formula.api as smf\n",
    "model1=smf.ols(formula='Valuation~Volume',data=df).fit()\n",
    "model1.params"
   ]
  },
  {
   "cell_type": "code",
   "execution_count": 83,
   "id": "69735573-c37c-4dcb-a341-7ac104234100",
   "metadata": {},
   "outputs": [
    {
     "data": {
      "text/plain": [
       "Intercept     1.032313e-50\n",
       "Volume       3.852039e-163\n",
       "dtype: float64"
      ]
     },
     "execution_count": 83,
     "metadata": {},
     "output_type": "execute_result"
    }
   ],
   "source": [
    "model1.pvalues"
   ]
  },
  {
   "cell_type": "code",
   "execution_count": 84,
   "id": "4abdd1b3-208c-4d9b-a4b0-b6f62a9a1c13",
   "metadata": {},
   "outputs": [
    {
     "data": {
      "text/plain": [
       "0.6454349022993822"
      ]
     },
     "execution_count": 84,
     "metadata": {},
     "output_type": "execute_result"
    }
   ],
   "source": [
    "model1.rsquared"
   ]
  },
  {
   "cell_type": "code",
   "execution_count": 85,
   "id": "9a3359ee-bf60-4c0a-a593-5ca8e3f5c12f",
   "metadata": {},
   "outputs": [
    {
     "data": {
      "text/html": [
       "<table class=\"simpletable\">\n",
       "<caption>OLS Regression Results</caption>\n",
       "<tr>\n",
       "  <th>Dep. Variable:</th>        <td>Valuation</td>    <th>  R-squared:         </th> <td>   0.645</td> \n",
       "</tr>\n",
       "<tr>\n",
       "  <th>Model:</th>                   <td>OLS</td>       <th>  Adj. R-squared:    </th> <td>   0.645</td> \n",
       "</tr>\n",
       "<tr>\n",
       "  <th>Method:</th>             <td>Least Squares</td>  <th>  F-statistic:       </th> <td>   1302.</td> \n",
       "</tr>\n",
       "<tr>\n",
       "  <th>Date:</th>             <td>Sat, 03 Sep 2022</td> <th>  Prob (F-statistic):</th> <td>3.85e-163</td>\n",
       "</tr>\n",
       "<tr>\n",
       "  <th>Time:</th>                 <td>00:51:45</td>     <th>  Log-Likelihood:    </th> <td> -39.147</td> \n",
       "</tr>\n",
       "<tr>\n",
       "  <th>No. Observations:</th>      <td>   717</td>      <th>  AIC:               </th> <td>   82.29</td> \n",
       "</tr>\n",
       "<tr>\n",
       "  <th>Df Residuals:</th>          <td>   715</td>      <th>  BIC:               </th> <td>   91.44</td> \n",
       "</tr>\n",
       "<tr>\n",
       "  <th>Df Model:</th>              <td>     1</td>      <th>                     </th>     <td> </td>    \n",
       "</tr>\n",
       "<tr>\n",
       "  <th>Covariance Type:</th>      <td>nonrobust</td>    <th>                     </th>     <td> </td>    \n",
       "</tr>\n",
       "</table>\n",
       "<table class=\"simpletable\">\n",
       "<tr>\n",
       "      <td></td>         <th>coef</th>     <th>std err</th>      <th>t</th>      <th>P>|t|</th>  <th>[0.025</th>    <th>0.975]</th>  \n",
       "</tr>\n",
       "<tr>\n",
       "  <th>Intercept</th> <td>   -0.2709</td> <td>    0.017</td> <td>  -16.239</td> <td> 0.000</td> <td>   -0.304</td> <td>   -0.238</td>\n",
       "</tr>\n",
       "<tr>\n",
       "  <th>Volume</th>    <td> 5.478e-09</td> <td> 1.52e-10</td> <td>   36.077</td> <td> 0.000</td> <td> 5.18e-09</td> <td> 5.78e-09</td>\n",
       "</tr>\n",
       "</table>\n",
       "<table class=\"simpletable\">\n",
       "<tr>\n",
       "  <th>Omnibus:</th>       <td>664.865</td> <th>  Durbin-Watson:     </th> <td>   0.605</td> \n",
       "</tr>\n",
       "<tr>\n",
       "  <th>Prob(Omnibus):</th> <td> 0.000</td>  <th>  Jarque-Bera (JB):  </th> <td>54490.737</td>\n",
       "</tr>\n",
       "<tr>\n",
       "  <th>Skew:</th>          <td> 3.794</td>  <th>  Prob(JB):          </th> <td>    0.00</td> \n",
       "</tr>\n",
       "<tr>\n",
       "  <th>Kurtosis:</th>      <td>45.028</td>  <th>  Cond. No.          </th> <td>1.92e+08</td> \n",
       "</tr>\n",
       "</table><br/><br/>Notes:<br/>[1] Standard Errors assume that the covariance matrix of the errors is correctly specified.<br/>[2] The condition number is large, 1.92e+08. This might indicate that there are<br/>strong multicollinearity or other numerical problems."
      ],
      "text/plain": [
       "<class 'statsmodels.iolib.summary.Summary'>\n",
       "\"\"\"\n",
       "                            OLS Regression Results                            \n",
       "==============================================================================\n",
       "Dep. Variable:              Valuation   R-squared:                       0.645\n",
       "Model:                            OLS   Adj. R-squared:                  0.645\n",
       "Method:                 Least Squares   F-statistic:                     1302.\n",
       "Date:                Sat, 03 Sep 2022   Prob (F-statistic):          3.85e-163\n",
       "Time:                        00:51:45   Log-Likelihood:                -39.147\n",
       "No. Observations:                 717   AIC:                             82.29\n",
       "Df Residuals:                     715   BIC:                             91.44\n",
       "Df Model:                           1                                         \n",
       "Covariance Type:            nonrobust                                         \n",
       "==============================================================================\n",
       "                 coef    std err          t      P>|t|      [0.025      0.975]\n",
       "------------------------------------------------------------------------------\n",
       "Intercept     -0.2709      0.017    -16.239      0.000      -0.304      -0.238\n",
       "Volume      5.478e-09   1.52e-10     36.077      0.000    5.18e-09    5.78e-09\n",
       "==============================================================================\n",
       "Omnibus:                      664.865   Durbin-Watson:                   0.605\n",
       "Prob(Omnibus):                  0.000   Jarque-Bera (JB):            54490.737\n",
       "Skew:                           3.794   Prob(JB):                         0.00\n",
       "Kurtosis:                      45.028   Cond. No.                     1.92e+08\n",
       "==============================================================================\n",
       "\n",
       "Notes:\n",
       "[1] Standard Errors assume that the covariance matrix of the errors is correctly specified.\n",
       "[2] The condition number is large, 1.92e+08. This might indicate that there are\n",
       "strong multicollinearity or other numerical problems.\n",
       "\"\"\""
      ]
     },
     "execution_count": 85,
     "metadata": {},
     "output_type": "execute_result"
    }
   ],
   "source": [
    "model1.summary()"
   ]
  },
  {
   "cell_type": "code",
   "execution_count": 86,
   "id": "06507fc8-fafc-40c1-800a-8f614b584488",
   "metadata": {},
   "outputs": [
    {
     "data": {
      "text/plain": [
       "Date\n",
       "2020-09-02    0.250300\n",
       "2020-09-03    0.456677\n",
       "2020-09-04    0.628803\n",
       "2020-09-05    0.800558\n",
       "2020-09-06    0.783853\n",
       "                ...   \n",
       "2022-08-15    0.049982\n",
       "2022-08-16   -0.031482\n",
       "2022-08-17    0.034896\n",
       "2022-08-18   -0.034684\n",
       "2022-08-19    0.124694\n",
       "Length: 717, dtype: float64"
      ]
     },
     "execution_count": 86,
     "metadata": {},
     "output_type": "execute_result"
    }
   ],
   "source": [
    "val_pred=model1.predict(pd.DataFrame(df['Volume']))\n",
    "val_pred"
   ]
  },
  {
   "cell_type": "code",
   "execution_count": 87,
   "id": "fb508a66-9668-4688-af76-f8c6bad4d134",
   "metadata": {},
   "outputs": [
    {
     "data": {
      "text/plain": [
       "(14539347.42868071, 0.2223849372384946, 65379191.63602401)"
      ]
     },
     "execution_count": 87,
     "metadata": {},
     "output_type": "execute_result"
    }
   ],
   "source": [
    "df['val_pred']=-1.301119e-01*df['Volume']+3.395391e-08\n",
    "df['RSE']=(df['Valuation']-df['val_pred'])**2\n",
    "RSEd=df.sum()['RSE']\n",
    "RSE=np.sqrt(RSEd/693)\n",
    "valmean=np.mean(df['Valuation'])\n",
    "error=RSE/valmean\n",
    "RSE,valmean,error"
   ]
  },
  {
   "cell_type": "markdown",
   "id": "937d5dbf-f5f5-40a9-b45a-5a32a2d065c1",
   "metadata": {},
   "source": [
    "# Multiple Linear Regression"
   ]
  },
  {
   "cell_type": "code",
   "execution_count": 88,
   "id": "0b771b2e-f6e5-4c06-890b-10ae9ad22bd2",
   "metadata": {},
   "outputs": [
    {
     "data": {
      "text/plain": [
       "Intercept   -3.443344e-01\n",
       "Volume       2.163193e-08\n",
       "Velocity    -1.433273e+01\n",
       "dtype: float64"
      ]
     },
     "execution_count": 88,
     "metadata": {},
     "output_type": "execute_result"
    }
   ],
   "source": [
    "import statsmodels.formula.api as smf\n",
    "model2=smf.ols(formula='Valuation~Volume+Velocity',data=df).fit()\n",
    "model2.params"
   ]
  },
  {
   "cell_type": "code",
   "execution_count": 89,
   "id": "d1dadd98-3f7f-4f27-8533-632d42cc2acc",
   "metadata": {},
   "outputs": [
    {
     "data": {
      "text/plain": [
       "Date\n",
       "2020-09-02    0.137111\n",
       "2020-09-03    0.235388\n",
       "2020-09-04    0.485073\n",
       "2020-09-05    0.589968\n",
       "2020-09-06    0.524008\n",
       "                ...   \n",
       "2022-08-15    0.206085\n",
       "2022-08-16    0.027739\n",
       "2022-08-17    0.146515\n",
       "2022-08-18    0.015097\n",
       "2022-08-19    0.357772\n",
       "Length: 717, dtype: float64"
      ]
     },
     "execution_count": 89,
     "metadata": {},
     "output_type": "execute_result"
    }
   ],
   "source": [
    "val_pred=model2.predict(df[['Volume','Velocity']])\n",
    "val_pred"
   ]
  },
  {
   "cell_type": "code",
   "execution_count": 90,
   "id": "94ea3f66-b3a0-4f36-961a-23a8f2a3a5a2",
   "metadata": {},
   "outputs": [
    {
     "data": {
      "text/html": [
       "<table class=\"simpletable\">\n",
       "<caption>OLS Regression Results</caption>\n",
       "<tr>\n",
       "  <th>Dep. Variable:</th>        <td>Valuation</td>    <th>  R-squared:         </th> <td>   0.686</td> \n",
       "</tr>\n",
       "<tr>\n",
       "  <th>Model:</th>                   <td>OLS</td>       <th>  Adj. R-squared:    </th> <td>   0.685</td> \n",
       "</tr>\n",
       "<tr>\n",
       "  <th>Method:</th>             <td>Least Squares</td>  <th>  F-statistic:       </th> <td>   780.7</td> \n",
       "</tr>\n",
       "<tr>\n",
       "  <th>Date:</th>             <td>Sat, 03 Sep 2022</td> <th>  Prob (F-statistic):</th> <td>2.02e-180</td>\n",
       "</tr>\n",
       "<tr>\n",
       "  <th>Time:</th>                 <td>00:51:59</td>     <th>  Log-Likelihood:    </th> <td>  4.6375</td> \n",
       "</tr>\n",
       "<tr>\n",
       "  <th>No. Observations:</th>      <td>   717</td>      <th>  AIC:               </th> <td>  -3.275</td> \n",
       "</tr>\n",
       "<tr>\n",
       "  <th>Df Residuals:</th>          <td>   714</td>      <th>  BIC:               </th> <td>   10.45</td> \n",
       "</tr>\n",
       "<tr>\n",
       "  <th>Df Model:</th>              <td>     2</td>      <th>                     </th>     <td> </td>    \n",
       "</tr>\n",
       "<tr>\n",
       "  <th>Covariance Type:</th>      <td>nonrobust</td>    <th>                     </th>     <td> </td>    \n",
       "</tr>\n",
       "</table>\n",
       "<table class=\"simpletable\">\n",
       "<tr>\n",
       "      <td></td>         <th>coef</th>     <th>std err</th>      <th>t</th>      <th>P>|t|</th>  <th>[0.025</th>    <th>0.975]</th>  \n",
       "</tr>\n",
       "<tr>\n",
       "  <th>Intercept</th> <td>   -0.3443</td> <td>    0.017</td> <td>  -19.724</td> <td> 0.000</td> <td>   -0.379</td> <td>   -0.310</td>\n",
       "</tr>\n",
       "<tr>\n",
       "  <th>Volume</th>    <td> 2.163e-08</td> <td> 1.68e-09</td> <td>   12.850</td> <td> 0.000</td> <td> 1.83e-08</td> <td> 2.49e-08</td>\n",
       "</tr>\n",
       "<tr>\n",
       "  <th>Velocity</th>  <td>  -14.3327</td> <td>    1.488</td> <td>   -9.631</td> <td> 0.000</td> <td>  -17.255</td> <td>  -11.411</td>\n",
       "</tr>\n",
       "</table>\n",
       "<table class=\"simpletable\">\n",
       "<tr>\n",
       "  <th>Omnibus:</th>       <td>654.761</td> <th>  Durbin-Watson:     </th> <td>   0.682</td> \n",
       "</tr>\n",
       "<tr>\n",
       "  <th>Prob(Omnibus):</th> <td> 0.000</td>  <th>  Jarque-Bera (JB):  </th> <td>49883.128</td>\n",
       "</tr>\n",
       "<tr>\n",
       "  <th>Skew:</th>          <td> 3.724</td>  <th>  Prob(JB):          </th> <td>    0.00</td> \n",
       "</tr>\n",
       "<tr>\n",
       "  <th>Kurtosis:</th>      <td>43.178</td>  <th>  Cond. No.          </th> <td>1.82e+10</td> \n",
       "</tr>\n",
       "</table><br/><br/>Notes:<br/>[1] Standard Errors assume that the covariance matrix of the errors is correctly specified.<br/>[2] The condition number is large, 1.82e+10. This might indicate that there are<br/>strong multicollinearity or other numerical problems."
      ],
      "text/plain": [
       "<class 'statsmodels.iolib.summary.Summary'>\n",
       "\"\"\"\n",
       "                            OLS Regression Results                            \n",
       "==============================================================================\n",
       "Dep. Variable:              Valuation   R-squared:                       0.686\n",
       "Model:                            OLS   Adj. R-squared:                  0.685\n",
       "Method:                 Least Squares   F-statistic:                     780.7\n",
       "Date:                Sat, 03 Sep 2022   Prob (F-statistic):          2.02e-180\n",
       "Time:                        00:51:59   Log-Likelihood:                 4.6375\n",
       "No. Observations:                 717   AIC:                            -3.275\n",
       "Df Residuals:                     714   BIC:                             10.45\n",
       "Df Model:                           2                                         \n",
       "Covariance Type:            nonrobust                                         \n",
       "==============================================================================\n",
       "                 coef    std err          t      P>|t|      [0.025      0.975]\n",
       "------------------------------------------------------------------------------\n",
       "Intercept     -0.3443      0.017    -19.724      0.000      -0.379      -0.310\n",
       "Volume      2.163e-08   1.68e-09     12.850      0.000    1.83e-08    2.49e-08\n",
       "Velocity     -14.3327      1.488     -9.631      0.000     -17.255     -11.411\n",
       "==============================================================================\n",
       "Omnibus:                      654.761   Durbin-Watson:                   0.682\n",
       "Prob(Omnibus):                  0.000   Jarque-Bera (JB):            49883.128\n",
       "Skew:                           3.724   Prob(JB):                         0.00\n",
       "Kurtosis:                      43.178   Cond. No.                     1.82e+10\n",
       "==============================================================================\n",
       "\n",
       "Notes:\n",
       "[1] Standard Errors assume that the covariance matrix of the errors is correctly specified.\n",
       "[2] The condition number is large, 1.82e+10. This might indicate that there are\n",
       "strong multicollinearity or other numerical problems.\n",
       "\"\"\""
      ]
     },
     "execution_count": 90,
     "metadata": {},
     "output_type": "execute_result"
    }
   ],
   "source": [
    "model2.summary()"
   ]
  },
  {
   "cell_type": "code",
   "execution_count": 91,
   "id": "aa921626-0c6f-4616-934b-3849ee7ec10b",
   "metadata": {},
   "outputs": [
    {
     "data": {
      "text/plain": [
       "(2.5615019671047214, 0.2223849372384946, 11.518324932041882)"
      ]
     },
     "execution_count": 91,
     "metadata": {},
     "output_type": "execute_result"
    }
   ],
   "source": [
    "import numpy as np\n",
    "df['val_pred']=-3.726460e-01 + 2.499669e-08*df['Volume'] + 3.684614e+00*df['Velocity']\n",
    "df['RSE']=(df['Valuation']-df['val_pred'])**2\n",
    "RSEd=df.sum()['RSE']\n",
    "RSE=np.sqrt(RSEd/692)\n",
    "valmean=np.mean(df['Valuation'])\n",
    "error=RSE/valmean\n",
    "RSE,valmean,error"
   ]
  },
  {
   "cell_type": "code",
   "execution_count": 92,
   "id": "701be6b0-975e-42e4-887c-ac9e313b22a9",
   "metadata": {},
   "outputs": [
    {
     "data": {
      "text/plain": [
       "Intercept   -1.030294e+00\n",
       "Volume       1.735093e-08\n",
       "Velocity    -1.028107e+01\n",
       "CirSupply    7.141173e-10\n",
       "dtype: float64"
      ]
     },
     "execution_count": 92,
     "metadata": {},
     "output_type": "execute_result"
    }
   ],
   "source": [
    "import statsmodels.formula.api as smf\n",
    "model3=smf.ols(formula='Valuation~Volume+Velocity+CirSupply',data=df).fit()\n",
    "model3.params"
   ]
  },
  {
   "cell_type": "code",
   "execution_count": 93,
   "id": "2851f958-43ee-42ab-9e81-6f396fbebefb",
   "metadata": {},
   "outputs": [
    {
     "data": {
      "text/html": [
       "<table class=\"simpletable\">\n",
       "<caption>OLS Regression Results</caption>\n",
       "<tr>\n",
       "  <th>Dep. Variable:</th>        <td>Valuation</td>    <th>  R-squared:         </th> <td>   0.689</td> \n",
       "</tr>\n",
       "<tr>\n",
       "  <th>Model:</th>                   <td>OLS</td>       <th>  Adj. R-squared:    </th> <td>   0.688</td> \n",
       "</tr>\n",
       "<tr>\n",
       "  <th>Method:</th>             <td>Least Squares</td>  <th>  F-statistic:       </th> <td>   526.3</td> \n",
       "</tr>\n",
       "<tr>\n",
       "  <th>Date:</th>             <td>Sat, 03 Sep 2022</td> <th>  Prob (F-statistic):</th> <td>2.92e-180</td>\n",
       "</tr>\n",
       "<tr>\n",
       "  <th>Time:</th>                 <td>00:52:06</td>     <th>  Log-Likelihood:    </th> <td>  7.7395</td> \n",
       "</tr>\n",
       "<tr>\n",
       "  <th>No. Observations:</th>      <td>   717</td>      <th>  AIC:               </th> <td>  -7.479</td> \n",
       "</tr>\n",
       "<tr>\n",
       "  <th>Df Residuals:</th>          <td>   713</td>      <th>  BIC:               </th> <td>   10.82</td> \n",
       "</tr>\n",
       "<tr>\n",
       "  <th>Df Model:</th>              <td>     3</td>      <th>                     </th>     <td> </td>    \n",
       "</tr>\n",
       "<tr>\n",
       "  <th>Covariance Type:</th>      <td>nonrobust</td>    <th>                     </th>     <td> </td>    \n",
       "</tr>\n",
       "</table>\n",
       "<table class=\"simpletable\">\n",
       "<tr>\n",
       "      <td></td>         <th>coef</th>     <th>std err</th>      <th>t</th>      <th>P>|t|</th>  <th>[0.025</th>    <th>0.975]</th>  \n",
       "</tr>\n",
       "<tr>\n",
       "  <th>Intercept</th> <td>   -1.0303</td> <td>    0.276</td> <td>   -3.731</td> <td> 0.000</td> <td>   -1.572</td> <td>   -0.488</td>\n",
       "</tr>\n",
       "<tr>\n",
       "  <th>Volume</th>    <td> 1.735e-08</td> <td>  2.4e-09</td> <td>    7.223</td> <td> 0.000</td> <td> 1.26e-08</td> <td> 2.21e-08</td>\n",
       "</tr>\n",
       "<tr>\n",
       "  <th>Velocity</th>  <td>  -10.2811</td> <td>    2.202</td> <td>   -4.669</td> <td> 0.000</td> <td>  -14.604</td> <td>   -5.958</td>\n",
       "</tr>\n",
       "<tr>\n",
       "  <th>CirSupply</th> <td> 7.141e-10</td> <td> 2.87e-10</td> <td>    2.489</td> <td> 0.013</td> <td> 1.51e-10</td> <td> 1.28e-09</td>\n",
       "</tr>\n",
       "</table>\n",
       "<table class=\"simpletable\">\n",
       "<tr>\n",
       "  <th>Omnibus:</th>       <td>644.632</td> <th>  Durbin-Watson:     </th> <td>   0.659</td> \n",
       "</tr>\n",
       "<tr>\n",
       "  <th>Prob(Omnibus):</th> <td> 0.000</td>  <th>  Jarque-Bera (JB):  </th> <td>47909.983</td>\n",
       "</tr>\n",
       "<tr>\n",
       "  <th>Skew:</th>          <td> 3.636</td>  <th>  Prob(JB):          </th> <td>    0.00</td> \n",
       "</tr>\n",
       "<tr>\n",
       "  <th>Kurtosis:</th>      <td>42.380</td>  <th>  Cond. No.          </th> <td>2.37e+11</td> \n",
       "</tr>\n",
       "</table><br/><br/>Notes:<br/>[1] Standard Errors assume that the covariance matrix of the errors is correctly specified.<br/>[2] The condition number is large, 2.37e+11. This might indicate that there are<br/>strong multicollinearity or other numerical problems."
      ],
      "text/plain": [
       "<class 'statsmodels.iolib.summary.Summary'>\n",
       "\"\"\"\n",
       "                            OLS Regression Results                            \n",
       "==============================================================================\n",
       "Dep. Variable:              Valuation   R-squared:                       0.689\n",
       "Model:                            OLS   Adj. R-squared:                  0.688\n",
       "Method:                 Least Squares   F-statistic:                     526.3\n",
       "Date:                Sat, 03 Sep 2022   Prob (F-statistic):          2.92e-180\n",
       "Time:                        00:52:06   Log-Likelihood:                 7.7395\n",
       "No. Observations:                 717   AIC:                            -7.479\n",
       "Df Residuals:                     713   BIC:                             10.82\n",
       "Df Model:                           3                                         \n",
       "Covariance Type:            nonrobust                                         \n",
       "==============================================================================\n",
       "                 coef    std err          t      P>|t|      [0.025      0.975]\n",
       "------------------------------------------------------------------------------\n",
       "Intercept     -1.0303      0.276     -3.731      0.000      -1.572      -0.488\n",
       "Volume      1.735e-08    2.4e-09      7.223      0.000    1.26e-08    2.21e-08\n",
       "Velocity     -10.2811      2.202     -4.669      0.000     -14.604      -5.958\n",
       "CirSupply   7.141e-10   2.87e-10      2.489      0.013    1.51e-10    1.28e-09\n",
       "==============================================================================\n",
       "Omnibus:                      644.632   Durbin-Watson:                   0.659\n",
       "Prob(Omnibus):                  0.000   Jarque-Bera (JB):            47909.983\n",
       "Skew:                           3.636   Prob(JB):                         0.00\n",
       "Kurtosis:                      42.380   Cond. No.                     2.37e+11\n",
       "==============================================================================\n",
       "\n",
       "Notes:\n",
       "[1] Standard Errors assume that the covariance matrix of the errors is correctly specified.\n",
       "[2] The condition number is large, 2.37e+11. This might indicate that there are\n",
       "strong multicollinearity or other numerical problems.\n",
       "\"\"\""
      ]
     },
     "execution_count": 93,
     "metadata": {},
     "output_type": "execute_result"
    }
   ],
   "source": [
    "model3.summary()"
   ]
  },
  {
   "cell_type": "code",
   "execution_count": 94,
   "id": "764a3f12-269d-437e-a271-f64dfd1ed80c",
   "metadata": {},
   "outputs": [
    {
     "data": {
      "text/plain": [
       "Date\n",
       "2020-09-02    0.098380\n",
       "2020-09-03    0.237795\n",
       "2020-09-04    0.474279\n",
       "2020-09-05    0.607833\n",
       "2020-09-06    0.554518\n",
       "                ...   \n",
       "2022-08-15    0.263062\n",
       "2022-08-16    0.108106\n",
       "2022-08-17    0.215526\n",
       "2022-08-18    0.098676\n",
       "2022-08-19    0.402758\n",
       "Length: 717, dtype: float64"
      ]
     },
     "execution_count": 94,
     "metadata": {},
     "output_type": "execute_result"
    }
   ],
   "source": [
    "val_pred=model3.predict(df[['Volume','Velocity','CirSupply']])\n",
    "val_pred"
   ]
  },
  {
   "cell_type": "code",
   "execution_count": 95,
   "id": "0b3ca207-b72b-48aa-a2c5-20f387944417",
   "metadata": {},
   "outputs": [
    {
     "data": {
      "text/plain": [
       "(2.5700150111767206, 0.2223849372384946, 11.556605600587654)"
      ]
     },
     "execution_count": 95,
     "metadata": {},
     "output_type": "execute_result"
    }
   ],
   "source": [
    "import numpy as np\n",
    "df['val_pred']=-0.3919 + 2.436e-08*df['Volume'] + 3.7717*df['Velocity'] + 1.105e-10*df['CirSupply']\n",
    "df['RSE']=(df['Valuation']-df['val_pred'])**2\n",
    "RSEd=df.sum()['RSE']\n",
    "RSE=np.sqrt(RSEd/692)\n",
    "valmean=np.mean(df['Valuation'])\n",
    "error=RSE/valmean\n",
    "RSE,valmean,error"
   ]
  },
  {
   "cell_type": "code",
   "execution_count": 96,
   "id": "a2c8e885-9ec0-4985-a08b-fcb0a930c4f9",
   "metadata": {},
   "outputs": [
    {
     "data": {
      "text/plain": [
       "284.45237002606694"
      ]
     },
     "execution_count": 96,
     "metadata": {},
     "output_type": "execute_result"
    }
   ],
   "source": [
    "model4=smf.ols(formula='Volume~Velocity+CirSupply',data=df).fit()\n",
    "rsquared=model4.rsquared \n",
    "VIF=1/(1-rsquared)\n",
    "VIF"
   ]
  },
  {
   "cell_type": "markdown",
   "id": "1c4fbcd7-5dcc-4739-96db-4464ece7aef6",
   "metadata": {},
   "source": [
    "# Polynomial Regression"
   ]
  },
  {
   "cell_type": "code",
   "execution_count": 97,
   "id": "dbf2208f-0701-4c07-a2ce-23aaedabe01a",
   "metadata": {},
   "outputs": [],
   "source": [
    "from sklearn.preprocessing import PolynomialFeatures\n",
    "from sklearn.pipeline import make_pipeline"
   ]
  },
  {
   "cell_type": "code",
   "execution_count": 98,
   "id": "d6b8dcb3-1fad-4ede-81bf-3b66648d1a8c",
   "metadata": {},
   "outputs": [],
   "source": [
    "x=df.Volume\n",
    "y=df.Valuation"
   ]
  },
  {
   "cell_type": "code",
   "execution_count": 99,
   "id": "216504b0-66d2-43ea-99f8-7859c21b18a7",
   "metadata": {},
   "outputs": [],
   "source": [
    "degree=2\n",
    "model5=make_pipeline (PolynomialFeatures (degree), lr)"
   ]
  },
  {
   "cell_type": "code",
   "execution_count": 100,
   "id": "41a27812-c286-4178-aae3-5fb89b9c784f",
   "metadata": {},
   "outputs": [],
   "source": [
    "x = df.iloc[:, 1].values\n",
    "y = df.iloc[:, 4].values\n",
    "\n",
    "x = x.reshape (-1, 1) #reshape to column"
   ]
  },
  {
   "cell_type": "code",
   "execution_count": 101,
   "id": "4f95b03e-f5c5-4f26-b1b4-378ffb909e1c",
   "metadata": {},
   "outputs": [
    {
     "data": {
      "text/html": [
       "<style>#sk-container-id-2 {color: black;background-color: white;}#sk-container-id-2 pre{padding: 0;}#sk-container-id-2 div.sk-toggleable {background-color: white;}#sk-container-id-2 label.sk-toggleable__label {cursor: pointer;display: block;width: 100%;margin-bottom: 0;padding: 0.3em;box-sizing: border-box;text-align: center;}#sk-container-id-2 label.sk-toggleable__label-arrow:before {content: \"▸\";float: left;margin-right: 0.25em;color: #696969;}#sk-container-id-2 label.sk-toggleable__label-arrow:hover:before {color: black;}#sk-container-id-2 div.sk-estimator:hover label.sk-toggleable__label-arrow:before {color: black;}#sk-container-id-2 div.sk-toggleable__content {max-height: 0;max-width: 0;overflow: hidden;text-align: left;background-color: #f0f8ff;}#sk-container-id-2 div.sk-toggleable__content pre {margin: 0.2em;color: black;border-radius: 0.25em;background-color: #f0f8ff;}#sk-container-id-2 input.sk-toggleable__control:checked~div.sk-toggleable__content {max-height: 200px;max-width: 100%;overflow: auto;}#sk-container-id-2 input.sk-toggleable__control:checked~label.sk-toggleable__label-arrow:before {content: \"▾\";}#sk-container-id-2 div.sk-estimator input.sk-toggleable__control:checked~label.sk-toggleable__label {background-color: #d4ebff;}#sk-container-id-2 div.sk-label input.sk-toggleable__control:checked~label.sk-toggleable__label {background-color: #d4ebff;}#sk-container-id-2 input.sk-hidden--visually {border: 0;clip: rect(1px 1px 1px 1px);clip: rect(1px, 1px, 1px, 1px);height: 1px;margin: -1px;overflow: hidden;padding: 0;position: absolute;width: 1px;}#sk-container-id-2 div.sk-estimator {font-family: monospace;background-color: #f0f8ff;border: 1px dotted black;border-radius: 0.25em;box-sizing: border-box;margin-bottom: 0.5em;}#sk-container-id-2 div.sk-estimator:hover {background-color: #d4ebff;}#sk-container-id-2 div.sk-parallel-item::after {content: \"\";width: 100%;border-bottom: 1px solid gray;flex-grow: 1;}#sk-container-id-2 div.sk-label:hover label.sk-toggleable__label {background-color: #d4ebff;}#sk-container-id-2 div.sk-serial::before {content: \"\";position: absolute;border-left: 1px solid gray;box-sizing: border-box;top: 0;bottom: 0;left: 50%;z-index: 0;}#sk-container-id-2 div.sk-serial {display: flex;flex-direction: column;align-items: center;background-color: white;padding-right: 0.2em;padding-left: 0.2em;position: relative;}#sk-container-id-2 div.sk-item {position: relative;z-index: 1;}#sk-container-id-2 div.sk-parallel {display: flex;align-items: stretch;justify-content: center;background-color: white;position: relative;}#sk-container-id-2 div.sk-item::before, #sk-container-id-2 div.sk-parallel-item::before {content: \"\";position: absolute;border-left: 1px solid gray;box-sizing: border-box;top: 0;bottom: 0;left: 50%;z-index: -1;}#sk-container-id-2 div.sk-parallel-item {display: flex;flex-direction: column;z-index: 1;position: relative;background-color: white;}#sk-container-id-2 div.sk-parallel-item:first-child::after {align-self: flex-end;width: 50%;}#sk-container-id-2 div.sk-parallel-item:last-child::after {align-self: flex-start;width: 50%;}#sk-container-id-2 div.sk-parallel-item:only-child::after {width: 0;}#sk-container-id-2 div.sk-dashed-wrapped {border: 1px dashed gray;margin: 0 0.4em 0.5em 0.4em;box-sizing: border-box;padding-bottom: 0.4em;background-color: white;}#sk-container-id-2 div.sk-label label {font-family: monospace;font-weight: bold;display: inline-block;line-height: 1.2em;}#sk-container-id-2 div.sk-label-container {text-align: center;}#sk-container-id-2 div.sk-container {/* jupyter's `normalize.less` sets `[hidden] { display: none; }` but bootstrap.min.css set `[hidden] { display: none !important; }` so we also need the `!important` here to be able to override the default hidden behavior on the sphinx rendered scikit-learn.org. See: https://github.com/scikit-learn/scikit-learn/issues/21755 */display: inline-block !important;position: relative;}#sk-container-id-2 div.sk-text-repr-fallback {display: none;}</style><div id=\"sk-container-id-2\" class=\"sk-top-container\"><div class=\"sk-text-repr-fallback\"><pre>Pipeline(steps=[(&#x27;polynomialfeatures&#x27;, PolynomialFeatures()),\n",
       "                (&#x27;linearregression&#x27;, LinearRegression())])</pre><b>In a Jupyter environment, please rerun this cell to show the HTML representation or trust the notebook. <br />On GitHub, the HTML representation is unable to render, please try loading this page with nbviewer.org.</b></div><div class=\"sk-container\" hidden><div class=\"sk-item sk-dashed-wrapped\"><div class=\"sk-label-container\"><div class=\"sk-label sk-toggleable\"><input class=\"sk-toggleable__control sk-hidden--visually\" id=\"sk-estimator-id-2\" type=\"checkbox\" ><label for=\"sk-estimator-id-2\" class=\"sk-toggleable__label sk-toggleable__label-arrow\">Pipeline</label><div class=\"sk-toggleable__content\"><pre>Pipeline(steps=[(&#x27;polynomialfeatures&#x27;, PolynomialFeatures()),\n",
       "                (&#x27;linearregression&#x27;, LinearRegression())])</pre></div></div></div><div class=\"sk-serial\"><div class=\"sk-item\"><div class=\"sk-estimator sk-toggleable\"><input class=\"sk-toggleable__control sk-hidden--visually\" id=\"sk-estimator-id-3\" type=\"checkbox\" ><label for=\"sk-estimator-id-3\" class=\"sk-toggleable__label sk-toggleable__label-arrow\">PolynomialFeatures</label><div class=\"sk-toggleable__content\"><pre>PolynomialFeatures()</pre></div></div></div><div class=\"sk-item\"><div class=\"sk-estimator sk-toggleable\"><input class=\"sk-toggleable__control sk-hidden--visually\" id=\"sk-estimator-id-4\" type=\"checkbox\" ><label for=\"sk-estimator-id-4\" class=\"sk-toggleable__label sk-toggleable__label-arrow\">LinearRegression</label><div class=\"sk-toggleable__content\"><pre>LinearRegression()</pre></div></div></div></div></div></div></div>"
      ],
      "text/plain": [
       "Pipeline(steps=[('polynomialfeatures', PolynomialFeatures()),\n",
       "                ('linearregression', LinearRegression())])"
      ]
     },
     "execution_count": 101,
     "metadata": {},
     "output_type": "execute_result"
    }
   ],
   "source": [
    "model5.fit (x,y)"
   ]
  },
  {
   "cell_type": "code",
   "execution_count": 103,
   "id": "583dfe37-5611-4e84-a05b-24482bfcf662",
   "metadata": {},
   "outputs": [
    {
     "data": {
      "text/plain": [
       "Text(0.5, 8.959999999999994, 'Volume')"
      ]
     },
     "execution_count": 103,
     "metadata": {},
     "output_type": "execute_result"
    },
    {
     "data": {
      "image/png": "[encoded data removed]",
      "text/plain": [
       "<Figure size 288x288 with 1 Axes>"
      ]
     },
     "metadata": {},
     "output_type": "display_data"
    }
   ],
   "source": [
    "import seaborn as sns\n",
    "sns.set_theme(style=\"ticks\")\n",
    "sns.relplot(x=\"Volume\", y=\"Valuation\", alpha=.7, palette=\"muted\",\n",
    "            height=4, data=df)\n",
    "plt.plot (x, model5.predict (x), color='black', linewidth=.5)\n",
    "plt.title ('DOT')\n",
    "plt.ylabel ('Valuation')\n",
    "plt.xlabel ('Volume')"
   ]
  },
  {
   "cell_type": "code",
   "execution_count": 104,
   "id": "e62c3a69-273d-4082-ac09-398e912141fd",
   "metadata": {},
   "outputs": [
    {
     "data": {
      "text/plain": [
       "Text(0.5, 8.959999999999994, 'Circulation Supply')"
      ]
     },
     "execution_count": 104,
     "metadata": {},
     "output_type": "execute_result"
    },
    {
     "data": {
      "image/png": "[encoded data removed]",
      "text/plain": [
       "<Figure size 288x288 with 1 Axes>"
      ]
     },
     "metadata": {},
     "output_type": "display_data"
    }
   ],
   "source": [
    "import seaborn as sns\n",
    "sns.set_theme(style=\"ticks\")\n",
    "sns.relplot(x=\"CirSupply\", y=\"Valuation\", alpha=.7, palette=\"muted\",\n",
    "            height=4, data=df)\n",
    "plt.title ('DOT')\n",
    "plt.ylabel ('Valuation')\n",
    "plt.xlabel ('Circulation Supply')"
   ]
  },
  {
   "cell_type": "code",
   "execution_count": null,
   "id": "f6904d23-43c7-42d8-b1ee-93d5ab8c9183",
   "metadata": {},
   "outputs": [],
   "source": []
  }
 ],
 "metadata": {
  "kernelspec": {
   "display_name": "Python 3 (ipykernel)",
   "language": "python",
   "name": "python3"
  },
  "language_info": {
   "codemirror_mode": {
    "name": "ipython",
    "version": 3
   },
   "file_extension": ".py",
   "mimetype": "text/x-python",
   "name": "python",
   "nbconvert_exporter": "python",
   "pygments_lexer": "ipython3",
   "version": "3.9.7"
  }
 },
 "nbformat": 4,
 "nbformat_minor": 5
}
