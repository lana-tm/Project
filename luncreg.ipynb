{
 "cells": [
  {
   "cell_type": "markdown",
   "id": "43ead17a-6203-4f92-902f-8a0da96ec364",
   "metadata": {},
   "source": [
    "# LUNC Model"
   ]
  },
  {
   "cell_type": "code",
   "execution_count": 1,
   "id": "b97abfa6-2565-4de7-bd47-ac5ee9057ef7",
   "metadata": {},
   "outputs": [],
   "source": [
    "# Importing Python Packages"
   ]
  },
  {
   "cell_type": "code",
   "execution_count": 2,
   "id": "0af2cbc9-0ff6-4805-996e-a55fce82bc32",
   "metadata": {},
   "outputs": [],
   "source": [
    "import numpy as np\n",
    "import pandas as pd\n",
    "from pandas_datareader import data \n",
    "import matplotlib.pyplot as plt\n",
    "%matplotlib inline"
   ]
  },
  {
   "cell_type": "code",
   "execution_count": 3,
   "id": "5466dcf1-32a3-4f32-9a65-2956a2c002d3",
   "metadata": {},
   "outputs": [
    {
     "data": {
      "text/plain": [
       "Index(['Price', 'Volume', 'CirSupply', 'Velocity', 'Valuation'], dtype='object')"
      ]
     },
     "execution_count": 3,
     "metadata": {},
     "output_type": "execute_result"
    }
   ],
   "source": [
    "# Downloading data\n",
    "\n",
    "df = pd.read_csv('lunc.csv', index_col = 'Date')\n",
    "df.index = pd.to_datetime (df.index)\n",
    "df.columns"
   ]
  },
  {
   "cell_type": "markdown",
   "id": "9258bdc7-0c5f-4f86-9d19-d716f648815e",
   "metadata": {},
   "source": [
    "# Correlation Matrix"
   ]
  },
  {
   "cell_type": "code",
   "execution_count": 4,
   "id": "265ac423-bf64-4a4e-9ccb-5385f637faee",
   "metadata": {},
   "outputs": [
    {
     "data": {
      "text/html": [
       "<div>\n",
       "<style scoped>\n",
       "    .dataframe tbody tr th:only-of-type {\n",
       "        vertical-align: middle;\n",
       "    }\n",
       "\n",
       "    .dataframe tbody tr th {\n",
       "        vertical-align: top;\n",
       "    }\n",
       "\n",
       "    .dataframe thead th {\n",
       "        text-align: right;\n",
       "    }\n",
       "</style>\n",
       "<table border=\"1\" class=\"dataframe\">\n",
       "  <thead>\n",
       "    <tr style=\"text-align: right;\">\n",
       "      <th></th>\n",
       "      <th>Price</th>\n",
       "      <th>Volume</th>\n",
       "      <th>CirSupply</th>\n",
       "      <th>Velocity</th>\n",
       "      <th>Valuation</th>\n",
       "    </tr>\n",
       "  </thead>\n",
       "  <tbody>\n",
       "    <tr>\n",
       "      <th>Price</th>\n",
       "      <td>0.061195</td>\n",
       "      <td>-0.039987</td>\n",
       "      <td>-0.041588</td>\n",
       "      <td>0.001601</td>\n",
       "      <td>0.064397</td>\n",
       "    </tr>\n",
       "    <tr>\n",
       "      <th>Volume</th>\n",
       "      <td>-0.039987</td>\n",
       "      <td>0.290274</td>\n",
       "      <td>0.035410</td>\n",
       "      <td>0.254864</td>\n",
       "      <td>0.469741</td>\n",
       "    </tr>\n",
       "    <tr>\n",
       "      <th>CirSupply</th>\n",
       "      <td>-0.041588</td>\n",
       "      <td>0.035410</td>\n",
       "      <td>0.036041</td>\n",
       "      <td>-0.000631</td>\n",
       "      <td>-0.042850</td>\n",
       "    </tr>\n",
       "    <tr>\n",
       "      <th>Velocity</th>\n",
       "      <td>0.001601</td>\n",
       "      <td>0.254864</td>\n",
       "      <td>-0.000631</td>\n",
       "      <td>0.255495</td>\n",
       "      <td>0.512591</td>\n",
       "    </tr>\n",
       "    <tr>\n",
       "      <th>Valuation</th>\n",
       "      <td>0.064397</td>\n",
       "      <td>0.469741</td>\n",
       "      <td>-0.042850</td>\n",
       "      <td>0.512591</td>\n",
       "      <td>1.089579</td>\n",
       "    </tr>\n",
       "  </tbody>\n",
       "</table>\n",
       "</div>"
      ],
      "text/plain": [
       "              Price    Volume  CirSupply  Velocity  Valuation\n",
       "Price      0.061195 -0.039987  -0.041588  0.001601   0.064397\n",
       "Volume    -0.039987  0.290274   0.035410  0.254864   0.469741\n",
       "CirSupply -0.041588  0.035410   0.036041 -0.000631  -0.042850\n",
       "Velocity   0.001601  0.254864  -0.000631  0.255495   0.512591\n",
       "Valuation  0.064397  0.469741  -0.042850  0.512591   1.089579"
      ]
     },
     "execution_count": 4,
     "metadata": {},
     "output_type": "execute_result"
    }
   ],
   "source": [
    "cov_matrix = df.pct_change().apply(lambda x: np.log(1+x)).cov() \n",
    "cov_matrix"
   ]
  },
  {
   "cell_type": "code",
   "execution_count": 5,
   "id": "8c17136a-4e93-4991-b7a0-9641515fde1c",
   "metadata": {},
   "outputs": [
    {
     "data": {
      "text/html": [
       "<div>\n",
       "<style scoped>\n",
       "    .dataframe tbody tr th:only-of-type {\n",
       "        vertical-align: middle;\n",
       "    }\n",
       "\n",
       "    .dataframe tbody tr th {\n",
       "        vertical-align: top;\n",
       "    }\n",
       "\n",
       "    .dataframe thead th {\n",
       "        text-align: right;\n",
       "    }\n",
       "</style>\n",
       "<table border=\"1\" class=\"dataframe\">\n",
       "  <thead>\n",
       "    <tr style=\"text-align: right;\">\n",
       "      <th></th>\n",
       "      <th>Price</th>\n",
       "      <th>Volume</th>\n",
       "      <th>CirSupply</th>\n",
       "      <th>Velocity</th>\n",
       "      <th>Valuation</th>\n",
       "    </tr>\n",
       "  </thead>\n",
       "  <tbody>\n",
       "    <tr>\n",
       "      <th>Price</th>\n",
       "      <td>1.000000</td>\n",
       "      <td>-0.300025</td>\n",
       "      <td>-0.885548</td>\n",
       "      <td>0.012803</td>\n",
       "      <td>0.249389</td>\n",
       "    </tr>\n",
       "    <tr>\n",
       "      <th>Volume</th>\n",
       "      <td>-0.300025</td>\n",
       "      <td>1.000000</td>\n",
       "      <td>0.346197</td>\n",
       "      <td>0.935865</td>\n",
       "      <td>0.835267</td>\n",
       "    </tr>\n",
       "    <tr>\n",
       "      <th>CirSupply</th>\n",
       "      <td>-0.885548</td>\n",
       "      <td>0.346197</td>\n",
       "      <td>1.000000</td>\n",
       "      <td>-0.006575</td>\n",
       "      <td>-0.216233</td>\n",
       "    </tr>\n",
       "    <tr>\n",
       "      <th>Velocity</th>\n",
       "      <td>0.012803</td>\n",
       "      <td>0.935865</td>\n",
       "      <td>-0.006575</td>\n",
       "      <td>1.000000</td>\n",
       "      <td>0.971517</td>\n",
       "    </tr>\n",
       "    <tr>\n",
       "      <th>Valuation</th>\n",
       "      <td>0.249389</td>\n",
       "      <td>0.835267</td>\n",
       "      <td>-0.216233</td>\n",
       "      <td>0.971517</td>\n",
       "      <td>1.000000</td>\n",
       "    </tr>\n",
       "  </tbody>\n",
       "</table>\n",
       "</div>"
      ],
      "text/plain": [
       "              Price    Volume  CirSupply  Velocity  Valuation\n",
       "Price      1.000000 -0.300025  -0.885548  0.012803   0.249389\n",
       "Volume    -0.300025  1.000000   0.346197  0.935865   0.835267\n",
       "CirSupply -0.885548  0.346197   1.000000 -0.006575  -0.216233\n",
       "Velocity   0.012803  0.935865  -0.006575  1.000000   0.971517\n",
       "Valuation  0.249389  0.835267  -0.216233  0.971517   1.000000"
      ]
     },
     "execution_count": 5,
     "metadata": {},
     "output_type": "execute_result"
    }
   ],
   "source": [
    "corr_matrix = df.pct_change().apply(lambda x: np.log(1+x)).corr() \n",
    "corr_matrix"
   ]
  },
  {
   "cell_type": "code",
   "execution_count": 6,
   "id": "56df00f1-4136-4711-adee-d372ca5c570e",
   "metadata": {},
   "outputs": [],
   "source": [
    "import statsmodels.api as sm"
   ]
  },
  {
   "cell_type": "code",
   "execution_count": 7,
   "id": "66151c72-cec6-4900-82d5-2ea2b7140277",
   "metadata": {},
   "outputs": [
    {
     "data": {
      "image/png": "[encoded data removed]",
      "text/plain": [
       "<Figure size 432x288 with 2 Axes>"
      ]
     },
     "metadata": {
      "needs_background": "light"
     },
     "output_type": "display_data"
    }
   ],
   "source": [
    "sm.graphics.plot_corr(corr_matrix, xnames=list(corr_matrix.columns))\n",
    "plt.show()"
   ]
  },
  {
   "cell_type": "code",
   "execution_count": 8,
   "id": "0dbd1725-6fe1-45e4-b244-13156214a45f",
   "metadata": {},
   "outputs": [],
   "source": [
    "val = df ['Valuation']"
   ]
  },
  {
   "cell_type": "code",
   "execution_count": 9,
   "id": "7ce7a401-3e1f-4b20-832e-b6308bb312d6",
   "metadata": {},
   "outputs": [
    {
     "data": {
      "text/plain": [
       "count    1.040000e+03\n",
       "mean     2.740647e-01\n",
       "std      2.298406e+00\n",
       "min      2.690000e-07\n",
       "25%      3.790045e-04\n",
       "50%      4.632678e-03\n",
       "75%      1.596989e-01\n",
       "max      5.794030e+01\n",
       "Name: Valuation, dtype: float64"
      ]
     },
     "execution_count": 9,
     "metadata": {},
     "output_type": "execute_result"
    }
   ],
   "source": [
    "val.describe()"
   ]
  },
  {
   "cell_type": "markdown",
   "id": "0feb121d-8d2e-46d6-a1b5-b6142988bb4d",
   "metadata": {},
   "source": [
    "# Chart Visualisation"
   ]
  },
  {
   "cell_type": "code",
   "execution_count": 10,
   "id": "f9f90bd1-7049-4ed7-ae05-243546421ebb",
   "metadata": {},
   "outputs": [],
   "source": [
    "import numpy as np\n",
    "import pandas as pd\n",
    "from pandas_datareader import data \n",
    "import matplotlib.pyplot as plt\n",
    "%matplotlib inline"
   ]
  },
  {
   "cell_type": "code",
   "execution_count": 11,
   "id": "2e4a37db-bcdf-40d4-b0be-142e8e208b10",
   "metadata": {},
   "outputs": [
    {
     "data": {
      "text/html": [
       "<div>\n",
       "<style scoped>\n",
       "    .dataframe tbody tr th:only-of-type {\n",
       "        vertical-align: middle;\n",
       "    }\n",
       "\n",
       "    .dataframe tbody tr th {\n",
       "        vertical-align: top;\n",
       "    }\n",
       "\n",
       "    .dataframe thead th {\n",
       "        text-align: right;\n",
       "    }\n",
       "</style>\n",
       "<table border=\"1\" class=\"dataframe\">\n",
       "  <thead>\n",
       "    <tr style=\"text-align: right;\">\n",
       "      <th></th>\n",
       "      <th>Price</th>\n",
       "      <th>Volume</th>\n",
       "      <th>CirSupply</th>\n",
       "      <th>Velocity</th>\n",
       "      <th>Valuation</th>\n",
       "    </tr>\n",
       "    <tr>\n",
       "      <th>Date</th>\n",
       "      <th></th>\n",
       "      <th></th>\n",
       "      <th></th>\n",
       "      <th></th>\n",
       "      <th></th>\n",
       "    </tr>\n",
       "  </thead>\n",
       "  <tbody>\n",
       "    <tr>\n",
       "      <th>2019-10-15</th>\n",
       "      <td>0.5966</td>\n",
       "      <td>2180551</td>\n",
       "      <td>285472558</td>\n",
       "      <td>0.007638</td>\n",
       "      <td>0.000035</td>\n",
       "    </tr>\n",
       "    <tr>\n",
       "      <th>2019-10-16</th>\n",
       "      <td>0.5523</td>\n",
       "      <td>1752937</td>\n",
       "      <td>285463190</td>\n",
       "      <td>0.006141</td>\n",
       "      <td>0.000021</td>\n",
       "    </tr>\n",
       "    <tr>\n",
       "      <th>2019-10-17</th>\n",
       "      <td>0.5610</td>\n",
       "      <td>1933936</td>\n",
       "      <td>285475330</td>\n",
       "      <td>0.006774</td>\n",
       "      <td>0.000026</td>\n",
       "    </tr>\n",
       "    <tr>\n",
       "      <th>2019-10-18</th>\n",
       "      <td>0.5340</td>\n",
       "      <td>1735998</td>\n",
       "      <td>285432882</td>\n",
       "      <td>0.006082</td>\n",
       "      <td>0.000020</td>\n",
       "    </tr>\n",
       "    <tr>\n",
       "      <th>2019-10-19</th>\n",
       "      <td>0.5316</td>\n",
       "      <td>1156206</td>\n",
       "      <td>285457265</td>\n",
       "      <td>0.004050</td>\n",
       "      <td>0.000009</td>\n",
       "    </tr>\n",
       "  </tbody>\n",
       "</table>\n",
       "</div>"
      ],
      "text/plain": [
       "             Price   Volume  CirSupply  Velocity  Valuation\n",
       "Date                                                       \n",
       "2019-10-15  0.5966  2180551  285472558  0.007638   0.000035\n",
       "2019-10-16  0.5523  1752937  285463190  0.006141   0.000021\n",
       "2019-10-17  0.5610  1933936  285475330  0.006774   0.000026\n",
       "2019-10-18  0.5340  1735998  285432882  0.006082   0.000020\n",
       "2019-10-19  0.5316  1156206  285457265  0.004050   0.000009"
      ]
     },
     "execution_count": 11,
     "metadata": {},
     "output_type": "execute_result"
    }
   ],
   "source": [
    "# Download the data\n",
    "data = pd.read_csv('lunc.csv',\n",
    "                   parse_dates=['Date'],\n",
    "                   index_col=['Date'])\n",
    "data.head()"
   ]
  },
  {
   "cell_type": "code",
   "execution_count": 12,
   "id": "a64f0aa1-e23e-4936-90db-e00d521aad30",
   "metadata": {},
   "outputs": [],
   "source": [
    "price = df ['Price']"
   ]
  },
  {
   "cell_type": "code",
   "execution_count": 13,
   "id": "65e0f878-f460-44ee-9964-148b466dc88e",
   "metadata": {},
   "outputs": [
    {
     "data": {
      "text/plain": [
       "count    1040.000000\n",
       "mean       18.241185\n",
       "std        29.011414\n",
       "min         0.000048\n",
       "25%         0.218850\n",
       "50%         0.528500\n",
       "75%        27.850000\n",
       "max       116.410000\n",
       "Name: Price, dtype: float64"
      ]
     },
     "execution_count": 13,
     "metadata": {},
     "output_type": "execute_result"
    }
   ],
   "source": [
    "price.describe()"
   ]
  },
  {
   "cell_type": "code",
   "execution_count": 14,
   "id": "cae384be-db9b-4a69-9c4a-92c8deb7e40b",
   "metadata": {},
   "outputs": [],
   "source": [
    "# Import necessary packages\n",
    "import os\n",
    "import matplotlib.pyplot as plt\n",
    "%matplotlib inline\n",
    "import matplotlib.dates as mdates\n",
    "from matplotlib.dates import DateFormatter\n",
    "import seaborn as sns\n",
    "import pandas as pd\n",
    "\n",
    "# Handle date time conversions between pandas and matplotlib\n",
    "from pandas.plotting import register_matplotlib_converters\n",
    "register_matplotlib_converters()\n",
    "\n",
    "# Use white grid plot background from seaborn\n",
    "sns.set(font_scale=1.5, style=\"whitegrid\")"
   ]
  },
  {
   "cell_type": "code",
   "execution_count": 15,
   "id": "daf8be0b-fcb7-4274-8aaf-5d1535db3a97",
   "metadata": {},
   "outputs": [
    {
     "data": {
      "image/png": "[encoded data removed]",
      "text/plain": [
       "<Figure size 432x288 with 2 Axes>"
      ]
     },
     "metadata": {},
     "output_type": "display_data"
    }
   ],
   "source": [
    "# Create figure and plot space\n",
    "plt.rc('font', size=8)\n",
    "fig, ax = plt.subplots(figsize=(6, 4))\n",
    "axb = ax.twinx()\n",
    "\n",
    "# Add x-axis and y-axis\n",
    "ax.plot(data.index.values, price, color='red', label='Price')\n",
    "\n",
    "# Set title and labels for axes\n",
    "ax.set(xlabel=\"\",\n",
    "       ylabel=\"Price\",\n",
    "       title=\"LUNC\")\n",
    "\n",
    "# Plotting on the second y-axis\n",
    "axb.set_ylabel('Valuation')\n",
    "axb.plot(data.index.values, val, color='purple', linestyle='--', label='Valuation')\n",
    "\n",
    "# Handling of getting lines and labels from all axes for a single legend\n",
    "lines, labels = ax.get_legend_handles_labels()\n",
    "lines2, labels2 = axb.get_legend_handles_labels()\n",
    "axb.legend(lines + lines2, labels + labels2, loc='upper left');\n",
    "\n",
    "# Define the date format\n",
    "date_form = DateFormatter(\"%Y\")\n",
    "ax.xaxis.set_major_formatter(date_form)\n",
    "\n",
    "# Ensure a major tick for each week using (interval=1) \n",
    "ax.xaxis.set_major_locator(mdates.WeekdayLocator(interval=47))\n",
    "\n",
    "plt.show()"
   ]
  },
  {
   "cell_type": "markdown",
   "id": "d787386d-b4c0-4416-9824-b92288ac6806",
   "metadata": {},
   "source": [
    "# Linear Regression"
   ]
  },
  {
   "cell_type": "code",
   "execution_count": 16,
   "id": "9b7bee31-2b34-4c2a-9bb8-54fb1d686baa",
   "metadata": {},
   "outputs": [],
   "source": [
    "import numpy as np\n",
    "import pandas as pd\n",
    "import matplotlib.pyplot as plt\n",
    "from sklearn import datasets, linear_model\n",
    "from sklearn.metrics import mean_squared_error, r2_score"
   ]
  },
  {
   "cell_type": "code",
   "execution_count": 17,
   "id": "64342356-56fc-4484-bb5b-f22e495c818b",
   "metadata": {},
   "outputs": [
    {
     "name": "stderr",
     "output_type": "stream",
     "text": [
      "*c* argument looks like a single numeric RGB or RGBA sequence, which should be avoided as value-mapping will have precedence in case its length matches with *x* & *y*.  Please use the *color* keyword-argument or provide a 2D array with a single row if you intend to specify the same RGB or RGBA value for all points.\n"
     ]
    },
    {
     "data": {
      "text/plain": [
       "<AxesSubplot:title={'center':'Velocity vs Valuation'}, xlabel='Velocity', ylabel='Valuation'>"
      ]
     },
     "execution_count": 17,
     "metadata": {},
     "output_type": "execute_result"
    },
    {
     "data": {
      "image/png": "[encoded data removed]",
      "text/plain": [
       "<Figure size 432x288 with 1 Axes>"
      ]
     },
     "metadata": {},
     "output_type": "display_data"
    }
   ],
   "source": [
    "df.plot (kind='scatter', x='Velocity', y='Valuation', title='Velocity vs Valuation')"
   ]
  },
  {
   "cell_type": "code",
   "execution_count": 18,
   "id": "7854f7de-9a6a-4987-a375-60c21c6507e7",
   "metadata": {},
   "outputs": [
    {
     "name": "stderr",
     "output_type": "stream",
     "text": [
      "*c* argument looks like a single numeric RGB or RGBA sequence, which should be avoided as value-mapping will have precedence in case its length matches with *x* & *y*.  Please use the *color* keyword-argument or provide a 2D array with a single row if you intend to specify the same RGB or RGBA value for all points.\n"
     ]
    },
    {
     "data": {
      "text/plain": [
       "<AxesSubplot:title={'center':'Circulation supply vs Valuation'}, xlabel='CirSupply', ylabel='Valuation'>"
      ]
     },
     "execution_count": 18,
     "metadata": {},
     "output_type": "execute_result"
    },
    {
     "data": {
      "image/png": "[encoded data removed]",
      "text/plain": [
       "<Figure size 432x288 with 1 Axes>"
      ]
     },
     "metadata": {},
     "output_type": "display_data"
    }
   ],
   "source": [
    "df.plot (kind='scatter', x='CirSupply', y='Valuation', title='Circulation supply vs Valuation')"
   ]
  },
  {
   "cell_type": "code",
   "execution_count": 19,
   "id": "504e8072-a993-41fe-a5b5-cbe225d0b728",
   "metadata": {},
   "outputs": [
    {
     "name": "stderr",
     "output_type": "stream",
     "text": [
      "*c* argument looks like a single numeric RGB or RGBA sequence, which should be avoided as value-mapping will have precedence in case its length matches with *x* & *y*.  Please use the *color* keyword-argument or provide a 2D array with a single row if you intend to specify the same RGB or RGBA value for all points.\n"
     ]
    },
    {
     "data": {
      "text/plain": [
       "<AxesSubplot:title={'center':'Volume vs Valuation'}, xlabel='Volume', ylabel='Valuation'>"
      ]
     },
     "execution_count": 19,
     "metadata": {},
     "output_type": "execute_result"
    },
    {
     "data": {
      "image/png": "[encoded data removed]",
      "text/plain": [
       "<Figure size 432x288 with 1 Axes>"
      ]
     },
     "metadata": {},
     "output_type": "display_data"
    }
   ],
   "source": [
    "df.plot (kind='scatter', x='Volume', y='Valuation', title='Volume vs Valuation')"
   ]
  },
  {
   "cell_type": "code",
   "execution_count": 20,
   "id": "6fe63330-98be-4d3d-b34b-23ba7fb5e58e",
   "metadata": {},
   "outputs": [],
   "source": [
    "import sklearn.linear_model as lm"
   ]
  },
  {
   "cell_type": "code",
   "execution_count": 21,
   "id": "a9706924-5f98-4742-913d-96ca0ef31ee8",
   "metadata": {},
   "outputs": [],
   "source": [
    "lr =lm.LinearRegression()"
   ]
  },
  {
   "cell_type": "code",
   "execution_count": 22,
   "id": "3840c426-a331-4aeb-8294-3dfd3d5bcddd",
   "metadata": {},
   "outputs": [],
   "source": [
    "df.columns = df.columns.str.strip()"
   ]
  },
  {
   "cell_type": "code",
   "execution_count": 23,
   "id": "a1245882-dcc4-4a57-8797-71ebfe96529e",
   "metadata": {},
   "outputs": [],
   "source": [
    "x = df.Volume       #Independent variable\n",
    "y = df.Valuation        #Dependent variable"
   ]
  },
  {
   "cell_type": "code",
   "execution_count": 24,
   "id": "b6462eb8-f317-4a81-9516-e595141e76e9",
   "metadata": {},
   "outputs": [],
   "source": [
    "x = df.iloc[:, 1].values\n",
    "y = df.iloc[:, 4].values\n",
    "\n",
    "x = x.reshape (-1,1) #reshape to column"
   ]
  },
  {
   "cell_type": "code",
   "execution_count": 25,
   "id": "45c0620b-9a4a-4dc0-a3b3-b71ee1891f31",
   "metadata": {},
   "outputs": [
    {
     "data": {
      "text/html": [
       "<style>#sk-container-id-1 {color: black;background-color: white;}#sk-container-id-1 pre{padding: 0;}#sk-container-id-1 div.sk-toggleable {background-color: white;}#sk-container-id-1 label.sk-toggleable__label {cursor: pointer;display: block;width: 100%;margin-bottom: 0;padding: 0.3em;box-sizing: border-box;text-align: center;}#sk-container-id-1 label.sk-toggleable__label-arrow:before {content: \"▸\";float: left;margin-right: 0.25em;color: #696969;}#sk-container-id-1 label.sk-toggleable__label-arrow:hover:before {color: black;}#sk-container-id-1 div.sk-estimator:hover label.sk-toggleable__label-arrow:before {color: black;}#sk-container-id-1 div.sk-toggleable__content {max-height: 0;max-width: 0;overflow: hidden;text-align: left;background-color: #f0f8ff;}#sk-container-id-1 div.sk-toggleable__content pre {margin: 0.2em;color: black;border-radius: 0.25em;background-color: #f0f8ff;}#sk-container-id-1 input.sk-toggleable__control:checked~div.sk-toggleable__content {max-height: 200px;max-width: 100%;overflow: auto;}#sk-container-id-1 input.sk-toggleable__control:checked~label.sk-toggleable__label-arrow:before {content: \"▾\";}#sk-container-id-1 div.sk-estimator input.sk-toggleable__control:checked~label.sk-toggleable__label {background-color: #d4ebff;}#sk-container-id-1 div.sk-label input.sk-toggleable__control:checked~label.sk-toggleable__label {background-color: #d4ebff;}#sk-container-id-1 input.sk-hidden--visually {border: 0;clip: rect(1px 1px 1px 1px);clip: rect(1px, 1px, 1px, 1px);height: 1px;margin: -1px;overflow: hidden;padding: 0;position: absolute;width: 1px;}#sk-container-id-1 div.sk-estimator {font-family: monospace;background-color: #f0f8ff;border: 1px dotted black;border-radius: 0.25em;box-sizing: border-box;margin-bottom: 0.5em;}#sk-container-id-1 div.sk-estimator:hover {background-color: #d4ebff;}#sk-container-id-1 div.sk-parallel-item::after {content: \"\";width: 100%;border-bottom: 1px solid gray;flex-grow: 1;}#sk-container-id-1 div.sk-label:hover label.sk-toggleable__label {background-color: #d4ebff;}#sk-container-id-1 div.sk-serial::before {content: \"\";position: absolute;border-left: 1px solid gray;box-sizing: border-box;top: 0;bottom: 0;left: 50%;z-index: 0;}#sk-container-id-1 div.sk-serial {display: flex;flex-direction: column;align-items: center;background-color: white;padding-right: 0.2em;padding-left: 0.2em;position: relative;}#sk-container-id-1 div.sk-item {position: relative;z-index: 1;}#sk-container-id-1 div.sk-parallel {display: flex;align-items: stretch;justify-content: center;background-color: white;position: relative;}#sk-container-id-1 div.sk-item::before, #sk-container-id-1 div.sk-parallel-item::before {content: \"\";position: absolute;border-left: 1px solid gray;box-sizing: border-box;top: 0;bottom: 0;left: 50%;z-index: -1;}#sk-container-id-1 div.sk-parallel-item {display: flex;flex-direction: column;z-index: 1;position: relative;background-color: white;}#sk-container-id-1 div.sk-parallel-item:first-child::after {align-self: flex-end;width: 50%;}#sk-container-id-1 div.sk-parallel-item:last-child::after {align-self: flex-start;width: 50%;}#sk-container-id-1 div.sk-parallel-item:only-child::after {width: 0;}#sk-container-id-1 div.sk-dashed-wrapped {border: 1px dashed gray;margin: 0 0.4em 0.5em 0.4em;box-sizing: border-box;padding-bottom: 0.4em;background-color: white;}#sk-container-id-1 div.sk-label label {font-family: monospace;font-weight: bold;display: inline-block;line-height: 1.2em;}#sk-container-id-1 div.sk-label-container {text-align: center;}#sk-container-id-1 div.sk-container {/* jupyter's `normalize.less` sets `[hidden] { display: none; }` but bootstrap.min.css set `[hidden] { display: none !important; }` so we also need the `!important` here to be able to override the default hidden behavior on the sphinx rendered scikit-learn.org. See: https://github.com/scikit-learn/scikit-learn/issues/21755 */display: inline-block !important;position: relative;}#sk-container-id-1 div.sk-text-repr-fallback {display: none;}</style><div id=\"sk-container-id-1\" class=\"sk-top-container\"><div class=\"sk-text-repr-fallback\"><pre>LinearRegression()</pre><b>In a Jupyter environment, please rerun this cell to show the HTML representation or trust the notebook. <br />On GitHub, the HTML representation is unable to render, please try loading this page with nbviewer.org.</b></div><div class=\"sk-container\" hidden><div class=\"sk-item\"><div class=\"sk-estimator sk-toggleable\"><input class=\"sk-toggleable__control sk-hidden--visually\" id=\"sk-estimator-id-1\" type=\"checkbox\" checked><label for=\"sk-estimator-id-1\" class=\"sk-toggleable__label sk-toggleable__label-arrow\">LinearRegression</label><div class=\"sk-toggleable__content\"><pre>LinearRegression()</pre></div></div></div></div></div>"
      ],
      "text/plain": [
       "LinearRegression()"
      ]
     },
     "execution_count": 25,
     "metadata": {},
     "output_type": "execute_result"
    }
   ],
   "source": [
    "lr.fit (x,y)"
   ]
  },
  {
   "cell_type": "code",
   "execution_count": 26,
   "id": "868554c1-03fa-452b-aadd-281d7d279cae",
   "metadata": {},
   "outputs": [
    {
     "data": {
      "text/plain": [
       "Text(0.5, 0, 'Volume')"
      ]
     },
     "execution_count": 26,
     "metadata": {},
     "output_type": "execute_result"
    },
    {
     "data": {
      "image/png": "[encoded data removed]",
      "text/plain": [
       "<Figure size 432x288 with 1 Axes>"
      ]
     },
     "metadata": {},
     "output_type": "display_data"
    }
   ],
   "source": [
    "plt.scatter (x,y, color ='blue', alpha=0.3)\n",
    "plt.plot (x, lr.predict (x), color = 'red', linewidth=1)\n",
    "plt.title ('Volume vs Valuation')\n",
    "plt.ylabel ('Valuation')\n",
    "plt.xlabel ('Volume')"
   ]
  },
  {
   "cell_type": "code",
   "execution_count": 27,
   "id": "46aad168-0dc6-43e2-9051-319afa4ea3d3",
   "metadata": {},
   "outputs": [
    {
     "data": {
      "text/plain": [
       "array([0.28177579, 0.28177581, 0.2817758 , ..., 0.26775851, 0.26440158,\n",
       "       0.25941574])"
      ]
     },
     "execution_count": 27,
     "metadata": {},
     "output_type": "execute_result"
    }
   ],
   "source": [
    "lr.predict (x)"
   ]
  },
  {
   "cell_type": "code",
   "execution_count": 28,
   "id": "03f237e7-34b4-4d06-969f-44a8e685fcd4",
   "metadata": {},
   "outputs": [
    {
     "data": {
      "text/plain": [
       "0.00032202477623299863"
      ]
     },
     "execution_count": 28,
     "metadata": {},
     "output_type": "execute_result"
    }
   ],
   "source": [
    "R_Sq = r2_score (y, lr.predict (x))\n",
    "R_Sq"
   ]
  },
  {
   "cell_type": "code",
   "execution_count": 29,
   "id": "4b239540-35ac-488d-91f6-2d3da9141e0c",
   "metadata": {},
   "outputs": [],
   "source": [
    "# Model Statistics"
   ]
  },
  {
   "cell_type": "code",
   "execution_count": 30,
   "id": "c3afeb08-e0e1-4af6-9ec9-4370e24214f4",
   "metadata": {},
   "outputs": [
    {
     "data": {
      "text/plain": [
       "Intercept    2.817759e-01\n",
       "Volume      -2.954455e-14\n",
       "dtype: float64"
      ]
     },
     "execution_count": 30,
     "metadata": {},
     "output_type": "execute_result"
    }
   ],
   "source": [
    "import statsmodels.formula.api as smf\n",
    "model1=smf.ols(formula='Valuation~Volume',data=df).fit()\n",
    "model1.params"
   ]
  },
  {
   "cell_type": "code",
   "execution_count": 31,
   "id": "69735573-c37c-4dcb-a341-7ac104234100",
   "metadata": {},
   "outputs": [
    {
     "data": {
      "text/plain": [
       "Intercept    0.000109\n",
       "Volume       0.563223\n",
       "dtype: float64"
      ]
     },
     "execution_count": 31,
     "metadata": {},
     "output_type": "execute_result"
    }
   ],
   "source": [
    "model1.pvalues"
   ]
  },
  {
   "cell_type": "code",
   "execution_count": 32,
   "id": "4abdd1b3-208c-4d9b-a4b0-b6f62a9a1c13",
   "metadata": {},
   "outputs": [
    {
     "data": {
      "text/plain": [
       "0.00032202477623299863"
      ]
     },
     "execution_count": 32,
     "metadata": {},
     "output_type": "execute_result"
    }
   ],
   "source": [
    "model1.rsquared"
   ]
  },
  {
   "cell_type": "code",
   "execution_count": 33,
   "id": "9a3359ee-bf60-4c0a-a593-5ca8e3f5c12f",
   "metadata": {},
   "outputs": [
    {
     "data": {
      "text/html": [
       "<table class=\"simpletable\">\n",
       "<caption>OLS Regression Results</caption>\n",
       "<tr>\n",
       "  <th>Dep. Variable:</th>        <td>Valuation</td>    <th>  R-squared:         </th> <td>   0.000</td>\n",
       "</tr>\n",
       "<tr>\n",
       "  <th>Model:</th>                   <td>OLS</td>       <th>  Adj. R-squared:    </th> <td>  -0.001</td>\n",
       "</tr>\n",
       "<tr>\n",
       "  <th>Method:</th>             <td>Least Squares</td>  <th>  F-statistic:       </th> <td>  0.3344</td>\n",
       "</tr>\n",
       "<tr>\n",
       "  <th>Date:</th>             <td>Sat, 03 Sep 2022</td> <th>  Prob (F-statistic):</th>  <td> 0.563</td> \n",
       "</tr>\n",
       "<tr>\n",
       "  <th>Time:</th>                 <td>00:04:31</td>     <th>  Log-Likelihood:    </th> <td> -2340.5</td>\n",
       "</tr>\n",
       "<tr>\n",
       "  <th>No. Observations:</th>      <td>  1040</td>      <th>  AIC:               </th> <td>   4685.</td>\n",
       "</tr>\n",
       "<tr>\n",
       "  <th>Df Residuals:</th>          <td>  1038</td>      <th>  BIC:               </th> <td>   4695.</td>\n",
       "</tr>\n",
       "<tr>\n",
       "  <th>Df Model:</th>              <td>     1</td>      <th>                     </th>     <td> </td>   \n",
       "</tr>\n",
       "<tr>\n",
       "  <th>Covariance Type:</th>      <td>nonrobust</td>    <th>                     </th>     <td> </td>   \n",
       "</tr>\n",
       "</table>\n",
       "<table class=\"simpletable\">\n",
       "<tr>\n",
       "      <td></td>         <th>coef</th>     <th>std err</th>      <th>t</th>      <th>P>|t|</th>  <th>[0.025</th>    <th>0.975]</th>  \n",
       "</tr>\n",
       "<tr>\n",
       "  <th>Intercept</th> <td>    0.2818</td> <td>    0.073</td> <td>    3.885</td> <td> 0.000</td> <td>    0.139</td> <td>    0.424</td>\n",
       "</tr>\n",
       "<tr>\n",
       "  <th>Volume</th>    <td>-2.954e-14</td> <td> 5.11e-14</td> <td>   -0.578</td> <td> 0.563</td> <td> -1.3e-13</td> <td> 7.07e-14</td>\n",
       "</tr>\n",
       "</table>\n",
       "<table class=\"simpletable\">\n",
       "<tr>\n",
       "  <th>Omnibus:</th>       <td>2439.685</td> <th>  Durbin-Watson:     </th>   <td>   0.801</td>  \n",
       "</tr>\n",
       "<tr>\n",
       "  <th>Prob(Omnibus):</th>  <td> 0.000</td>  <th>  Jarque-Bera (JB):  </th> <td>11020828.055</td>\n",
       "</tr>\n",
       "<tr>\n",
       "  <th>Skew:</th>           <td>21.825</td>  <th>  Prob(JB):          </th>   <td>    0.00</td>  \n",
       "</tr>\n",
       "<tr>\n",
       "  <th>Kurtosis:</th>       <td>505.416</td> <th>  Cond. No.          </th>   <td>1.44e+12</td>  \n",
       "</tr>\n",
       "</table><br/><br/>Notes:<br/>[1] Standard Errors assume that the covariance matrix of the errors is correctly specified.<br/>[2] The condition number is large, 1.44e+12. This might indicate that there are<br/>strong multicollinearity or other numerical problems."
      ],
      "text/plain": [
       "<class 'statsmodels.iolib.summary.Summary'>\n",
       "\"\"\"\n",
       "                            OLS Regression Results                            \n",
       "==============================================================================\n",
       "Dep. Variable:              Valuation   R-squared:                       0.000\n",
       "Model:                            OLS   Adj. R-squared:                 -0.001\n",
       "Method:                 Least Squares   F-statistic:                    0.3344\n",
       "Date:                Sat, 03 Sep 2022   Prob (F-statistic):              0.563\n",
       "Time:                        00:04:31   Log-Likelihood:                -2340.5\n",
       "No. Observations:                1040   AIC:                             4685.\n",
       "Df Residuals:                    1038   BIC:                             4695.\n",
       "Df Model:                           1                                         \n",
       "Covariance Type:            nonrobust                                         \n",
       "==============================================================================\n",
       "                 coef    std err          t      P>|t|      [0.025      0.975]\n",
       "------------------------------------------------------------------------------\n",
       "Intercept      0.2818      0.073      3.885      0.000       0.139       0.424\n",
       "Volume     -2.954e-14   5.11e-14     -0.578      0.563    -1.3e-13    7.07e-14\n",
       "==============================================================================\n",
       "Omnibus:                     2439.685   Durbin-Watson:                   0.801\n",
       "Prob(Omnibus):                  0.000   Jarque-Bera (JB):         11020828.055\n",
       "Skew:                          21.825   Prob(JB):                         0.00\n",
       "Kurtosis:                     505.416   Cond. No.                     1.44e+12\n",
       "==============================================================================\n",
       "\n",
       "Notes:\n",
       "[1] Standard Errors assume that the covariance matrix of the errors is correctly specified.\n",
       "[2] The condition number is large, 1.44e+12. This might indicate that there are\n",
       "strong multicollinearity or other numerical problems.\n",
       "\"\"\""
      ]
     },
     "execution_count": 33,
     "metadata": {},
     "output_type": "execute_result"
    }
   ],
   "source": [
    "model1.summary()"
   ]
  },
  {
   "cell_type": "code",
   "execution_count": 34,
   "id": "06507fc8-fafc-40c1-800a-8f614b584488",
   "metadata": {},
   "outputs": [
    {
     "data": {
      "text/plain": [
       "Date\n",
       "2019-10-15    0.281776\n",
       "2019-10-16    0.281776\n",
       "2019-10-17    0.281776\n",
       "2019-10-18    0.281776\n",
       "2019-10-19    0.281776\n",
       "                ...   \n",
       "2022-08-15    0.255292\n",
       "2022-08-16    0.270483\n",
       "2022-08-17    0.267759\n",
       "2022-08-18    0.264402\n",
       "2022-08-19    0.259416\n",
       "Length: 1040, dtype: float64"
      ]
     },
     "execution_count": 34,
     "metadata": {},
     "output_type": "execute_result"
    }
   ],
   "source": [
    "val_pred=model1.predict(pd.DataFrame(df['Volume']))\n",
    "val_pred"
   ]
  },
  {
   "cell_type": "code",
   "execution_count": 35,
   "id": "fb508a66-9668-4688-af76-f8c6bad4d134",
   "metadata": {},
   "outputs": [
    {
     "data": {
      "text/plain": [
       "(226266289127.83344, 0.2740646703913464, 825594516815.1006)"
      ]
     },
     "execution_count": 35,
     "metadata": {},
     "output_type": "execute_result"
    }
   ],
   "source": [
    "df['val_pred']=-1.301119e-01*df['Volume']+3.395391e-08\n",
    "df['RSE']=(df['Valuation']-df['val_pred'])**2\n",
    "RSEd=df.sum()['RSE']\n",
    "RSE=np.sqrt(RSEd/693)\n",
    "valmean=np.mean(df['Valuation'])\n",
    "error=RSE/valmean\n",
    "RSE,valmean,error"
   ]
  },
  {
   "cell_type": "markdown",
   "id": "937d5dbf-f5f5-40a9-b45a-5a32a2d065c1",
   "metadata": {},
   "source": [
    "# Multiple Linear Regression"
   ]
  },
  {
   "cell_type": "code",
   "execution_count": 36,
   "id": "0b771b2e-f6e5-4c06-890b-10ae9ad22bd2",
   "metadata": {},
   "outputs": [
    {
     "data": {
      "text/plain": [
       "Intercept    2.159616e-01\n",
       "Volume      -1.609616e-13\n",
       "Velocity     6.810238e-01\n",
       "dtype: float64"
      ]
     },
     "execution_count": 36,
     "metadata": {},
     "output_type": "execute_result"
    }
   ],
   "source": [
    "import statsmodels.formula.api as smf\n",
    "model2=smf.ols(formula='Valuation~Volume+Velocity',data=df).fit()\n",
    "model2.params"
   ]
  },
  {
   "cell_type": "code",
   "execution_count": 37,
   "id": "d1dadd98-3f7f-4f27-8533-632d42cc2acc",
   "metadata": {},
   "outputs": [
    {
     "data": {
      "text/plain": [
       "Date\n",
       "2019-10-15    0.221163\n",
       "2019-10-16    0.220143\n",
       "2019-10-17    0.220575\n",
       "2019-10-18    0.220103\n",
       "2019-10-19    0.218720\n",
       "                ...   \n",
       "2022-08-15    0.164482\n",
       "2022-08-16    0.194006\n",
       "2022-08-17    0.188705\n",
       "2022-08-18    0.182176\n",
       "2022-08-19    0.172475\n",
       "Length: 1040, dtype: float64"
      ]
     },
     "execution_count": 37,
     "metadata": {},
     "output_type": "execute_result"
    }
   ],
   "source": [
    "val_pred=model2.predict(df[['Volume','Velocity']])\n",
    "val_pred"
   ]
  },
  {
   "cell_type": "code",
   "execution_count": 38,
   "id": "94ea3f66-b3a0-4f36-961a-23a8f2a3a5a2",
   "metadata": {},
   "outputs": [
    {
     "data": {
      "text/html": [
       "<table class=\"simpletable\">\n",
       "<caption>OLS Regression Results</caption>\n",
       "<tr>\n",
       "  <th>Dep. Variable:</th>        <td>Valuation</td>    <th>  R-squared:         </th> <td>   0.075</td>\n",
       "</tr>\n",
       "<tr>\n",
       "  <th>Model:</th>                   <td>OLS</td>       <th>  Adj. R-squared:    </th> <td>   0.073</td>\n",
       "</tr>\n",
       "<tr>\n",
       "  <th>Method:</th>             <td>Least Squares</td>  <th>  F-statistic:       </th> <td>   41.89</td>\n",
       "</tr>\n",
       "<tr>\n",
       "  <th>Date:</th>             <td>Sat, 03 Sep 2022</td> <th>  Prob (F-statistic):</th> <td>3.21e-18</td>\n",
       "</tr>\n",
       "<tr>\n",
       "  <th>Time:</th>                 <td>00:04:47</td>     <th>  Log-Likelihood:    </th> <td> -2300.3</td>\n",
       "</tr>\n",
       "<tr>\n",
       "  <th>No. Observations:</th>      <td>  1040</td>      <th>  AIC:               </th> <td>   4607.</td>\n",
       "</tr>\n",
       "<tr>\n",
       "  <th>Df Residuals:</th>          <td>  1037</td>      <th>  BIC:               </th> <td>   4621.</td>\n",
       "</tr>\n",
       "<tr>\n",
       "  <th>Df Model:</th>              <td>     2</td>      <th>                     </th>     <td> </td>   \n",
       "</tr>\n",
       "<tr>\n",
       "  <th>Covariance Type:</th>      <td>nonrobust</td>    <th>                     </th>     <td> </td>   \n",
       "</tr>\n",
       "</table>\n",
       "<table class=\"simpletable\">\n",
       "<tr>\n",
       "      <td></td>         <th>coef</th>     <th>std err</th>      <th>t</th>      <th>P>|t|</th>  <th>[0.025</th>    <th>0.975]</th>  \n",
       "</tr>\n",
       "<tr>\n",
       "  <th>Intercept</th> <td>    0.2160</td> <td>    0.070</td> <td>    3.077</td> <td> 0.002</td> <td>    0.078</td> <td>    0.354</td>\n",
       "</tr>\n",
       "<tr>\n",
       "  <th>Volume</th>    <td> -1.61e-13</td> <td> 5.12e-14</td> <td>   -3.141</td> <td> 0.002</td> <td>-2.62e-13</td> <td>-6.04e-14</td>\n",
       "</tr>\n",
       "<tr>\n",
       "  <th>Velocity</th>  <td>    0.6810</td> <td>    0.075</td> <td>    9.133</td> <td> 0.000</td> <td>    0.535</td> <td>    0.827</td>\n",
       "</tr>\n",
       "</table>\n",
       "<table class=\"simpletable\">\n",
       "<tr>\n",
       "  <th>Omnibus:</th>       <td>2331.489</td> <th>  Durbin-Watson:     </th>  <td>   1.240</td>  \n",
       "</tr>\n",
       "<tr>\n",
       "  <th>Prob(Omnibus):</th>  <td> 0.000</td>  <th>  Jarque-Bera (JB):  </th> <td>8546224.847</td>\n",
       "</tr>\n",
       "<tr>\n",
       "  <th>Skew:</th>           <td>19.605</td>  <th>  Prob(JB):          </th>  <td>    0.00</td>  \n",
       "</tr>\n",
       "<tr>\n",
       "  <th>Kurtosis:</th>       <td>445.361</td> <th>  Cond. No.          </th>  <td>1.58e+12</td>  \n",
       "</tr>\n",
       "</table><br/><br/>Notes:<br/>[1] Standard Errors assume that the covariance matrix of the errors is correctly specified.<br/>[2] The condition number is large, 1.58e+12. This might indicate that there are<br/>strong multicollinearity or other numerical problems."
      ],
      "text/plain": [
       "<class 'statsmodels.iolib.summary.Summary'>\n",
       "\"\"\"\n",
       "                            OLS Regression Results                            \n",
       "==============================================================================\n",
       "Dep. Variable:              Valuation   R-squared:                       0.075\n",
       "Model:                            OLS   Adj. R-squared:                  0.073\n",
       "Method:                 Least Squares   F-statistic:                     41.89\n",
       "Date:                Sat, 03 Sep 2022   Prob (F-statistic):           3.21e-18\n",
       "Time:                        00:04:47   Log-Likelihood:                -2300.3\n",
       "No. Observations:                1040   AIC:                             4607.\n",
       "Df Residuals:                    1037   BIC:                             4621.\n",
       "Df Model:                           2                                         \n",
       "Covariance Type:            nonrobust                                         \n",
       "==============================================================================\n",
       "                 coef    std err          t      P>|t|      [0.025      0.975]\n",
       "------------------------------------------------------------------------------\n",
       "Intercept      0.2160      0.070      3.077      0.002       0.078       0.354\n",
       "Volume      -1.61e-13   5.12e-14     -3.141      0.002   -2.62e-13   -6.04e-14\n",
       "Velocity       0.6810      0.075      9.133      0.000       0.535       0.827\n",
       "==============================================================================\n",
       "Omnibus:                     2331.489   Durbin-Watson:                   1.240\n",
       "Prob(Omnibus):                  0.000   Jarque-Bera (JB):          8546224.847\n",
       "Skew:                          19.605   Prob(JB):                         0.00\n",
       "Kurtosis:                     445.361   Cond. No.                     1.58e+12\n",
       "==============================================================================\n",
       "\n",
       "Notes:\n",
       "[1] Standard Errors assume that the covariance matrix of the errors is correctly specified.\n",
       "[2] The condition number is large, 1.58e+12. This might indicate that there are\n",
       "strong multicollinearity or other numerical problems.\n",
       "\"\"\""
      ]
     },
     "execution_count": 38,
     "metadata": {},
     "output_type": "execute_result"
    }
   ],
   "source": [
    "model2.summary()"
   ]
  },
  {
   "cell_type": "code",
   "execution_count": 39,
   "id": "aa921626-0c6f-4616-934b-3849ee7ec10b",
   "metadata": {},
   "outputs": [
    {
     "data": {
      "text/plain": [
       "(43502.188614868006, 0.2740646703913464, 158729.64783366543)"
      ]
     },
     "execution_count": 39,
     "metadata": {},
     "output_type": "execute_result"
    }
   ],
   "source": [
    "import numpy as np\n",
    "df['val_pred']=-3.726460e-01 + 2.499669e-08*df['Volume'] + 3.684614e+00*df['Velocity']\n",
    "df['RSE']=(df['Valuation']-df['val_pred'])**2\n",
    "RSEd=df.sum()['RSE']\n",
    "RSE=np.sqrt(RSEd/692)\n",
    "valmean=np.mean(df['Valuation'])\n",
    "error=RSE/valmean\n",
    "RSE,valmean,error"
   ]
  },
  {
   "cell_type": "code",
   "execution_count": 40,
   "id": "701be6b0-975e-42e4-887c-ac9e313b22a9",
   "metadata": {},
   "outputs": [
    {
     "data": {
      "text/plain": [
       "Intercept    2.230810e-01\n",
       "Volume      -1.477609e-13\n",
       "Velocity     6.786213e-01\n",
       "CirSupply   -1.635103e-14\n",
       "dtype: float64"
      ]
     },
     "execution_count": 40,
     "metadata": {},
     "output_type": "execute_result"
    }
   ],
   "source": [
    "import statsmodels.formula.api as smf\n",
    "model3=smf.ols(formula='Valuation~Volume+Velocity+CirSupply',data=df).fit()\n",
    "model3.params"
   ]
  },
  {
   "cell_type": "code",
   "execution_count": 41,
   "id": "2851f958-43ee-42ab-9e81-6f396fbebefb",
   "metadata": {},
   "outputs": [
    {
     "data": {
      "text/html": [
       "<table class=\"simpletable\">\n",
       "<caption>OLS Regression Results</caption>\n",
       "<tr>\n",
       "  <th>Dep. Variable:</th>        <td>Valuation</td>    <th>  R-squared:         </th> <td>   0.075</td>\n",
       "</tr>\n",
       "<tr>\n",
       "  <th>Model:</th>                   <td>OLS</td>       <th>  Adj. R-squared:    </th> <td>   0.072</td>\n",
       "</tr>\n",
       "<tr>\n",
       "  <th>Method:</th>             <td>Least Squares</td>  <th>  F-statistic:       </th> <td>   27.95</td>\n",
       "</tr>\n",
       "<tr>\n",
       "  <th>Date:</th>             <td>Sat, 03 Sep 2022</td> <th>  Prob (F-statistic):</th> <td>2.21e-17</td>\n",
       "</tr>\n",
       "<tr>\n",
       "  <th>Time:</th>                 <td>00:04:56</td>     <th>  Log-Likelihood:    </th> <td> -2300.2</td>\n",
       "</tr>\n",
       "<tr>\n",
       "  <th>No. Observations:</th>      <td>  1040</td>      <th>  AIC:               </th> <td>   4608.</td>\n",
       "</tr>\n",
       "<tr>\n",
       "  <th>Df Residuals:</th>          <td>  1036</td>      <th>  BIC:               </th> <td>   4628.</td>\n",
       "</tr>\n",
       "<tr>\n",
       "  <th>Df Model:</th>              <td>     3</td>      <th>                     </th>     <td> </td>   \n",
       "</tr>\n",
       "<tr>\n",
       "  <th>Covariance Type:</th>      <td>nonrobust</td>    <th>                     </th>     <td> </td>   \n",
       "</tr>\n",
       "</table>\n",
       "<table class=\"simpletable\">\n",
       "<tr>\n",
       "      <td></td>         <th>coef</th>     <th>std err</th>      <th>t</th>      <th>P>|t|</th>  <th>[0.025</th>    <th>0.975]</th>  \n",
       "</tr>\n",
       "<tr>\n",
       "  <th>Intercept</th> <td>    0.2231</td> <td>    0.073</td> <td>    3.068</td> <td> 0.002</td> <td>    0.080</td> <td>    0.366</td>\n",
       "</tr>\n",
       "<tr>\n",
       "  <th>Volume</th>    <td>-1.478e-13</td> <td> 6.22e-14</td> <td>   -2.376</td> <td> 0.018</td> <td> -2.7e-13</td> <td>-2.57e-14</td>\n",
       "</tr>\n",
       "<tr>\n",
       "  <th>Velocity</th>  <td>    0.6786</td> <td>    0.075</td> <td>    9.064</td> <td> 0.000</td> <td>    0.532</td> <td>    0.826</td>\n",
       "</tr>\n",
       "<tr>\n",
       "  <th>CirSupply</th> <td>-1.635e-14</td> <td> 4.35e-14</td> <td>   -0.376</td> <td> 0.707</td> <td>-1.02e-13</td> <td> 6.89e-14</td>\n",
       "</tr>\n",
       "</table>\n",
       "<table class=\"simpletable\">\n",
       "<tr>\n",
       "  <th>Omnibus:</th>       <td>2332.041</td> <th>  Durbin-Watson:     </th>  <td>   1.239</td>  \n",
       "</tr>\n",
       "<tr>\n",
       "  <th>Prob(Omnibus):</th>  <td> 0.000</td>  <th>  Jarque-Bera (JB):  </th> <td>8558441.443</td>\n",
       "</tr>\n",
       "<tr>\n",
       "  <th>Skew:</th>           <td>19.615</td>  <th>  Prob(JB):          </th>  <td>    0.00</td>  \n",
       "</tr>\n",
       "<tr>\n",
       "  <th>Kurtosis:</th>       <td>445.678</td> <th>  Cond. No.          </th>  <td>2.56e+12</td>  \n",
       "</tr>\n",
       "</table><br/><br/>Notes:<br/>[1] Standard Errors assume that the covariance matrix of the errors is correctly specified.<br/>[2] The condition number is large, 2.56e+12. This might indicate that there are<br/>strong multicollinearity or other numerical problems."
      ],
      "text/plain": [
       "<class 'statsmodels.iolib.summary.Summary'>\n",
       "\"\"\"\n",
       "                            OLS Regression Results                            \n",
       "==============================================================================\n",
       "Dep. Variable:              Valuation   R-squared:                       0.075\n",
       "Model:                            OLS   Adj. R-squared:                  0.072\n",
       "Method:                 Least Squares   F-statistic:                     27.95\n",
       "Date:                Sat, 03 Sep 2022   Prob (F-statistic):           2.21e-17\n",
       "Time:                        00:04:56   Log-Likelihood:                -2300.2\n",
       "No. Observations:                1040   AIC:                             4608.\n",
       "Df Residuals:                    1036   BIC:                             4628.\n",
       "Df Model:                           3                                         \n",
       "Covariance Type:            nonrobust                                         \n",
       "==============================================================================\n",
       "                 coef    std err          t      P>|t|      [0.025      0.975]\n",
       "------------------------------------------------------------------------------\n",
       "Intercept      0.2231      0.073      3.068      0.002       0.080       0.366\n",
       "Volume     -1.478e-13   6.22e-14     -2.376      0.018    -2.7e-13   -2.57e-14\n",
       "Velocity       0.6786      0.075      9.064      0.000       0.532       0.826\n",
       "CirSupply  -1.635e-14   4.35e-14     -0.376      0.707   -1.02e-13    6.89e-14\n",
       "==============================================================================\n",
       "Omnibus:                     2332.041   Durbin-Watson:                   1.239\n",
       "Prob(Omnibus):                  0.000   Jarque-Bera (JB):          8558441.443\n",
       "Skew:                          19.615   Prob(JB):                         0.00\n",
       "Kurtosis:                     445.678   Cond. No.                     2.56e+12\n",
       "==============================================================================\n",
       "\n",
       "Notes:\n",
       "[1] Standard Errors assume that the covariance matrix of the errors is correctly specified.\n",
       "[2] The condition number is large, 2.56e+12. This might indicate that there are\n",
       "strong multicollinearity or other numerical problems.\n",
       "\"\"\""
      ]
     },
     "execution_count": 41,
     "metadata": {},
     "output_type": "execute_result"
    }
   ],
   "source": [
    "model3.summary()"
   ]
  },
  {
   "cell_type": "code",
   "execution_count": 42,
   "id": "764a3f12-269d-437e-a271-f64dfd1ed80c",
   "metadata": {},
   "outputs": [
    {
     "data": {
      "text/plain": [
       "Date\n",
       "2019-10-15    0.228260\n",
       "2019-10-16    0.227243\n",
       "2019-10-17    0.227673\n",
       "2019-10-18    0.227203\n",
       "2019-10-19    0.225825\n",
       "                ...   \n",
       "2022-08-15    0.075552\n",
       "2022-08-16    0.098462\n",
       "2022-08-17    0.094340\n",
       "2022-08-18    0.089265\n",
       "2022-08-19    0.081723\n",
       "Length: 1040, dtype: float64"
      ]
     },
     "execution_count": 42,
     "metadata": {},
     "output_type": "execute_result"
    }
   ],
   "source": [
    "val_pred=model3.predict(df[['Volume','Velocity','CirSupply']])\n",
    "val_pred"
   ]
  },
  {
   "cell_type": "code",
   "execution_count": 43,
   "id": "0b3ca207-b72b-48aa-a2c5-20f387944417",
   "metadata": {},
   "outputs": [
    {
     "data": {
      "text/plain": [
       "(42555.50731082158, 0.2740646703913464, 155275.42185592584)"
      ]
     },
     "execution_count": 43,
     "metadata": {},
     "output_type": "execute_result"
    }
   ],
   "source": [
    "import numpy as np\n",
    "df['val_pred']=-0.3919 + 2.436e-08*df['Volume'] + 3.7717*df['Velocity'] + 1.105e-10*df['CirSupply']\n",
    "df['RSE']=(df['Valuation']-df['val_pred'])**2\n",
    "RSEd=df.sum()['RSE']\n",
    "RSE=np.sqrt(RSEd/692)\n",
    "valmean=np.mean(df['Valuation'])\n",
    "error=RSE/valmean\n",
    "RSE,valmean,error"
   ]
  },
  {
   "cell_type": "code",
   "execution_count": 44,
   "id": "a2c8e885-9ec0-4985-a08b-fcb0a930c4f9",
   "metadata": {},
   "outputs": [
    {
     "data": {
      "text/plain": [
       "1.5973391009441815"
      ]
     },
     "execution_count": 44,
     "metadata": {},
     "output_type": "execute_result"
    }
   ],
   "source": [
    "model4=smf.ols(formula='Volume~Velocity+CirSupply',data=df).fit()\n",
    "rsquared=model4.rsquared \n",
    "VIF=1/(1-rsquared)\n",
    "VIF"
   ]
  },
  {
   "cell_type": "markdown",
   "id": "1c4fbcd7-5dcc-4739-96db-4464ece7aef6",
   "metadata": {},
   "source": [
    "# Polynomial Regression"
   ]
  },
  {
   "cell_type": "code",
   "execution_count": 45,
   "id": "dbf2208f-0701-4c07-a2ce-23aaedabe01a",
   "metadata": {},
   "outputs": [],
   "source": [
    "from sklearn.preprocessing import PolynomialFeatures\n",
    "from sklearn.pipeline import make_pipeline"
   ]
  },
  {
   "cell_type": "code",
   "execution_count": 46,
   "id": "d6b8dcb3-1fad-4ede-81bf-3b66648d1a8c",
   "metadata": {},
   "outputs": [],
   "source": [
    "x=df.Volume\n",
    "y=df.Valuation"
   ]
  },
  {
   "cell_type": "code",
   "execution_count": 47,
   "id": "216504b0-66d2-43ea-99f8-7859c21b18a7",
   "metadata": {},
   "outputs": [],
   "source": [
    "degree=2\n",
    "model5=make_pipeline (PolynomialFeatures (degree), lr)"
   ]
  },
  {
   "cell_type": "code",
   "execution_count": 48,
   "id": "41a27812-c286-4178-aae3-5fb89b9c784f",
   "metadata": {},
   "outputs": [],
   "source": [
    "x = df.iloc[:, 1].values\n",
    "y = df.iloc[:, 4].values\n",
    "\n",
    "x = x.reshape (-1, 1) #reshape to column"
   ]
  },
  {
   "cell_type": "code",
   "execution_count": 49,
   "id": "4f95b03e-f5c5-4f26-b1b4-378ffb909e1c",
   "metadata": {},
   "outputs": [
    {
     "data": {
      "text/html": [
       "<style>#sk-container-id-2 {color: black;background-color: white;}#sk-container-id-2 pre{padding: 0;}#sk-container-id-2 div.sk-toggleable {background-color: white;}#sk-container-id-2 label.sk-toggleable__label {cursor: pointer;display: block;width: 100%;margin-bottom: 0;padding: 0.3em;box-sizing: border-box;text-align: center;}#sk-container-id-2 label.sk-toggleable__label-arrow:before {content: \"▸\";float: left;margin-right: 0.25em;color: #696969;}#sk-container-id-2 label.sk-toggleable__label-arrow:hover:before {color: black;}#sk-container-id-2 div.sk-estimator:hover label.sk-toggleable__label-arrow:before {color: black;}#sk-container-id-2 div.sk-toggleable__content {max-height: 0;max-width: 0;overflow: hidden;text-align: left;background-color: #f0f8ff;}#sk-container-id-2 div.sk-toggleable__content pre {margin: 0.2em;color: black;border-radius: 0.25em;background-color: #f0f8ff;}#sk-container-id-2 input.sk-toggleable__control:checked~div.sk-toggleable__content {max-height: 200px;max-width: 100%;overflow: auto;}#sk-container-id-2 input.sk-toggleable__control:checked~label.sk-toggleable__label-arrow:before {content: \"▾\";}#sk-container-id-2 div.sk-estimator input.sk-toggleable__control:checked~label.sk-toggleable__label {background-color: #d4ebff;}#sk-container-id-2 div.sk-label input.sk-toggleable__control:checked~label.sk-toggleable__label {background-color: #d4ebff;}#sk-container-id-2 input.sk-hidden--visually {border: 0;clip: rect(1px 1px 1px 1px);clip: rect(1px, 1px, 1px, 1px);height: 1px;margin: -1px;overflow: hidden;padding: 0;position: absolute;width: 1px;}#sk-container-id-2 div.sk-estimator {font-family: monospace;background-color: #f0f8ff;border: 1px dotted black;border-radius: 0.25em;box-sizing: border-box;margin-bottom: 0.5em;}#sk-container-id-2 div.sk-estimator:hover {background-color: #d4ebff;}#sk-container-id-2 div.sk-parallel-item::after {content: \"\";width: 100%;border-bottom: 1px solid gray;flex-grow: 1;}#sk-container-id-2 div.sk-label:hover label.sk-toggleable__label {background-color: #d4ebff;}#sk-container-id-2 div.sk-serial::before {content: \"\";position: absolute;border-left: 1px solid gray;box-sizing: border-box;top: 0;bottom: 0;left: 50%;z-index: 0;}#sk-container-id-2 div.sk-serial {display: flex;flex-direction: column;align-items: center;background-color: white;padding-right: 0.2em;padding-left: 0.2em;position: relative;}#sk-container-id-2 div.sk-item {position: relative;z-index: 1;}#sk-container-id-2 div.sk-parallel {display: flex;align-items: stretch;justify-content: center;background-color: white;position: relative;}#sk-container-id-2 div.sk-item::before, #sk-container-id-2 div.sk-parallel-item::before {content: \"\";position: absolute;border-left: 1px solid gray;box-sizing: border-box;top: 0;bottom: 0;left: 50%;z-index: -1;}#sk-container-id-2 div.sk-parallel-item {display: flex;flex-direction: column;z-index: 1;position: relative;background-color: white;}#sk-container-id-2 div.sk-parallel-item:first-child::after {align-self: flex-end;width: 50%;}#sk-container-id-2 div.sk-parallel-item:last-child::after {align-self: flex-start;width: 50%;}#sk-container-id-2 div.sk-parallel-item:only-child::after {width: 0;}#sk-container-id-2 div.sk-dashed-wrapped {border: 1px dashed gray;margin: 0 0.4em 0.5em 0.4em;box-sizing: border-box;padding-bottom: 0.4em;background-color: white;}#sk-container-id-2 div.sk-label label {font-family: monospace;font-weight: bold;display: inline-block;line-height: 1.2em;}#sk-container-id-2 div.sk-label-container {text-align: center;}#sk-container-id-2 div.sk-container {/* jupyter's `normalize.less` sets `[hidden] { display: none; }` but bootstrap.min.css set `[hidden] { display: none !important; }` so we also need the `!important` here to be able to override the default hidden behavior on the sphinx rendered scikit-learn.org. See: https://github.com/scikit-learn/scikit-learn/issues/21755 */display: inline-block !important;position: relative;}#sk-container-id-2 div.sk-text-repr-fallback {display: none;}</style><div id=\"sk-container-id-2\" class=\"sk-top-container\"><div class=\"sk-text-repr-fallback\"><pre>Pipeline(steps=[(&#x27;polynomialfeatures&#x27;, PolynomialFeatures()),\n",
       "                (&#x27;linearregression&#x27;, LinearRegression())])</pre><b>In a Jupyter environment, please rerun this cell to show the HTML representation or trust the notebook. <br />On GitHub, the HTML representation is unable to render, please try loading this page with nbviewer.org.</b></div><div class=\"sk-container\" hidden><div class=\"sk-item sk-dashed-wrapped\"><div class=\"sk-label-container\"><div class=\"sk-label sk-toggleable\"><input class=\"sk-toggleable__control sk-hidden--visually\" id=\"sk-estimator-id-2\" type=\"checkbox\" ><label for=\"sk-estimator-id-2\" class=\"sk-toggleable__label sk-toggleable__label-arrow\">Pipeline</label><div class=\"sk-toggleable__content\"><pre>Pipeline(steps=[(&#x27;polynomialfeatures&#x27;, PolynomialFeatures()),\n",
       "                (&#x27;linearregression&#x27;, LinearRegression())])</pre></div></div></div><div class=\"sk-serial\"><div class=\"sk-item\"><div class=\"sk-estimator sk-toggleable\"><input class=\"sk-toggleable__control sk-hidden--visually\" id=\"sk-estimator-id-3\" type=\"checkbox\" ><label for=\"sk-estimator-id-3\" class=\"sk-toggleable__label sk-toggleable__label-arrow\">PolynomialFeatures</label><div class=\"sk-toggleable__content\"><pre>PolynomialFeatures()</pre></div></div></div><div class=\"sk-item\"><div class=\"sk-estimator sk-toggleable\"><input class=\"sk-toggleable__control sk-hidden--visually\" id=\"sk-estimator-id-4\" type=\"checkbox\" ><label for=\"sk-estimator-id-4\" class=\"sk-toggleable__label sk-toggleable__label-arrow\">LinearRegression</label><div class=\"sk-toggleable__content\"><pre>LinearRegression()</pre></div></div></div></div></div></div></div>"
      ],
      "text/plain": [
       "Pipeline(steps=[('polynomialfeatures', PolynomialFeatures()),\n",
       "                ('linearregression', LinearRegression())])"
      ]
     },
     "execution_count": 49,
     "metadata": {},
     "output_type": "execute_result"
    }
   ],
   "source": [
    "model5.fit (x,y)"
   ]
  },
  {
   "cell_type": "code",
   "execution_count": 51,
   "id": "583dfe37-5611-4e84-a05b-24482bfcf662",
   "metadata": {},
   "outputs": [
    {
     "data": {
      "text/plain": [
       "Text(0.5, 8.959999999999994, 'Volume')"
      ]
     },
     "execution_count": 51,
     "metadata": {},
     "output_type": "execute_result"
    },
    {
     "data": {
      "image/png": "[encoded data removed]",
      "text/plain": [
       "<Figure size 288x288 with 1 Axes>"
      ]
     },
     "metadata": {},
     "output_type": "display_data"
    }
   ],
   "source": [
    "import seaborn as sns\n",
    "sns.set_theme(style=\"ticks\")\n",
    "sns.relplot(x=\"Volume\", y=\"Valuation\", alpha=.7, palette=\"muted\",\n",
    "            height=4, data=df)\n",
    "plt.plot (x, model5.predict (x), color='black', linewidth=.5)\n",
    "plt.title ('LUNC')\n",
    "plt.ylabel ('Valuation')\n",
    "plt.xlabel ('Volume')"
   ]
  },
  {
   "cell_type": "code",
   "execution_count": 53,
   "id": "e62c3a69-273d-4082-ac09-398e912141fd",
   "metadata": {},
   "outputs": [
    {
     "data": {
      "text/plain": [
       "Text(0.5, 8.959999999999994, 'Circulation Supply')"
      ]
     },
     "execution_count": 53,
     "metadata": {},
     "output_type": "execute_result"
    },
    {
     "data": {
      "image/png": "[encoded data removed]",
      "text/plain": [
       "<Figure size 288x288 with 1 Axes>"
      ]
     },
     "metadata": {},
     "output_type": "display_data"
    }
   ],
   "source": [
    "import seaborn as sns\n",
    "sns.set_theme(style=\"ticks\")\n",
    "sns.relplot(x=\"CirSupply\", y=\"Valuation\", alpha=.7, palette=\"muted\",\n",
    "            height=4, data=df)\n",
    "plt.title ('LUNK')\n",
    "plt.ylabel ('Valuation')\n",
    "plt.xlabel ('Circulation Supply')"
   ]
  },
  {
   "cell_type": "code",
   "execution_count": null,
   "id": "cb4d5ecf-e722-4f97-ae09-070f57e8a56b",
   "metadata": {},
   "outputs": [],
   "source": []
  }
 ],
 "metadata": {
  "kernelspec": {
   "display_name": "Python 3 (ipykernel)",
   "language": "python",
   "name": "python3"
  },
  "language_info": {
   "codemirror_mode": {
    "name": "ipython",
    "version": 3
   },
   "file_extension": ".py",
   "mimetype": "text/x-python",
   "name": "python",
   "nbconvert_exporter": "python",
   "pygments_lexer": "ipython3",
   "version": "3.9.7"
  }
 },
 "nbformat": 4,
 "nbformat_minor": 5
}
